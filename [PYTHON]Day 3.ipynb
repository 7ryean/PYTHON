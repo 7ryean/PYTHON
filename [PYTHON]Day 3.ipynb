{
  "nbformat": 4,
  "nbformat_minor": 0,
  "metadata": {
    "colab": {
      "name": "[PYTHON] Day3.ipynb",
      "provenance": [],
      "collapsed_sections": [],
      "authorship_tag": "ABX9TyM+t0LzIJoi7y/eLJCGHg11",
      "include_colab_link": true
    },
    "kernelspec": {
      "name": "python3",
      "display_name": "Python 3"
    }
  },
  "cells": [
    {
      "cell_type": "markdown",
      "metadata": {
        "id": "view-in-github",
        "colab_type": "text"
      },
      "source": [
        "<a href=\"https://colab.research.google.com/github/7ryean/PYTHON/blob/main/%5BPYTHON%5DDay%203.ipynb\" target=\"_parent\"><img src=\"https://colab.research.google.com/assets/colab-badge.svg\" alt=\"Open In Colab\"/></a>"
      ]
    },
    {
      "cell_type": "markdown",
      "metadata": {
        "id": "id6qcxE_Kq2b"
      },
      "source": [
        "# **파이썬 프로그래밍의 기초, 자료형**"
      ]
    },
    {
      "cell_type": "markdown",
      "metadata": {
        "id": "KNd0cfu_K4Gu"
      },
      "source": [
        "# 04. 튜플 "
      ]
    },
    {
      "cell_type": "markdown",
      "metadata": {
        "id": "DF9InH58K9MA"
      },
      "source": [
        "튜플 : 리스트와 비슷한 역할을 하지만 리스트와 달리 값을 변화시킬 수 없음"
      ]
    },
    {
      "cell_type": "markdown",
      "metadata": {
        "id": "KgerziF6LlCf"
      },
      "source": [
        "(1) 튜플 만들기"
      ]
    },
    {
      "cell_type": "code",
      "metadata": {
        "id": "tC6JzFiFKj8r"
      },
      "source": [
        "t1 = ()"
      ],
      "execution_count": 1,
      "outputs": []
    },
    {
      "cell_type": "code",
      "metadata": {
        "id": "CIP44hx8LJIw"
      },
      "source": [
        "t2 = (1,)   # 단지 1개의 요소만을 가질 때는 요소 뒤에 콤마(,)를 반드시 붙여야 함"
      ],
      "execution_count": 2,
      "outputs": []
    },
    {
      "cell_type": "code",
      "metadata": {
        "id": "YeQgZNltLMQf"
      },
      "source": [
        "t3 = (1, 2, 3)"
      ],
      "execution_count": 3,
      "outputs": []
    },
    {
      "cell_type": "code",
      "metadata": {
        "id": "fYQl6zDTLOJf"
      },
      "source": [
        "t4 = 1, 2, 3   # 괄호()를 생략해도 무방함"
      ],
      "execution_count": 4,
      "outputs": []
    },
    {
      "cell_type": "code",
      "metadata": {
        "id": "SM4O18SrLPRa"
      },
      "source": [
        "t5 = ('a', 'b', ('ab', 'cd'))"
      ],
      "execution_count": 5,
      "outputs": []
    },
    {
      "cell_type": "markdown",
      "metadata": {
        "id": "6h-y04XuLgEG"
      },
      "source": [
        "(2) 튜플 요솟값을 지우거나 변경"
      ]
    },
    {
      "cell_type": "markdown",
      "metadata": {
        "id": "TXwZvz0LLorS"
      },
      "source": [
        "- 튜플 요솟값 삭제"
      ]
    },
    {
      "cell_type": "code",
      "metadata": {
        "id": "Pk-xz-70LSzw"
      },
      "source": [
        "t1 = (1, 2, 'a', 'b')"
      ],
      "execution_count": 6,
      "outputs": []
    },
    {
      "cell_type": "code",
      "metadata": {
        "colab": {
          "base_uri": "https://localhost:8080/",
          "height": 171
        },
        "id": "7U-I6Ky4Lvh_",
        "outputId": "1761276f-acd2-4934-829f-ca60d40929b5"
      },
      "source": [
        "del t1[0]   # 삭제 불가, 형 오류 발생"
      ],
      "execution_count": 7,
      "outputs": [
        {
          "output_type": "error",
          "ename": "TypeError",
          "evalue": "ignored",
          "traceback": [
            "\u001b[0;31m---------------------------------------------------------------------------\u001b[0m",
            "\u001b[0;31mTypeError\u001b[0m                                 Traceback (most recent call last)",
            "\u001b[0;32m<ipython-input-7-8940bcde932e>\u001b[0m in \u001b[0;36m<module>\u001b[0;34m()\u001b[0m\n\u001b[0;32m----> 1\u001b[0;31m \u001b[0;32mdel\u001b[0m \u001b[0mt1\u001b[0m\u001b[0;34m[\u001b[0m\u001b[0;36m0\u001b[0m\u001b[0;34m]\u001b[0m\u001b[0;34m\u001b[0m\u001b[0;34m\u001b[0m\u001b[0m\n\u001b[0m",
            "\u001b[0;31mTypeError\u001b[0m: 'tuple' object doesn't support item deletion"
          ]
        }
      ]
    },
    {
      "cell_type": "markdown",
      "metadata": {
        "id": "L8-6pSKVL29R"
      },
      "source": [
        "- 튜플 요솟값 변경"
      ]
    },
    {
      "cell_type": "code",
      "metadata": {
        "id": "ZR8RO9aWLx2K"
      },
      "source": [
        "t1 = (1, 2, 'a', 'b')"
      ],
      "execution_count": 8,
      "outputs": []
    },
    {
      "cell_type": "code",
      "metadata": {
        "colab": {
          "base_uri": "https://localhost:8080/",
          "height": 171
        },
        "id": "YyrqUeroL69M",
        "outputId": "c30b0af4-fd9f-4f60-d14a-f01e1aeb85e1"
      },
      "source": [
        "t1[0] = c   # 변경 불가, 형 오류 발생"
      ],
      "execution_count": 9,
      "outputs": [
        {
          "output_type": "error",
          "ename": "NameError",
          "evalue": "ignored",
          "traceback": [
            "\u001b[0;31m---------------------------------------------------------------------------\u001b[0m",
            "\u001b[0;31mNameError\u001b[0m                                 Traceback (most recent call last)",
            "\u001b[0;32m<ipython-input-9-e6007a899c0f>\u001b[0m in \u001b[0;36m<module>\u001b[0;34m()\u001b[0m\n\u001b[0;32m----> 1\u001b[0;31m \u001b[0mt1\u001b[0m\u001b[0;34m[\u001b[0m\u001b[0;36m0\u001b[0m\u001b[0;34m]\u001b[0m \u001b[0;34m=\u001b[0m \u001b[0mc\u001b[0m\u001b[0;34m\u001b[0m\u001b[0;34m\u001b[0m\u001b[0m\n\u001b[0m",
            "\u001b[0;31mNameError\u001b[0m: name 'c' is not defined"
          ]
        }
      ]
    },
    {
      "cell_type": "markdown",
      "metadata": {
        "id": "bUG6iuS4MAv3"
      },
      "source": [
        "(3) 튜플 다루기"
      ]
    },
    {
      "cell_type": "markdown",
      "metadata": {
        "id": "BpUtsU11MCjC"
      },
      "source": [
        "- 인덱싱"
      ]
    },
    {
      "cell_type": "code",
      "metadata": {
        "id": "46i-0QNgL8vO"
      },
      "source": [
        "t1 = (1, 2, 'a', 'b')"
      ],
      "execution_count": 10,
      "outputs": []
    },
    {
      "cell_type": "code",
      "metadata": {
        "colab": {
          "base_uri": "https://localhost:8080/"
        },
        "id": "CBM9-Me3MI9b",
        "outputId": "a473457a-af8d-463f-d136-0f3d9f42cc1e"
      },
      "source": [
        "t1[0]"
      ],
      "execution_count": 11,
      "outputs": [
        {
          "output_type": "execute_result",
          "data": {
            "text/plain": [
              "1"
            ]
          },
          "metadata": {
            "tags": []
          },
          "execution_count": 11
        }
      ]
    },
    {
      "cell_type": "code",
      "metadata": {
        "colab": {
          "base_uri": "https://localhost:8080/",
          "height": 35
        },
        "id": "NtzwLJ7eMKSx",
        "outputId": "281111e1-f6ff-46a2-9e49-be52ef6c8afe"
      },
      "source": [
        "t1[3]   # 문자열, 리스트와 마찬가지로 인덱싱 가능"
      ],
      "execution_count": 12,
      "outputs": [
        {
          "output_type": "execute_result",
          "data": {
            "application/vnd.google.colaboratory.intrinsic+json": {
              "type": "string"
            },
            "text/plain": [
              "'b'"
            ]
          },
          "metadata": {
            "tags": []
          },
          "execution_count": 12
        }
      ]
    },
    {
      "cell_type": "markdown",
      "metadata": {
        "id": "7XjxPy7MMPR4"
      },
      "source": [
        "- 슬라이싱"
      ]
    },
    {
      "cell_type": "code",
      "metadata": {
        "id": "R3VZhZs4MLKK"
      },
      "source": [
        "t1 = (1, 2, 'a', 'b')"
      ],
      "execution_count": 13,
      "outputs": []
    },
    {
      "cell_type": "code",
      "metadata": {
        "colab": {
          "base_uri": "https://localhost:8080/"
        },
        "id": "DPzD2055MRU9",
        "outputId": "860f97a2-8771-4798-d8c2-9230ffceb98a"
      },
      "source": [
        "t1[1:]"
      ],
      "execution_count": 14,
      "outputs": [
        {
          "output_type": "execute_result",
          "data": {
            "text/plain": [
              "(2, 'a', 'b')"
            ]
          },
          "metadata": {
            "tags": []
          },
          "execution_count": 14
        }
      ]
    },
    {
      "cell_type": "markdown",
      "metadata": {
        "id": "hwQzy7HeMUIa"
      },
      "source": [
        "- 튜플 더하기"
      ]
    },
    {
      "cell_type": "code",
      "metadata": {
        "id": "lNLc2EIcMS6G"
      },
      "source": [
        "t2 = (3, 4)"
      ],
      "execution_count": 15,
      "outputs": []
    },
    {
      "cell_type": "code",
      "metadata": {
        "colab": {
          "base_uri": "https://localhost:8080/"
        },
        "id": "xjsY5eVjMW3E",
        "outputId": "24a1fce2-a671-45a2-bc64-678041c45e16"
      },
      "source": [
        "t1 + t2"
      ],
      "execution_count": 16,
      "outputs": [
        {
          "output_type": "execute_result",
          "data": {
            "text/plain": [
              "(1, 2, 'a', 'b', 3, 4)"
            ]
          },
          "metadata": {
            "tags": []
          },
          "execution_count": 16
        }
      ]
    },
    {
      "cell_type": "markdown",
      "metadata": {
        "id": "6QW71YLKMZsI"
      },
      "source": [
        "- 튜플 곱하기"
      ]
    },
    {
      "cell_type": "code",
      "metadata": {
        "colab": {
          "base_uri": "https://localhost:8080/"
        },
        "id": "-ifTleqRMX87",
        "outputId": "ade46a7b-0bc0-40a5-dbfd-6fad3babc59c"
      },
      "source": [
        "t2 * 3"
      ],
      "execution_count": 17,
      "outputs": [
        {
          "output_type": "execute_result",
          "data": {
            "text/plain": [
              "(3, 4, 3, 4, 3, 4)"
            ]
          },
          "metadata": {
            "tags": []
          },
          "execution_count": 17
        }
      ]
    },
    {
      "cell_type": "markdown",
      "metadata": {
        "id": "5A4my_NzMdHQ"
      },
      "source": [
        "- 튜플 길이 구하기"
      ]
    },
    {
      "cell_type": "code",
      "metadata": {
        "id": "n8MYna83Mb6Q"
      },
      "source": [
        "t1 = (1, 2, 'a', 'b')"
      ],
      "execution_count": 18,
      "outputs": []
    },
    {
      "cell_type": "code",
      "metadata": {
        "colab": {
          "base_uri": "https://localhost:8080/"
        },
        "id": "B9B4eu47Mfzq",
        "outputId": "a27b9584-3db2-492b-8d9b-4766f64dc045"
      },
      "source": [
        "len(t1)"
      ],
      "execution_count": 19,
      "outputs": [
        {
          "output_type": "execute_result",
          "data": {
            "text/plain": [
              "4"
            ]
          },
          "metadata": {
            "tags": []
          },
          "execution_count": 19
        }
      ]
    },
    {
      "cell_type": "markdown",
      "metadata": {
        "id": "GEjVVkSrMiYe"
      },
      "source": [
        "[ 연습 문제 ] : (1,2,3)이라는 튜플에 값 4를 추가하여 (1,2,3,4)를 만들어 출력해보자"
      ]
    },
    {
      "cell_type": "code",
      "metadata": {
        "id": "ZIX0wotJMg39"
      },
      "source": [
        "tt = (1,2,3)"
      ],
      "execution_count": 20,
      "outputs": []
    },
    {
      "cell_type": "code",
      "metadata": {
        "id": "4kvn6QXBMrkY"
      },
      "source": [
        "t = (4,)   # 처음에 요소 뒤에 콤마(,)를 붙이지 않아 오류가 떴었음. 요솟값이 하나일때는 꼭 주의할 것"
      ],
      "execution_count": 23,
      "outputs": []
    },
    {
      "cell_type": "code",
      "metadata": {
        "colab": {
          "base_uri": "https://localhost:8080/"
        },
        "id": "QSOe6oMiMtFx",
        "outputId": "293f31f5-1b02-43b3-e05d-8c53a325f9a4"
      },
      "source": [
        "tt + t"
      ],
      "execution_count": 24,
      "outputs": [
        {
          "output_type": "execute_result",
          "data": {
            "text/plain": [
              "(1, 2, 3, 4)"
            ]
          },
          "metadata": {
            "tags": []
          },
          "execution_count": 24
        }
      ]
    },
    {
      "cell_type": "markdown",
      "metadata": {
        "id": "k_VBTAQYM84Y"
      },
      "source": [
        "# 05. 딕셔너리"
      ]
    },
    {
      "cell_type": "markdown",
      "metadata": {
        "id": "coyInX6mNDy4"
      },
      "source": [
        "딕셔너리 : 대응관계를 나타내는 자료형, 연관 배열 또는 해시, Key와 Value를 한 쌍으로 갖는 자료형"
      ]
    },
    {
      "cell_type": "markdown",
      "metadata": {
        "id": "qzR5irNpNV1q"
      },
      "source": [
        "(1) 딕셔너리 만들기"
      ]
    },
    {
      "cell_type": "code",
      "metadata": {
        "id": "0T5zGQ4VMuT_"
      },
      "source": [
        "dic = {'name' : 'pey', 'phone' : '0119993323', 'birth' : '1118'}"
      ],
      "execution_count": 25,
      "outputs": []
    },
    {
      "cell_type": "code",
      "metadata": {
        "colab": {
          "base_uri": "https://localhost:8080/"
        },
        "id": "b8IVuksqNiSA",
        "outputId": "c0f29d2e-9d4a-4a70-e789-478af7a74b61"
      },
      "source": [
        "dic"
      ],
      "execution_count": 26,
      "outputs": [
        {
          "output_type": "execute_result",
          "data": {
            "text/plain": [
              "{'birth': '1118', 'name': 'pey', 'phone': '0119993323'}"
            ]
          },
          "metadata": {
            "tags": []
          },
          "execution_count": 26
        }
      ]
    },
    {
      "cell_type": "code",
      "metadata": {
        "id": "Lp5La1kLNi4e"
      },
      "source": [
        "a = { 1 : 'hi'}   # Key로 정수값 1, Value로 문자열 'hi'를 사용"
      ],
      "execution_count": 27,
      "outputs": []
    },
    {
      "cell_type": "code",
      "metadata": {
        "colab": {
          "base_uri": "https://localhost:8080/"
        },
        "id": "ix-BTeoNNnrD",
        "outputId": "92b76e1a-fad7-4288-ff91-2d8bc7355d86"
      },
      "source": [
        "a"
      ],
      "execution_count": 28,
      "outputs": [
        {
          "output_type": "execute_result",
          "data": {
            "text/plain": [
              "{1: 'hi'}"
            ]
          },
          "metadata": {
            "tags": []
          },
          "execution_count": 28
        }
      ]
    },
    {
      "cell_type": "code",
      "metadata": {
        "id": "ziaHDUYiNoHl"
      },
      "source": [
        "a = {'a' : [1, 2, 3]}   # Value에 리스트 사용"
      ],
      "execution_count": 29,
      "outputs": []
    },
    {
      "cell_type": "markdown",
      "metadata": {
        "id": "fhK1qnAmN1qv"
      },
      "source": [
        "(2) 딕셔너리 쌍 추가, 삭제하기"
      ]
    },
    {
      "cell_type": "markdown",
      "metadata": {
        "id": "HJ460J24N3a8"
      },
      "source": [
        "- 딕셔너리 쌍 추가"
      ]
    },
    {
      "cell_type": "code",
      "metadata": {
        "id": "mjlZOZHaNqsT"
      },
      "source": [
        "a = { 1 : 'a'}"
      ],
      "execution_count": 30,
      "outputs": []
    },
    {
      "cell_type": "code",
      "metadata": {
        "id": "6-PPu4Y4N8yF"
      },
      "source": [
        "a[2] = 'b'"
      ],
      "execution_count": 31,
      "outputs": []
    },
    {
      "cell_type": "code",
      "metadata": {
        "colab": {
          "base_uri": "https://localhost:8080/"
        },
        "id": "PPbwyLPIN-iW",
        "outputId": "29eabf22-e638-4697-e30f-af5b57e3e3ed"
      },
      "source": [
        "a"
      ],
      "execution_count": 32,
      "outputs": [
        {
          "output_type": "execute_result",
          "data": {
            "text/plain": [
              "{1: 'a', 2: 'b'}"
            ]
          },
          "metadata": {
            "tags": []
          },
          "execution_count": 32
        }
      ]
    },
    {
      "cell_type": "code",
      "metadata": {
        "id": "z_pX1ZgaN_GR"
      },
      "source": [
        "a['name'] = 'pey'"
      ],
      "execution_count": 33,
      "outputs": []
    },
    {
      "cell_type": "code",
      "metadata": {
        "colab": {
          "base_uri": "https://localhost:8080/"
        },
        "id": "YQJaXZvmODv5",
        "outputId": "23ec28ee-d6df-426a-b8ad-e4893b027404"
      },
      "source": [
        "a"
      ],
      "execution_count": 34,
      "outputs": [
        {
          "output_type": "execute_result",
          "data": {
            "text/plain": [
              "{1: 'a', 2: 'b', 'name': 'pey'}"
            ]
          },
          "metadata": {
            "tags": []
          },
          "execution_count": 34
        }
      ]
    },
    {
      "cell_type": "code",
      "metadata": {
        "id": "IoX3t-VbOEFD"
      },
      "source": [
        "a[3] = [1, 2, 3]"
      ],
      "execution_count": 35,
      "outputs": []
    },
    {
      "cell_type": "code",
      "metadata": {
        "colab": {
          "base_uri": "https://localhost:8080/"
        },
        "id": "F3zgzd8WOGy2",
        "outputId": "d9054f07-35aa-4ed4-f69c-c88bb6441c12"
      },
      "source": [
        "a"
      ],
      "execution_count": 36,
      "outputs": [
        {
          "output_type": "execute_result",
          "data": {
            "text/plain": [
              "{1: 'a', 2: 'b', 3: [1, 2, 3], 'name': 'pey'}"
            ]
          },
          "metadata": {
            "tags": []
          },
          "execution_count": 36
        }
      ]
    },
    {
      "cell_type": "markdown",
      "metadata": {
        "id": "w4DP3-W0OIIs"
      },
      "source": [
        "- 딕셔너리 요소 삭제"
      ]
    },
    {
      "cell_type": "code",
      "metadata": {
        "id": "xIYblKcVOHSu"
      },
      "source": [
        "del a[1]   # {Key : Value} 한 쌍이 삭제"
      ],
      "execution_count": 37,
      "outputs": []
    },
    {
      "cell_type": "code",
      "metadata": {
        "colab": {
          "base_uri": "https://localhost:8080/"
        },
        "id": "BxiLMjyOOLhm",
        "outputId": "1e74dbe5-b6ac-48e4-b32e-7757b2ab22b2"
      },
      "source": [
        "a"
      ],
      "execution_count": 38,
      "outputs": [
        {
          "output_type": "execute_result",
          "data": {
            "text/plain": [
              "{2: 'b', 3: [1, 2, 3], 'name': 'pey'}"
            ]
          },
          "metadata": {
            "tags": []
          },
          "execution_count": 38
        }
      ]
    },
    {
      "cell_type": "markdown",
      "metadata": {
        "id": "Zd3HM7g8OTLC"
      },
      "source": [
        "(3) 딕셔너리 사용 방법"
      ]
    },
    {
      "cell_type": "markdown",
      "metadata": {
        "id": "vrp4gkH1OYzu"
      },
      "source": [
        "- 딕셔너리에서 Key 사용해 Value 얻기"
      ]
    },
    {
      "cell_type": "code",
      "metadata": {
        "id": "vb5jPm-MOL7t"
      },
      "source": [
        "grade = {'pey' : 10, 'juliet' : 99}"
      ],
      "execution_count": 39,
      "outputs": []
    },
    {
      "cell_type": "code",
      "metadata": {
        "colab": {
          "base_uri": "https://localhost:8080/"
        },
        "id": "4OdUgkSnOhER",
        "outputId": "e31d556c-1140-4b6d-83e6-cdbe5d3acb4d"
      },
      "source": [
        "grade['pey']   # Key가 'pey'인 Value를 반환"
      ],
      "execution_count": 40,
      "outputs": [
        {
          "output_type": "execute_result",
          "data": {
            "text/plain": [
              "10"
            ]
          },
          "metadata": {
            "tags": []
          },
          "execution_count": 40
        }
      ]
    },
    {
      "cell_type": "code",
      "metadata": {
        "colab": {
          "base_uri": "https://localhost:8080/"
        },
        "id": "XKMaEMI7Oiny",
        "outputId": "0c0acb1a-a5c4-4efa-d4ce-f75bb5981167"
      },
      "source": [
        "grade['juliet']   # Key가 'juliet'인 Value를 반환"
      ],
      "execution_count": 41,
      "outputs": [
        {
          "output_type": "execute_result",
          "data": {
            "text/plain": [
              "99"
            ]
          },
          "metadata": {
            "tags": []
          },
          "execution_count": 41
        }
      ]
    },
    {
      "cell_type": "code",
      "metadata": {
        "id": "2_Wi7Ks-OkDL"
      },
      "source": [
        "a = {1 : 'a', 2 : 'b'}"
      ],
      "execution_count": 42,
      "outputs": []
    },
    {
      "cell_type": "code",
      "metadata": {
        "colab": {
          "base_uri": "https://localhost:8080/",
          "height": 35
        },
        "id": "CdYCTBsEOy-3",
        "outputId": "76481264-cc5c-4032-e6fa-494ba24c8d08"
      },
      "source": [
        "a[1]"
      ],
      "execution_count": 43,
      "outputs": [
        {
          "output_type": "execute_result",
          "data": {
            "application/vnd.google.colaboratory.intrinsic+json": {
              "type": "string"
            },
            "text/plain": [
              "'a'"
            ]
          },
          "metadata": {
            "tags": []
          },
          "execution_count": 43
        }
      ]
    },
    {
      "cell_type": "code",
      "metadata": {
        "colab": {
          "base_uri": "https://localhost:8080/",
          "height": 35
        },
        "id": "8spnRZJAOzuW",
        "outputId": "d26887f9-04fd-4c13-e995-473c9f24b77d"
      },
      "source": [
        "a[2]"
      ],
      "execution_count": 44,
      "outputs": [
        {
          "output_type": "execute_result",
          "data": {
            "application/vnd.google.colaboratory.intrinsic+json": {
              "type": "string"
            },
            "text/plain": [
              "'b'"
            ]
          },
          "metadata": {
            "tags": []
          },
          "execution_count": 44
        }
      ]
    },
    {
      "cell_type": "code",
      "metadata": {
        "id": "i_kimsYhO3R2"
      },
      "source": [
        "a = {'a' : 1, 'b' : 2}"
      ],
      "execution_count": 46,
      "outputs": []
    },
    {
      "cell_type": "code",
      "metadata": {
        "colab": {
          "base_uri": "https://localhost:8080/"
        },
        "id": "EbxovUH1O7np",
        "outputId": "47079f01-e546-4a0a-8f7d-ce968fd5f8e4"
      },
      "source": [
        "a['a']"
      ],
      "execution_count": 47,
      "outputs": [
        {
          "output_type": "execute_result",
          "data": {
            "text/plain": [
              "1"
            ]
          },
          "metadata": {
            "tags": []
          },
          "execution_count": 47
        }
      ]
    },
    {
      "cell_type": "code",
      "metadata": {
        "colab": {
          "base_uri": "https://localhost:8080/"
        },
        "id": "BiJqIqkSO-Ih",
        "outputId": "ba42e779-d831-4916-b6a4-331ae593b559"
      },
      "source": [
        "a['b']"
      ],
      "execution_count": 48,
      "outputs": [
        {
          "output_type": "execute_result",
          "data": {
            "text/plain": [
              "2"
            ]
          },
          "metadata": {
            "tags": []
          },
          "execution_count": 48
        }
      ]
    },
    {
      "cell_type": "code",
      "metadata": {
        "colab": {
          "base_uri": "https://localhost:8080/",
          "height": 35
        },
        "id": "SWeTqHJEO-6e",
        "outputId": "7160e66a-975e-40eb-8f6c-4f5e1e136a41"
      },
      "source": [
        "dic['name']"
      ],
      "execution_count": 49,
      "outputs": [
        {
          "output_type": "execute_result",
          "data": {
            "application/vnd.google.colaboratory.intrinsic+json": {
              "type": "string"
            },
            "text/plain": [
              "'pey'"
            ]
          },
          "metadata": {
            "tags": []
          },
          "execution_count": 49
        }
      ]
    },
    {
      "cell_type": "code",
      "metadata": {
        "colab": {
          "base_uri": "https://localhost:8080/",
          "height": 35
        },
        "id": "Nq_WocWrPF2H",
        "outputId": "0d98b0ee-7190-4c85-b7f4-d0fd2b8b241d"
      },
      "source": [
        "dic['phone']"
      ],
      "execution_count": 52,
      "outputs": [
        {
          "output_type": "execute_result",
          "data": {
            "application/vnd.google.colaboratory.intrinsic+json": {
              "type": "string"
            },
            "text/plain": [
              "'0119993323'"
            ]
          },
          "metadata": {
            "tags": []
          },
          "execution_count": 52
        }
      ]
    },
    {
      "cell_type": "code",
      "metadata": {
        "colab": {
          "base_uri": "https://localhost:8080/",
          "height": 35
        },
        "id": "7dmhAQr3PHP6",
        "outputId": "8e05cfa4-0477-4eaf-bb90-f78c182a0f67"
      },
      "source": [
        "dic['birth']"
      ],
      "execution_count": 51,
      "outputs": [
        {
          "output_type": "execute_result",
          "data": {
            "application/vnd.google.colaboratory.intrinsic+json": {
              "type": "string"
            },
            "text/plain": [
              "'1118'"
            ]
          },
          "metadata": {
            "tags": []
          },
          "execution_count": 51
        }
      ]
    },
    {
      "cell_type": "markdown",
      "metadata": {
        "id": "sBnlQrCtPLoE"
      },
      "source": [
        "- 딕셔너리 만들 때 주의사항"
      ]
    },
    {
      "cell_type": "code",
      "metadata": {
        "id": "_u72eHkPPI1P"
      },
      "source": [
        "a = {1 : 'a', 1 : 'b'}"
      ],
      "execution_count": 53,
      "outputs": []
    },
    {
      "cell_type": "code",
      "metadata": {
        "colab": {
          "base_uri": "https://localhost:8080/"
        },
        "id": "bUotoSB0PRYi",
        "outputId": "293d6cd1-d46a-4c6d-e100-3718ccc0781c"
      },
      "source": [
        "a   # 1이라는 Key값이 중복 사용되자 1:'a' 쌍이 무시됨"
      ],
      "execution_count": 54,
      "outputs": [
        {
          "output_type": "execute_result",
          "data": {
            "text/plain": [
              "{1: 'b'}"
            ]
          },
          "metadata": {
            "tags": []
          },
          "execution_count": 54
        }
      ]
    },
    {
      "cell_type": "code",
      "metadata": {
        "colab": {
          "base_uri": "https://localhost:8080/",
          "height": 171
        },
        "id": "BtlfQ76dPSGE",
        "outputId": "a8a333b0-4f5c-4391-cf0d-d576a9487924"
      },
      "source": [
        "a = {[1, 2] : 'hi'}   # 리스트를 Key로 사용할 수 없음. 형오류 발생"
      ],
      "execution_count": 55,
      "outputs": [
        {
          "output_type": "error",
          "ename": "TypeError",
          "evalue": "ignored",
          "traceback": [
            "\u001b[0;31m---------------------------------------------------------------------------\u001b[0m",
            "\u001b[0;31mTypeError\u001b[0m                                 Traceback (most recent call last)",
            "\u001b[0;32m<ipython-input-55-25545abf9d58>\u001b[0m in \u001b[0;36m<module>\u001b[0;34m()\u001b[0m\n\u001b[0;32m----> 1\u001b[0;31m \u001b[0ma\u001b[0m \u001b[0;34m=\u001b[0m \u001b[0;34m{\u001b[0m\u001b[0;34m[\u001b[0m\u001b[0;36m1\u001b[0m\u001b[0;34m,\u001b[0m \u001b[0;36m2\u001b[0m\u001b[0;34m]\u001b[0m \u001b[0;34m:\u001b[0m \u001b[0;34m'hi'\u001b[0m\u001b[0;34m}\u001b[0m\u001b[0;34m\u001b[0m\u001b[0;34m\u001b[0m\u001b[0m\n\u001b[0m",
            "\u001b[0;31mTypeError\u001b[0m: unhashable type: 'list'"
          ]
        }
      ]
    },
    {
      "cell_type": "markdown",
      "metadata": {
        "id": "2JQcOC8zPY-R"
      },
      "source": [
        "(4) 딕셔너리 관련 함수"
      ]
    },
    {
      "cell_type": "markdown",
      "metadata": {
        "id": "Xnl6hYPSPmv8"
      },
      "source": [
        "- Key로 리스트 만들기(keys)"
      ]
    },
    {
      "cell_type": "code",
      "metadata": {
        "id": "n-7aDwZPPpDh"
      },
      "source": [
        "a = {'name' : 'pey', 'phone' : '0119993323', 'birth' : '1118'}"
      ],
      "execution_count": 56,
      "outputs": []
    },
    {
      "cell_type": "code",
      "metadata": {
        "colab": {
          "base_uri": "https://localhost:8080/"
        },
        "id": "Nj2lCgzmPwZ7",
        "outputId": "44805d11-de9b-4091-8812-8d15864e3056"
      },
      "source": [
        "a.keys()"
      ],
      "execution_count": 58,
      "outputs": [
        {
          "output_type": "execute_result",
          "data": {
            "text/plain": [
              "dict_keys(['name', 'phone', 'birth'])"
            ]
          },
          "metadata": {
            "tags": []
          },
          "execution_count": 58
        }
      ]
    },
    {
      "cell_type": "code",
      "metadata": {
        "colab": {
          "base_uri": "https://localhost:8080/"
        },
        "id": "HNicUhS7PxTm",
        "outputId": "487ccc87-8af8-452a-bb42-06e253d3bb7e"
      },
      "source": [
        "for k in a.keys() :\r\n",
        "  print(k)"
      ],
      "execution_count": 59,
      "outputs": [
        {
          "output_type": "stream",
          "text": [
            "name\n",
            "phone\n",
            "birth\n"
          ],
          "name": "stdout"
        }
      ]
    },
    {
      "cell_type": "code",
      "metadata": {
        "colab": {
          "base_uri": "https://localhost:8080/"
        },
        "id": "tiEiubzuQFPE",
        "outputId": "af98cae5-c21f-4150-eab9-eae02a407537"
      },
      "source": [
        "list(a.keys())"
      ],
      "execution_count": 60,
      "outputs": [
        {
          "output_type": "execute_result",
          "data": {
            "text/plain": [
              "['name', 'phone', 'birth']"
            ]
          },
          "metadata": {
            "tags": []
          },
          "execution_count": 60
        }
      ]
    },
    {
      "cell_type": "markdown",
      "metadata": {
        "id": "8beHitEPQIZb"
      },
      "source": [
        "- Value로 리스트 만들기(values)"
      ]
    },
    {
      "cell_type": "code",
      "metadata": {
        "colab": {
          "base_uri": "https://localhost:8080/"
        },
        "id": "A0kmpwFMQG3e",
        "outputId": "3befe812-4ef8-4e4a-a20d-fdf695ad5e0a"
      },
      "source": [
        "a.values()"
      ],
      "execution_count": 61,
      "outputs": [
        {
          "output_type": "execute_result",
          "data": {
            "text/plain": [
              "dict_values(['pey', '0119993323', '1118'])"
            ]
          },
          "metadata": {
            "tags": []
          },
          "execution_count": 61
        }
      ]
    },
    {
      "cell_type": "markdown",
      "metadata": {
        "id": "0f3RIncNQOPR"
      },
      "source": [
        "- Key, Value 쌍 얻기(items)"
      ]
    },
    {
      "cell_type": "code",
      "metadata": {
        "colab": {
          "base_uri": "https://localhost:8080/"
        },
        "id": "A8_RbH2oQNCq",
        "outputId": "2c67e45b-3b79-427f-dbf3-25d709bdd2d9"
      },
      "source": [
        "a.items()   # Key와 Value의 쌍을 튜플로 묶은 값을 객체로 돌려줌"
      ],
      "execution_count": 62,
      "outputs": [
        {
          "output_type": "execute_result",
          "data": {
            "text/plain": [
              "dict_items([('name', 'pey'), ('phone', '0119993323'), ('birth', '1118')])"
            ]
          },
          "metadata": {
            "tags": []
          },
          "execution_count": 62
        }
      ]
    },
    {
      "cell_type": "code",
      "metadata": {
        "colab": {
          "base_uri": "https://localhost:8080/"
        },
        "id": "iLsfGULhQhaw",
        "outputId": "8b7e2580-3dd2-43d0-b678-d41b2c37043c"
      },
      "source": [
        "for k in a.items() :\r\n",
        "  print(k)"
      ],
      "execution_count": 64,
      "outputs": [
        {
          "output_type": "stream",
          "text": [
            "('name', 'pey')\n",
            "('phone', '0119993323')\n",
            "('birth', '1118')\n"
          ],
          "name": "stdout"
        }
      ]
    },
    {
      "cell_type": "code",
      "metadata": {
        "colab": {
          "base_uri": "https://localhost:8080/"
        },
        "id": "nPzEWCy0QTAW",
        "outputId": "f6ea3c7e-9205-4965-95d1-788427712869"
      },
      "source": [
        "list(a.items())"
      ],
      "execution_count": 63,
      "outputs": [
        {
          "output_type": "execute_result",
          "data": {
            "text/plain": [
              "[('name', 'pey'), ('phone', '0119993323'), ('birth', '1118')]"
            ]
          },
          "metadata": {
            "tags": []
          },
          "execution_count": 63
        }
      ]
    },
    {
      "cell_type": "markdown",
      "metadata": {
        "id": "4RwG_zzvQfC7"
      },
      "source": [
        "- Key : Value 쌍 모두 지우기(clear)"
      ]
    },
    {
      "cell_type": "code",
      "metadata": {
        "id": "9ZgI9bj6Qdok"
      },
      "source": [
        "a.clear()"
      ],
      "execution_count": 65,
      "outputs": []
    },
    {
      "cell_type": "code",
      "metadata": {
        "colab": {
          "base_uri": "https://localhost:8080/"
        },
        "id": "6fKOLayCQqgO",
        "outputId": "4524b041-c191-4c64-d86f-a5229d65ff16"
      },
      "source": [
        "a"
      ],
      "execution_count": 66,
      "outputs": [
        {
          "output_type": "execute_result",
          "data": {
            "text/plain": [
              "{}"
            ]
          },
          "metadata": {
            "tags": []
          },
          "execution_count": 66
        }
      ]
    },
    {
      "cell_type": "markdown",
      "metadata": {
        "id": "C_Z3U2QAQxKx"
      },
      "source": [
        "- Key로 Value 얻기(get)"
      ]
    },
    {
      "cell_type": "code",
      "metadata": {
        "id": "EkygepZwQq4g"
      },
      "source": [
        "a = {'name' : 'pey', 'phone' : '0119993323', 'birth' : '1118'}"
      ],
      "execution_count": 68,
      "outputs": []
    },
    {
      "cell_type": "code",
      "metadata": {
        "colab": {
          "base_uri": "https://localhost:8080/",
          "height": 35
        },
        "id": "dbe0z1giQvYp",
        "outputId": "27c9db16-56ea-4054-d810-54dd3aeaa379"
      },
      "source": [
        "a.get('name')"
      ],
      "execution_count": 69,
      "outputs": [
        {
          "output_type": "execute_result",
          "data": {
            "application/vnd.google.colaboratory.intrinsic+json": {
              "type": "string"
            },
            "text/plain": [
              "'pey'"
            ]
          },
          "metadata": {
            "tags": []
          },
          "execution_count": 69
        }
      ]
    },
    {
      "cell_type": "code",
      "metadata": {
        "colab": {
          "base_uri": "https://localhost:8080/",
          "height": 35
        },
        "id": "P7P4O-a5Q4Ab",
        "outputId": "0555821a-7da7-4d1b-d4cf-69e2a3c9a6c7"
      },
      "source": [
        "a.get('phone')"
      ],
      "execution_count": 70,
      "outputs": [
        {
          "output_type": "execute_result",
          "data": {
            "application/vnd.google.colaboratory.intrinsic+json": {
              "type": "string"
            },
            "text/plain": [
              "'0119993323'"
            ]
          },
          "metadata": {
            "tags": []
          },
          "execution_count": 70
        }
      ]
    },
    {
      "cell_type": "code",
      "metadata": {
        "colab": {
          "base_uri": "https://localhost:8080/",
          "height": 35
        },
        "id": "cPytOz5SQ5u4",
        "outputId": "c0fdf0ff-8501-46f3-9b38-1359e3dbe5be"
      },
      "source": [
        "a['name']   # a.get('name')과 동일한 결과"
      ],
      "execution_count": 71,
      "outputs": [
        {
          "output_type": "execute_result",
          "data": {
            "application/vnd.google.colaboratory.intrinsic+json": {
              "type": "string"
            },
            "text/plain": [
              "'pey'"
            ]
          },
          "metadata": {
            "tags": []
          },
          "execution_count": 71
        }
      ]
    },
    {
      "cell_type": "markdown",
      "metadata": {
        "id": "p6AfhReDREeC"
      },
      "source": [
        "- 존재하지 않는 키로 값을 가져오려고 할 경우"
      ]
    },
    {
      "cell_type": "code",
      "metadata": {
        "colab": {
          "base_uri": "https://localhost:8080/",
          "height": 171
        },
        "id": "3upVgyGVQ-CY",
        "outputId": "5086969e-6ffa-41ab-907a-649d34b54d80"
      },
      "source": [
        "print(a['nokey'])   # 오류"
      ],
      "execution_count": 74,
      "outputs": [
        {
          "output_type": "error",
          "ename": "KeyError",
          "evalue": "ignored",
          "traceback": [
            "\u001b[0;31m---------------------------------------------------------------------------\u001b[0m",
            "\u001b[0;31mKeyError\u001b[0m                                  Traceback (most recent call last)",
            "\u001b[0;32m<ipython-input-74-798c7c3a1f98>\u001b[0m in \u001b[0;36m<module>\u001b[0;34m()\u001b[0m\n\u001b[0;32m----> 1\u001b[0;31m \u001b[0mprint\u001b[0m\u001b[0;34m(\u001b[0m\u001b[0ma\u001b[0m\u001b[0;34m[\u001b[0m\u001b[0;34m'nokey'\u001b[0m\u001b[0;34m]\u001b[0m\u001b[0;34m)\u001b[0m   \u001b[0;31m# 오류\u001b[0m\u001b[0;34m\u001b[0m\u001b[0;34m\u001b[0m\u001b[0m\n\u001b[0m",
            "\u001b[0;31mKeyError\u001b[0m: 'nokey'"
          ]
        }
      ]
    },
    {
      "cell_type": "code",
      "metadata": {
        "colab": {
          "base_uri": "https://localhost:8080/"
        },
        "id": "1UsAlf-IRKqp",
        "outputId": "1e383133-7fab-4c14-831b-a20325c68ccd"
      },
      "source": [
        "print(a.get('nokey'))   # None"
      ],
      "execution_count": 75,
      "outputs": [
        {
          "output_type": "stream",
          "text": [
            "None\n"
          ],
          "name": "stdout"
        }
      ]
    },
    {
      "cell_type": "markdown",
      "metadata": {
        "id": "4YQIb6gORcd7"
      },
      "source": [
        "- 해당 Key가 딕셔너리 안에 있는지 조사하기(in)"
      ]
    },
    {
      "cell_type": "code",
      "metadata": {
        "id": "fI5cfQIzRMSZ"
      },
      "source": [
        "a = {'name' : 'pey', 'phone' : '0119993323', 'birth' : '1118'}"
      ],
      "execution_count": 76,
      "outputs": []
    },
    {
      "cell_type": "code",
      "metadata": {
        "colab": {
          "base_uri": "https://localhost:8080/"
        },
        "id": "b12OPz9eRg17",
        "outputId": "cec35b1e-1d65-4a45-818b-cb6726890613"
      },
      "source": [
        "'name' in a"
      ],
      "execution_count": 77,
      "outputs": [
        {
          "output_type": "execute_result",
          "data": {
            "text/plain": [
              "True"
            ]
          },
          "metadata": {
            "tags": []
          },
          "execution_count": 77
        }
      ]
    },
    {
      "cell_type": "code",
      "metadata": {
        "colab": {
          "base_uri": "https://localhost:8080/"
        },
        "id": "SID_Z74gRiBl",
        "outputId": "72c72fde-13c3-4251-954c-cd157da3ee22"
      },
      "source": [
        "'email' in a"
      ],
      "execution_count": 78,
      "outputs": [
        {
          "output_type": "execute_result",
          "data": {
            "text/plain": [
              "False"
            ]
          },
          "metadata": {
            "tags": []
          },
          "execution_count": 78
        }
      ]
    },
    {
      "cell_type": "markdown",
      "metadata": {
        "id": "uV3ujU5ZRlIg"
      },
      "source": [
        "[ 연습 문제 ] : 다음 표를 딕셔너리로 만들기"
      ]
    },
    {
      "cell_type": "code",
      "metadata": {
        "id": "hlIpCGtgRj5f"
      },
      "source": [
        "gayeon = {'name' : '유가연', 'birth' : '1212', 'age' : '24'}"
      ],
      "execution_count": 79,
      "outputs": []
    },
    {
      "cell_type": "code",
      "metadata": {
        "colab": {
          "base_uri": "https://localhost:8080/"
        },
        "id": "BoncBmC3Rz3i",
        "outputId": "1b11da42-3621-431f-bf60-ded864d4ce47"
      },
      "source": [
        "gayeon"
      ],
      "execution_count": 80,
      "outputs": [
        {
          "output_type": "execute_result",
          "data": {
            "text/plain": [
              "{'age': '24', 'birth': '1212', 'name': '유가연'}"
            ]
          },
          "metadata": {
            "tags": []
          },
          "execution_count": 80
        }
      ]
    },
    {
      "cell_type": "markdown",
      "metadata": {
        "id": "uZJXzeMYTgxv"
      },
      "source": [
        "# **06.집합 자료형**"
      ]
    },
    {
      "cell_type": "markdown",
      "metadata": {
        "id": "xYeUVuLRTmOZ"
      },
      "source": [
        "집합 : 중복을 허용하지 않고 순서가 없는 자료형, set을 사용해 만들 수 있음"
      ]
    },
    {
      "cell_type": "markdown",
      "metadata": {
        "id": "wQvL1bqUUC2e"
      },
      "source": [
        "집합 자료형의 특징 : 리스트나 튜플은 순서가 있기 때문에 인덱싱을 통해 자료형의 값을 얻을 수 있지만 딕셔너리와 set 자료형은 순서가 없기 때문에 인덱싱으로 값을 얻을 수 없음"
      ]
    },
    {
      "cell_type": "code",
      "metadata": {
        "id": "AzKxpJ-LR5SP"
      },
      "source": [
        "s1 = set([1, 2, 3])"
      ],
      "execution_count": 82,
      "outputs": []
    },
    {
      "cell_type": "code",
      "metadata": {
        "colab": {
          "base_uri": "https://localhost:8080/"
        },
        "id": "zSZhDzlMT0Em",
        "outputId": "36139e33-4d11-41f5-d5ed-572acadbf069"
      },
      "source": [
        "s1"
      ],
      "execution_count": 83,
      "outputs": [
        {
          "output_type": "execute_result",
          "data": {
            "text/plain": [
              "{1, 2, 3}"
            ]
          },
          "metadata": {
            "tags": []
          },
          "execution_count": 83
        }
      ]
    },
    {
      "cell_type": "code",
      "metadata": {
        "colab": {
          "base_uri": "https://localhost:8080/"
        },
        "id": "q4w8WCeST0wP",
        "outputId": "55d35ec7-d247-41b3-9e15-b223a875b2c1"
      },
      "source": [
        "s2 = set('Hello')\r\n",
        "s2"
      ],
      "execution_count": 84,
      "outputs": [
        {
          "output_type": "execute_result",
          "data": {
            "text/plain": [
              "{'H', 'e', 'l', 'o'}"
            ]
          },
          "metadata": {
            "tags": []
          },
          "execution_count": 84
        }
      ]
    },
    {
      "cell_type": "code",
      "metadata": {
        "colab": {
          "base_uri": "https://localhost:8080/"
        },
        "id": "WmVZgpS8T5OA",
        "outputId": "b4f53cdc-ebb4-4bbe-bffa-8337ffa06427"
      },
      "source": [
        "s2   # 순서가 없지만 여러번 출력한다고 그 자리가 뒤바뀌지는 않음"
      ],
      "execution_count": 85,
      "outputs": [
        {
          "output_type": "execute_result",
          "data": {
            "text/plain": [
              "{'H', 'e', 'l', 'o'}"
            ]
          },
          "metadata": {
            "tags": []
          },
          "execution_count": 85
        }
      ]
    },
    {
      "cell_type": "markdown",
      "metadata": {
        "id": "tqojRmCoUfES"
      },
      "source": [
        "- set 자료형을 인덱싱으로 접근하는 방법"
      ]
    },
    {
      "cell_type": "code",
      "metadata": {
        "id": "jWq3CprTT6n1"
      },
      "source": [
        "s1 = set([1, 2, 3])"
      ],
      "execution_count": 86,
      "outputs": []
    },
    {
      "cell_type": "code",
      "metadata": {
        "id": "WwzzLgyZUSH6"
      },
      "source": [
        "li = list(s1)   # 리스트로 변환"
      ],
      "execution_count": 87,
      "outputs": []
    },
    {
      "cell_type": "code",
      "metadata": {
        "colab": {
          "base_uri": "https://localhost:8080/"
        },
        "id": "urDeFPazUTze",
        "outputId": "dfb433ff-cc67-433f-d47f-0cad421c87b1"
      },
      "source": [
        "li"
      ],
      "execution_count": 88,
      "outputs": [
        {
          "output_type": "execute_result",
          "data": {
            "text/plain": [
              "[1, 2, 3]"
            ]
          },
          "metadata": {
            "tags": []
          },
          "execution_count": 88
        }
      ]
    },
    {
      "cell_type": "code",
      "metadata": {
        "colab": {
          "base_uri": "https://localhost:8080/"
        },
        "id": "U4dKquyKUcva",
        "outputId": "1cddb938-f718-4209-fa83-eeea9e1489ca"
      },
      "source": [
        "li[0]"
      ],
      "execution_count": 91,
      "outputs": [
        {
          "output_type": "execute_result",
          "data": {
            "text/plain": [
              "1"
            ]
          },
          "metadata": {
            "tags": []
          },
          "execution_count": 91
        }
      ]
    },
    {
      "cell_type": "code",
      "metadata": {
        "id": "Pif77Da8UWtV"
      },
      "source": [
        "t1 = tuple(s1)   # 튜플로 변환"
      ],
      "execution_count": 89,
      "outputs": []
    },
    {
      "cell_type": "code",
      "metadata": {
        "colab": {
          "base_uri": "https://localhost:8080/"
        },
        "id": "EMLEjc1tUY2y",
        "outputId": "6fe92544-1d35-424a-bc46-053ee68beb53"
      },
      "source": [
        "t1"
      ],
      "execution_count": 90,
      "outputs": [
        {
          "output_type": "execute_result",
          "data": {
            "text/plain": [
              "(1, 2, 3)"
            ]
          },
          "metadata": {
            "tags": []
          },
          "execution_count": 90
        }
      ]
    },
    {
      "cell_type": "code",
      "metadata": {
        "colab": {
          "base_uri": "https://localhost:8080/"
        },
        "id": "iTPBVKbfUZ8y",
        "outputId": "6b0c27cc-9371-411f-d477-04dbbde7985e"
      },
      "source": [
        "t1[0]"
      ],
      "execution_count": 92,
      "outputs": [
        {
          "output_type": "execute_result",
          "data": {
            "text/plain": [
              "1"
            ]
          },
          "metadata": {
            "tags": []
          },
          "execution_count": 92
        }
      ]
    },
    {
      "cell_type": "markdown",
      "metadata": {
        "id": "cxqgd9eiXC-d"
      },
      "source": [
        "(1) 교집합, 합집합, 차집합 구하기"
      ]
    },
    {
      "cell_type": "code",
      "metadata": {
        "id": "ciDfejukUjy7"
      },
      "source": [
        "s1 = set([1, 2, 3, 4, 5, 6])"
      ],
      "execution_count": 94,
      "outputs": []
    },
    {
      "cell_type": "code",
      "metadata": {
        "id": "xXieM8Z4XLjX"
      },
      "source": [
        "s2 = set([4, 5, 6, 7, 8, 9])"
      ],
      "execution_count": 95,
      "outputs": []
    },
    {
      "cell_type": "markdown",
      "metadata": {
        "id": "EyRBZizqXP2R"
      },
      "source": [
        "- 교집합"
      ]
    },
    {
      "cell_type": "code",
      "metadata": {
        "colab": {
          "base_uri": "https://localhost:8080/"
        },
        "id": "PK66oi9JXNaV",
        "outputId": "e544250b-ea71-41b5-ddaa-30b00c4b2d01"
      },
      "source": [
        "s1 & s2"
      ],
      "execution_count": 96,
      "outputs": [
        {
          "output_type": "execute_result",
          "data": {
            "text/plain": [
              "{4, 5, 6}"
            ]
          },
          "metadata": {
            "tags": []
          },
          "execution_count": 96
        }
      ]
    },
    {
      "cell_type": "code",
      "metadata": {
        "colab": {
          "base_uri": "https://localhost:8080/"
        },
        "id": "8YesB_dBXZBf",
        "outputId": "788df1b1-e099-43b7-d58f-6f262825a397"
      },
      "source": [
        "s1.intersection(s2)"
      ],
      "execution_count": 99,
      "outputs": [
        {
          "output_type": "execute_result",
          "data": {
            "text/plain": [
              "{4, 5, 6}"
            ]
          },
          "metadata": {
            "tags": []
          },
          "execution_count": 99
        }
      ]
    },
    {
      "cell_type": "markdown",
      "metadata": {
        "id": "kV53oz45XRfH"
      },
      "source": [
        "- 합집합"
      ]
    },
    {
      "cell_type": "code",
      "metadata": {
        "colab": {
          "base_uri": "https://localhost:8080/"
        },
        "id": "hXLwem-2XO1_",
        "outputId": "301d742b-25e6-4f3e-dcd0-2f9bb3139b98"
      },
      "source": [
        "s1 | s2   # 중복된 값은 하나씩만 표현됨"
      ],
      "execution_count": 98,
      "outputs": [
        {
          "output_type": "execute_result",
          "data": {
            "text/plain": [
              "{1, 2, 3, 4, 5, 6, 7, 8, 9}"
            ]
          },
          "metadata": {
            "tags": []
          },
          "execution_count": 98
        }
      ]
    },
    {
      "cell_type": "code",
      "metadata": {
        "colab": {
          "base_uri": "https://localhost:8080/"
        },
        "id": "A_BtglYpXVaJ",
        "outputId": "380f002e-2cb2-48a4-d362-a2b6f5b5514c"
      },
      "source": [
        "s1.union(s2)"
      ],
      "execution_count": 100,
      "outputs": [
        {
          "output_type": "execute_result",
          "data": {
            "text/plain": [
              "{1, 2, 3, 4, 5, 6, 7, 8, 9}"
            ]
          },
          "metadata": {
            "tags": []
          },
          "execution_count": 100
        }
      ]
    },
    {
      "cell_type": "markdown",
      "metadata": {
        "id": "yjW9TrMKXihw"
      },
      "source": [
        "- 차집합"
      ]
    },
    {
      "cell_type": "code",
      "metadata": {
        "colab": {
          "base_uri": "https://localhost:8080/"
        },
        "id": "gdHJjkflXfHr",
        "outputId": "9a15b00a-1995-4b6e-e6ef-f2079253e84a"
      },
      "source": [
        "s1 - s2"
      ],
      "execution_count": 101,
      "outputs": [
        {
          "output_type": "execute_result",
          "data": {
            "text/plain": [
              "{1, 2, 3}"
            ]
          },
          "metadata": {
            "tags": []
          },
          "execution_count": 101
        }
      ]
    },
    {
      "cell_type": "code",
      "metadata": {
        "colab": {
          "base_uri": "https://localhost:8080/"
        },
        "id": "U_sMUXwJXkzM",
        "outputId": "18aa5e19-a38c-42cc-f6ef-c439097c159c"
      },
      "source": [
        "s2 - s1"
      ],
      "execution_count": 102,
      "outputs": [
        {
          "output_type": "execute_result",
          "data": {
            "text/plain": [
              "{7, 8, 9}"
            ]
          },
          "metadata": {
            "tags": []
          },
          "execution_count": 102
        }
      ]
    },
    {
      "cell_type": "code",
      "metadata": {
        "colab": {
          "base_uri": "https://localhost:8080/"
        },
        "id": "hAigBM32Xlls",
        "outputId": "33ca0c71-0162-4b5a-8d55-c244cfca0837"
      },
      "source": [
        "s1.difference(s2)"
      ],
      "execution_count": 103,
      "outputs": [
        {
          "output_type": "execute_result",
          "data": {
            "text/plain": [
              "{1, 2, 3}"
            ]
          },
          "metadata": {
            "tags": []
          },
          "execution_count": 103
        }
      ]
    },
    {
      "cell_type": "code",
      "metadata": {
        "colab": {
          "base_uri": "https://localhost:8080/"
        },
        "id": "UNIFS0eEXouq",
        "outputId": "eaa4c6a6-616f-4ad6-d942-53ff5226f773"
      },
      "source": [
        "s2.difference(s1)"
      ],
      "execution_count": 104,
      "outputs": [
        {
          "output_type": "execute_result",
          "data": {
            "text/plain": [
              "{7, 8, 9}"
            ]
          },
          "metadata": {
            "tags": []
          },
          "execution_count": 104
        }
      ]
    },
    {
      "cell_type": "markdown",
      "metadata": {
        "id": "B816xsO3Xrm0"
      },
      "source": [
        "(2) 집합 자료형 관련 함수"
      ]
    },
    {
      "cell_type": "markdown",
      "metadata": {
        "id": "3HZxDreYXtvo"
      },
      "source": [
        "- 값 1개 추가하기(odd)"
      ]
    },
    {
      "cell_type": "code",
      "metadata": {
        "id": "VbfizVSrXqQt"
      },
      "source": [
        "s1 = set([1, 2, 3])"
      ],
      "execution_count": 105,
      "outputs": []
    },
    {
      "cell_type": "code",
      "metadata": {
        "id": "BCp1Sy_VXxLU"
      },
      "source": [
        "s1.add(4)"
      ],
      "execution_count": 106,
      "outputs": []
    },
    {
      "cell_type": "code",
      "metadata": {
        "colab": {
          "base_uri": "https://localhost:8080/"
        },
        "id": "9TYp6T6LX0y6",
        "outputId": "2918ed54-e3bc-42e7-ba71-b62bff35ed97"
      },
      "source": [
        "s1"
      ],
      "execution_count": 107,
      "outputs": [
        {
          "output_type": "execute_result",
          "data": {
            "text/plain": [
              "{1, 2, 3, 4}"
            ]
          },
          "metadata": {
            "tags": []
          },
          "execution_count": 107
        }
      ]
    },
    {
      "cell_type": "markdown",
      "metadata": {
        "id": "AG5k6hdpX2Ck"
      },
      "source": [
        "- 값 여러 개 추가하기(update)"
      ]
    },
    {
      "cell_type": "code",
      "metadata": {
        "id": "Hl0LWMkQX1KR"
      },
      "source": [
        "s1 = set([1, 2, 3])"
      ],
      "execution_count": 108,
      "outputs": []
    },
    {
      "cell_type": "code",
      "metadata": {
        "id": "t2MDBizCX5eq"
      },
      "source": [
        "s1.update([4, 5, 6])"
      ],
      "execution_count": 109,
      "outputs": []
    },
    {
      "cell_type": "code",
      "metadata": {
        "colab": {
          "base_uri": "https://localhost:8080/"
        },
        "id": "NWcAx47kX7Ur",
        "outputId": "9a8b16ef-517d-408f-bf49-2857bd7e4c7f"
      },
      "source": [
        "s1"
      ],
      "execution_count": 110,
      "outputs": [
        {
          "output_type": "execute_result",
          "data": {
            "text/plain": [
              "{1, 2, 3, 4, 5, 6}"
            ]
          },
          "metadata": {
            "tags": []
          },
          "execution_count": 110
        }
      ]
    },
    {
      "cell_type": "markdown",
      "metadata": {
        "id": "Dm-bzj-8X8hP"
      },
      "source": [
        "- 특정 값 제거하기(remove)"
      ]
    },
    {
      "cell_type": "code",
      "metadata": {
        "id": "bfhcym-HX7pO"
      },
      "source": [
        "s1 = set([1, 2, 3])"
      ],
      "execution_count": 111,
      "outputs": []
    },
    {
      "cell_type": "code",
      "metadata": {
        "id": "GxTN1PNVYAOu"
      },
      "source": [
        "s1.remove(2)"
      ],
      "execution_count": 112,
      "outputs": []
    },
    {
      "cell_type": "code",
      "metadata": {
        "colab": {
          "base_uri": "https://localhost:8080/"
        },
        "id": "3K5DOTIfYByP",
        "outputId": "52ab6854-2017-4068-d5e1-1c0c77b604e6"
      },
      "source": [
        "s1"
      ],
      "execution_count": 113,
      "outputs": [
        {
          "output_type": "execute_result",
          "data": {
            "text/plain": [
              "{1, 3}"
            ]
          },
          "metadata": {
            "tags": []
          },
          "execution_count": 113
        }
      ]
    },
    {
      "cell_type": "code",
      "metadata": {
        "id": "piz0bUJYYCHH"
      },
      "source": [
        ""
      ],
      "execution_count": null,
      "outputs": []
    },
    {
      "cell_type": "markdown",
      "metadata": {
        "id": "oXNCITzOYGfC"
      },
      "source": [
        "# **07. 불(bool)**"
      ]
    },
    {
      "cell_type": "markdown",
      "metadata": {
        "id": "Zd5AFxtoYMZp"
      },
      "source": [
        "- 불(bool) 자료형 : 참(True)과 거짓(False)를 나타내는 자료형. 참, 거짓 2가지 값만을 가질 수 있음"
      ]
    },
    {
      "cell_type": "code",
      "metadata": {
        "id": "GN8k9dFHYY-9"
      },
      "source": [
        "a = True"
      ],
      "execution_count": 114,
      "outputs": []
    },
    {
      "cell_type": "code",
      "metadata": {
        "id": "tbm2tQ5IYaGa"
      },
      "source": [
        "b = False"
      ],
      "execution_count": 115,
      "outputs": []
    },
    {
      "cell_type": "code",
      "metadata": {
        "colab": {
          "base_uri": "https://localhost:8080/"
        },
        "id": "n7wr9TZAYa6v",
        "outputId": "2a9748f0-6aae-408a-84bd-83add709dfe2"
      },
      "source": [
        "type(a)"
      ],
      "execution_count": 116,
      "outputs": [
        {
          "output_type": "execute_result",
          "data": {
            "text/plain": [
              "bool"
            ]
          },
          "metadata": {
            "tags": []
          },
          "execution_count": 116
        }
      ]
    },
    {
      "cell_type": "code",
      "metadata": {
        "colab": {
          "base_uri": "https://localhost:8080/"
        },
        "id": "1hy2nWLtYbyW",
        "outputId": "99ce0f74-843f-418f-bb3c-0b973ebc918d"
      },
      "source": [
        "type(b)"
      ],
      "execution_count": 117,
      "outputs": [
        {
          "output_type": "execute_result",
          "data": {
            "text/plain": [
              "bool"
            ]
          },
          "metadata": {
            "tags": []
          },
          "execution_count": 117
        }
      ]
    },
    {
      "cell_type": "code",
      "metadata": {
        "colab": {
          "base_uri": "https://localhost:8080/"
        },
        "id": "vhrc2-nhYceL",
        "outputId": "418e44da-132c-41dd-ebed-068c39b1c4af"
      },
      "source": [
        "1 == 1   # 조건문의 반환 값으로도 사용됨"
      ],
      "execution_count": 118,
      "outputs": [
        {
          "output_type": "execute_result",
          "data": {
            "text/plain": [
              "True"
            ]
          },
          "metadata": {
            "tags": []
          },
          "execution_count": 118
        }
      ]
    },
    {
      "cell_type": "code",
      "metadata": {
        "colab": {
          "base_uri": "https://localhost:8080/"
        },
        "id": "Qh_LhVndYeHK",
        "outputId": "a8f7c355-526a-47c7-e96b-fe44f53a76f1"
      },
      "source": [
        "2 > 1"
      ],
      "execution_count": 119,
      "outputs": [
        {
          "output_type": "execute_result",
          "data": {
            "text/plain": [
              "True"
            ]
          },
          "metadata": {
            "tags": []
          },
          "execution_count": 119
        }
      ]
    },
    {
      "cell_type": "code",
      "metadata": {
        "colab": {
          "base_uri": "https://localhost:8080/"
        },
        "id": "Le76jK12YiAo",
        "outputId": "1bcf2daf-4cc6-4541-f2a6-4e1574ce0fcd"
      },
      "source": [
        "2 < 1"
      ],
      "execution_count": 120,
      "outputs": [
        {
          "output_type": "execute_result",
          "data": {
            "text/plain": [
              "False"
            ]
          },
          "metadata": {
            "tags": []
          },
          "execution_count": 120
        }
      ]
    },
    {
      "cell_type": "markdown",
      "metadata": {
        "id": "87Y_4U45YjyP"
      },
      "source": [
        "(1) 자료형의 참과 거짓"
      ]
    },
    {
      "cell_type": "markdown",
      "metadata": {
        "id": "ZaymQrx-YtAw"
      },
      "source": [
        "![day3.png](data:image/png;base64,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)"
      ]
    },
    {
      "cell_type": "code",
      "metadata": {
        "id": "YKjJKUEjYiyR"
      },
      "source": [
        "a = [1, 2, 3, 4]\r\n",
        "while a :\r\n",
        "  a.pop()"
      ],
      "execution_count": 121,
      "outputs": []
    },
    {
      "cell_type": "code",
      "metadata": {
        "colab": {
          "base_uri": "https://localhost:8080/"
        },
        "id": "0VNBfzSlZGLC",
        "outputId": "10db32ee-f230-49b5-8cec-2e245f766b9c"
      },
      "source": [
        "a = [1, 2, 3, 4]\r\n",
        "while a :\r\n",
        "  print(a.pop())"
      ],
      "execution_count": 122,
      "outputs": [
        {
          "output_type": "stream",
          "text": [
            "4\n",
            "3\n",
            "2\n",
            "1\n"
          ],
          "name": "stdout"
        }
      ]
    },
    {
      "cell_type": "code",
      "metadata": {
        "colab": {
          "base_uri": "https://localhost:8080/"
        },
        "id": "DJwMM4gBZPfU",
        "outputId": "beaccecc-9e53-4b2d-971b-f7e71f53871f"
      },
      "source": [
        "if [1, 2, 3] :\r\n",
        "  print('참')\r\n",
        "else :\r\n",
        "  print('거짓')"
      ],
      "execution_count": 124,
      "outputs": [
        {
          "output_type": "stream",
          "text": [
            "참\n"
          ],
          "name": "stdout"
        }
      ]
    },
    {
      "cell_type": "markdown",
      "metadata": {
        "id": "1WLUjUWzZcpv"
      },
      "source": [
        "위의 코드를 해석해보면 '만약 [1, 2, 3]'이 참이면 '참'이라는 문자열을 출력하고 그렇지 않으면 '거짓'이라는 문자열을 출력하라' 라는 뜻"
      ]
    },
    {
      "cell_type": "markdown",
      "metadata": {
        "id": "PHvohf8RZkiy"
      },
      "source": [
        "(2) 불 연산"
      ]
    },
    {
      "cell_type": "code",
      "metadata": {
        "colab": {
          "base_uri": "https://localhost:8080/"
        },
        "id": "Wpn9A0ZUZYRt",
        "outputId": "a5f0c6bf-bb23-4890-d4ed-b6f4372ddcbd"
      },
      "source": [
        "bool('python')"
      ],
      "execution_count": 125,
      "outputs": [
        {
          "output_type": "execute_result",
          "data": {
            "text/plain": [
              "True"
            ]
          },
          "metadata": {
            "tags": []
          },
          "execution_count": 125
        }
      ]
    },
    {
      "cell_type": "code",
      "metadata": {
        "colab": {
          "base_uri": "https://localhost:8080/"
        },
        "id": "C1y2njuPZoaj",
        "outputId": "989c05f3-8431-4480-eeb7-15c5e112b9ea"
      },
      "source": [
        "bool('')"
      ],
      "execution_count": 126,
      "outputs": [
        {
          "output_type": "execute_result",
          "data": {
            "text/plain": [
              "False"
            ]
          },
          "metadata": {
            "tags": []
          },
          "execution_count": 126
        }
      ]
    },
    {
      "cell_type": "code",
      "metadata": {
        "colab": {
          "base_uri": "https://localhost:8080/"
        },
        "id": "cBwK_pMJZpUc",
        "outputId": "91d2c937-8f78-4d85-9825-04079ef797a3"
      },
      "source": [
        "bool([1, 2, 3])"
      ],
      "execution_count": 127,
      "outputs": [
        {
          "output_type": "execute_result",
          "data": {
            "text/plain": [
              "True"
            ]
          },
          "metadata": {
            "tags": []
          },
          "execution_count": 127
        }
      ]
    },
    {
      "cell_type": "code",
      "metadata": {
        "colab": {
          "base_uri": "https://localhost:8080/"
        },
        "id": "q1nQDoMcZrHL",
        "outputId": "c176e94e-ac01-42b1-cedb-0d6e358b2cee"
      },
      "source": [
        "bool([])"
      ],
      "execution_count": 128,
      "outputs": [
        {
          "output_type": "execute_result",
          "data": {
            "text/plain": [
              "False"
            ]
          },
          "metadata": {
            "tags": []
          },
          "execution_count": 128
        }
      ]
    },
    {
      "cell_type": "code",
      "metadata": {
        "colab": {
          "base_uri": "https://localhost:8080/"
        },
        "id": "5p1fkWT8Zrze",
        "outputId": "d86fa63a-ba02-49c2-ac1a-ffd9081f473c"
      },
      "source": [
        "bool(0)"
      ],
      "execution_count": 129,
      "outputs": [
        {
          "output_type": "execute_result",
          "data": {
            "text/plain": [
              "False"
            ]
          },
          "metadata": {
            "tags": []
          },
          "execution_count": 129
        }
      ]
    },
    {
      "cell_type": "code",
      "metadata": {
        "colab": {
          "base_uri": "https://localhost:8080/"
        },
        "id": "m4xy0Z4OZs8c",
        "outputId": "9fa1c7a9-9df7-49b9-8f8b-8f92a9b5ba31"
      },
      "source": [
        "bool(3)"
      ],
      "execution_count": 130,
      "outputs": [
        {
          "output_type": "execute_result",
          "data": {
            "text/plain": [
              "True"
            ]
          },
          "metadata": {
            "tags": []
          },
          "execution_count": 130
        }
      ]
    },
    {
      "cell_type": "markdown",
      "metadata": {
        "id": "bSl-2Q9XZvkq"
      },
      "source": [
        "# 08. 변수"
      ]
    },
    {
      "cell_type": "markdown",
      "metadata": {
        "id": "ZoHOQFAOZ1ln"
      },
      "source": [
        "변수 : 자료형의 값을 저장하는 공간, 사용하는 객체를 가리키는 것\r\n"
      ]
    },
    {
      "cell_type": "code",
      "metadata": {
        "id": "J3Md5L_lZt9S"
      },
      "source": [
        "a = 1\r\n",
        "b = 'python'\r\n",
        "c = [1, 2, 3]"
      ],
      "execution_count": 131,
      "outputs": []
    },
    {
      "cell_type": "code",
      "metadata": {
        "colab": {
          "base_uri": "https://localhost:8080/"
        },
        "id": "KHgelg4xZ-WF",
        "outputId": "0755a033-ad95-44da-8e79-677d1d029911"
      },
      "source": [
        "print(a)\r\n",
        "print(b)\r\n",
        "print(c)"
      ],
      "execution_count": 133,
      "outputs": [
        {
          "output_type": "stream",
          "text": [
            "1\n",
            "python\n",
            "[1, 2, 3]\n"
          ],
          "name": "stdout"
        }
      ]
    },
    {
      "cell_type": "code",
      "metadata": {
        "colab": {
          "base_uri": "https://localhost:8080/"
        },
        "id": "3P_JTZCOZ-_a",
        "outputId": "4807585d-9d52-4cb7-ef1f-a05c0e8889d2"
      },
      "source": [
        "a = [1, 2, 3]   # a 변수가 가리키는 메모리의 주소 확인법\r\n",
        "id(a)"
      ],
      "execution_count": 134,
      "outputs": [
        {
          "output_type": "execute_result",
          "data": {
            "text/plain": [
              "140399279488648"
            ]
          },
          "metadata": {
            "tags": []
          },
          "execution_count": 134
        }
      ]
    },
    {
      "cell_type": "markdown",
      "metadata": {
        "id": "YwAdYFqxaT5Z"
      },
      "source": [
        "(1) 리스트를 복사할 때"
      ]
    },
    {
      "cell_type": "code",
      "metadata": {
        "id": "DhFQFAiBaOpe"
      },
      "source": [
        "a = [1, 2, 3]\r\n",
        "b = a"
      ],
      "execution_count": 135,
      "outputs": []
    },
    {
      "cell_type": "code",
      "metadata": {
        "colab": {
          "base_uri": "https://localhost:8080/"
        },
        "id": "rvZn7UY0aZCl",
        "outputId": "12ba0edf-9715-4b06-dac9-606935aa279a"
      },
      "source": [
        "id(a)"
      ],
      "execution_count": 136,
      "outputs": [
        {
          "output_type": "execute_result",
          "data": {
            "text/plain": [
              "140399279485960"
            ]
          },
          "metadata": {
            "tags": []
          },
          "execution_count": 136
        }
      ]
    },
    {
      "cell_type": "code",
      "metadata": {
        "colab": {
          "base_uri": "https://localhost:8080/"
        },
        "id": "YsFEaPTVaaDd",
        "outputId": "db8a84aa-4ba5-4d3c-f902-b87cf8d97907"
      },
      "source": [
        "id(b)   # a와 b의 id값이 동일함. 즉 a가 가리키는 대상과 b가 가리키는 대상이 동일함"
      ],
      "execution_count": 137,
      "outputs": [
        {
          "output_type": "execute_result",
          "data": {
            "text/plain": [
              "140399279485960"
            ]
          },
          "metadata": {
            "tags": []
          },
          "execution_count": 137
        }
      ]
    },
    {
      "cell_type": "code",
      "metadata": {
        "colab": {
          "base_uri": "https://localhost:8080/"
        },
        "id": "BbQno3IgaauL",
        "outputId": "b7fa21ac-eead-4687-f88d-680519aa3a4a"
      },
      "source": [
        "a is b"
      ],
      "execution_count": 138,
      "outputs": [
        {
          "output_type": "execute_result",
          "data": {
            "text/plain": [
              "True"
            ]
          },
          "metadata": {
            "tags": []
          },
          "execution_count": 138
        }
      ]
    },
    {
      "cell_type": "code",
      "metadata": {
        "id": "1MQ-kU0DakZb"
      },
      "source": [
        "a[1] = 4"
      ],
      "execution_count": 139,
      "outputs": []
    },
    {
      "cell_type": "code",
      "metadata": {
        "colab": {
          "base_uri": "https://localhost:8080/"
        },
        "id": "jJBt47NWam63",
        "outputId": "68660fcd-9f6a-416d-d8c0-9a81359f39ca"
      },
      "source": [
        "a"
      ],
      "execution_count": 140,
      "outputs": [
        {
          "output_type": "execute_result",
          "data": {
            "text/plain": [
              "[1, 4, 3]"
            ]
          },
          "metadata": {
            "tags": []
          },
          "execution_count": 140
        }
      ]
    },
    {
      "cell_type": "code",
      "metadata": {
        "colab": {
          "base_uri": "https://localhost:8080/"
        },
        "id": "XuM1iY4xanMi",
        "outputId": "22bd7cc1-bcf5-4360-8d99-a24b0ab0cbd3"
      },
      "source": [
        "b"
      ],
      "execution_count": 141,
      "outputs": [
        {
          "output_type": "execute_result",
          "data": {
            "text/plain": [
              "[1, 4, 3]"
            ]
          },
          "metadata": {
            "tags": []
          },
          "execution_count": 141
        }
      ]
    },
    {
      "cell_type": "markdown",
      "metadata": {
        "id": "tuEi9Jzyaply"
      },
      "source": [
        "- [:] 사용"
      ]
    },
    {
      "cell_type": "code",
      "metadata": {
        "id": "hCrc93qkanrn"
      },
      "source": [
        "a = [1, 2, 3]"
      ],
      "execution_count": 142,
      "outputs": []
    },
    {
      "cell_type": "code",
      "metadata": {
        "id": "wrgjjWyVasav"
      },
      "source": [
        "b = a[:]"
      ],
      "execution_count": 143,
      "outputs": []
    },
    {
      "cell_type": "code",
      "metadata": {
        "id": "sjLCl3C3atiG"
      },
      "source": [
        "a[1] = 4"
      ],
      "execution_count": 144,
      "outputs": []
    },
    {
      "cell_type": "code",
      "metadata": {
        "colab": {
          "base_uri": "https://localhost:8080/"
        },
        "id": "1jwaoY_ZauZu",
        "outputId": "6416cc5c-f3e9-4905-ea73-990cab26a9dc"
      },
      "source": [
        "a"
      ],
      "execution_count": 145,
      "outputs": [
        {
          "output_type": "execute_result",
          "data": {
            "text/plain": [
              "[1, 4, 3]"
            ]
          },
          "metadata": {
            "tags": []
          },
          "execution_count": 145
        }
      ]
    },
    {
      "cell_type": "code",
      "metadata": {
        "colab": {
          "base_uri": "https://localhost:8080/"
        },
        "id": "vW7tShtnauzr",
        "outputId": "7bf4b335-46e0-4365-e61d-08ce7f168637"
      },
      "source": [
        "b"
      ],
      "execution_count": 146,
      "outputs": [
        {
          "output_type": "execute_result",
          "data": {
            "text/plain": [
              "[1, 2, 3]"
            ]
          },
          "metadata": {
            "tags": []
          },
          "execution_count": 146
        }
      ]
    },
    {
      "cell_type": "markdown",
      "metadata": {
        "id": "IUQjJeusaygP"
      },
      "source": [
        "- copy 모듈 사용"
      ]
    },
    {
      "cell_type": "code",
      "metadata": {
        "id": "gRrw5kQhavIS"
      },
      "source": [
        "from copy import copy"
      ],
      "execution_count": 147,
      "outputs": []
    },
    {
      "cell_type": "code",
      "metadata": {
        "id": "fwbHLcmea6Bu"
      },
      "source": [
        "a = [1, 2, 3]"
      ],
      "execution_count": 148,
      "outputs": []
    },
    {
      "cell_type": "code",
      "metadata": {
        "id": "N3SrowAxa65e"
      },
      "source": [
        "b = copy(a)   # b = a[:]와 동일"
      ],
      "execution_count": 149,
      "outputs": []
    },
    {
      "cell_type": "code",
      "metadata": {
        "colab": {
          "base_uri": "https://localhost:8080/"
        },
        "id": "Q6gTnABBa74g",
        "outputId": "29dfd9e1-2741-4fdb-f32c-0c4d994e1b33"
      },
      "source": [
        "a"
      ],
      "execution_count": 150,
      "outputs": [
        {
          "output_type": "execute_result",
          "data": {
            "text/plain": [
              "[1, 2, 3]"
            ]
          },
          "metadata": {
            "tags": []
          },
          "execution_count": 150
        }
      ]
    },
    {
      "cell_type": "code",
      "metadata": {
        "colab": {
          "base_uri": "https://localhost:8080/"
        },
        "id": "2yd3CL6abBz5",
        "outputId": "e83fc7c4-4074-457d-ec46-9c7fbec413e6"
      },
      "source": [
        "b"
      ],
      "execution_count": 151,
      "outputs": [
        {
          "output_type": "execute_result",
          "data": {
            "text/plain": [
              "[1, 2, 3]"
            ]
          },
          "metadata": {
            "tags": []
          },
          "execution_count": 151
        }
      ]
    },
    {
      "cell_type": "code",
      "metadata": {
        "colab": {
          "base_uri": "https://localhost:8080/"
        },
        "id": "eBY6UPA5bCT-",
        "outputId": "71d21176-fee0-4fb6-c40a-20c4910eb73a"
      },
      "source": [
        "b is a   # 값을 같으나 주소가 달라져서 다른 값이 됨"
      ],
      "execution_count": 152,
      "outputs": [
        {
          "output_type": "execute_result",
          "data": {
            "text/plain": [
              "False"
            ]
          },
          "metadata": {
            "tags": []
          },
          "execution_count": 152
        }
      ]
    },
    {
      "cell_type": "code",
      "metadata": {
        "colab": {
          "base_uri": "https://localhost:8080/"
        },
        "id": "Th494czSbC0c",
        "outputId": "a4fcd105-b635-40a6-c4d3-a99da90110b0"
      },
      "source": [
        "id(a)"
      ],
      "execution_count": 153,
      "outputs": [
        {
          "output_type": "execute_result",
          "data": {
            "text/plain": [
              "140399279486856"
            ]
          },
          "metadata": {
            "tags": []
          },
          "execution_count": 153
        }
      ]
    },
    {
      "cell_type": "code",
      "metadata": {
        "colab": {
          "base_uri": "https://localhost:8080/"
        },
        "id": "gsnXj2lWbHoL",
        "outputId": "94fe92cd-151d-4c48-ca17-f2518265897b"
      },
      "source": [
        "id(b)"
      ],
      "execution_count": 154,
      "outputs": [
        {
          "output_type": "execute_result",
          "data": {
            "text/plain": [
              "140399279413192"
            ]
          },
          "metadata": {
            "tags": []
          },
          "execution_count": 154
        }
      ]
    },
    {
      "cell_type": "markdown",
      "metadata": {
        "id": "tdHdS4L2bLoT"
      },
      "source": [
        "(2) 변수 만드는 방법"
      ]
    },
    {
      "cell_type": "code",
      "metadata": {
        "id": "lUEPqcQrbILL"
      },
      "source": [
        "a, b = ('python', 'life')   # 튜플로 만들기"
      ],
      "execution_count": 155,
      "outputs": []
    },
    {
      "cell_type": "code",
      "metadata": {
        "colab": {
          "base_uri": "https://localhost:8080/",
          "height": 35
        },
        "id": "D8VP98Q9bSOU",
        "outputId": "2656f041-087f-4e83-b9bb-831ab92c3d08"
      },
      "source": [
        "a"
      ],
      "execution_count": 156,
      "outputs": [
        {
          "output_type": "execute_result",
          "data": {
            "application/vnd.google.colaboratory.intrinsic+json": {
              "type": "string"
            },
            "text/plain": [
              "'python'"
            ]
          },
          "metadata": {
            "tags": []
          },
          "execution_count": 156
        }
      ]
    },
    {
      "cell_type": "code",
      "metadata": {
        "colab": {
          "base_uri": "https://localhost:8080/",
          "height": 35
        },
        "id": "oDXwQW1xbSrM",
        "outputId": "6ba02ecc-0195-40f0-ef7a-c8462f3ff9a1"
      },
      "source": [
        "b"
      ],
      "execution_count": 157,
      "outputs": [
        {
          "output_type": "execute_result",
          "data": {
            "application/vnd.google.colaboratory.intrinsic+json": {
              "type": "string"
            },
            "text/plain": [
              "'life'"
            ]
          },
          "metadata": {
            "tags": []
          },
          "execution_count": 157
        }
      ]
    },
    {
      "cell_type": "code",
      "metadata": {
        "id": "L933grRzbTUl"
      },
      "source": [
        "[a, b] = ['python', 'life']"
      ],
      "execution_count": 158,
      "outputs": []
    },
    {
      "cell_type": "code",
      "metadata": {
        "colab": {
          "base_uri": "https://localhost:8080/"
        },
        "id": "lnoZcI3Uba4i",
        "outputId": "12573318-dbcb-428c-90e6-a10b0d2cc43c"
      },
      "source": [
        "[a]"
      ],
      "execution_count": 160,
      "outputs": [
        {
          "output_type": "execute_result",
          "data": {
            "text/plain": [
              "['python']"
            ]
          },
          "metadata": {
            "tags": []
          },
          "execution_count": 160
        }
      ]
    },
    {
      "cell_type": "code",
      "metadata": {
        "colab": {
          "base_uri": "https://localhost:8080/"
        },
        "id": "rAWVbirTbbwn",
        "outputId": "fc3550dc-72be-4ddc-a5ae-eb4bf4a1c648"
      },
      "source": [
        "[b]"
      ],
      "execution_count": 161,
      "outputs": [
        {
          "output_type": "execute_result",
          "data": {
            "text/plain": [
              "['life']"
            ]
          },
          "metadata": {
            "tags": []
          },
          "execution_count": 161
        }
      ]
    },
    {
      "cell_type": "code",
      "metadata": {
        "id": "gJNVhHTVbfTW"
      },
      "source": [
        "a = b = 'python'"
      ],
      "execution_count": 162,
      "outputs": []
    },
    {
      "cell_type": "code",
      "metadata": {
        "colab": {
          "base_uri": "https://localhost:8080/",
          "height": 35
        },
        "id": "2O8vqItPbiAB",
        "outputId": "5f57730f-b11f-46b7-b96f-3052da279884"
      },
      "source": [
        "a"
      ],
      "execution_count": 163,
      "outputs": [
        {
          "output_type": "execute_result",
          "data": {
            "application/vnd.google.colaboratory.intrinsic+json": {
              "type": "string"
            },
            "text/plain": [
              "'python'"
            ]
          },
          "metadata": {
            "tags": []
          },
          "execution_count": 163
        }
      ]
    },
    {
      "cell_type": "code",
      "metadata": {
        "colab": {
          "base_uri": "https://localhost:8080/",
          "height": 35
        },
        "id": "BBMxcJ_zbjLi",
        "outputId": "22fa3adb-f60f-4623-e16d-6dc26f503624"
      },
      "source": [
        "b"
      ],
      "execution_count": 164,
      "outputs": [
        {
          "output_type": "execute_result",
          "data": {
            "application/vnd.google.colaboratory.intrinsic+json": {
              "type": "string"
            },
            "text/plain": [
              "'python'"
            ]
          },
          "metadata": {
            "tags": []
          },
          "execution_count": 164
        }
      ]
    },
    {
      "cell_type": "code",
      "metadata": {
        "id": "tgjxip4objjP"
      },
      "source": [
        "a = 3\r\n",
        "b = 5\r\n",
        "a, b = b, a   # a와 b의 값을 바꿈"
      ],
      "execution_count": 165,
      "outputs": []
    },
    {
      "cell_type": "code",
      "metadata": {
        "colab": {
          "base_uri": "https://localhost:8080/"
        },
        "id": "7dwJOtOFbmZb",
        "outputId": "e9b5bc49-057d-4fcd-e273-f476373359e5"
      },
      "source": [
        "a"
      ],
      "execution_count": 166,
      "outputs": [
        {
          "output_type": "execute_result",
          "data": {
            "text/plain": [
              "5"
            ]
          },
          "metadata": {
            "tags": []
          },
          "execution_count": 166
        }
      ]
    },
    {
      "cell_type": "code",
      "metadata": {
        "colab": {
          "base_uri": "https://localhost:8080/"
        },
        "id": "XOmNBpp-bm8z",
        "outputId": "a6b0597e-b806-4063-c000-1e4095a32992"
      },
      "source": [
        "b"
      ],
      "execution_count": 167,
      "outputs": [
        {
          "output_type": "execute_result",
          "data": {
            "text/plain": [
              "3"
            ]
          },
          "metadata": {
            "tags": []
          },
          "execution_count": 167
        }
      ]
    },
    {
      "cell_type": "markdown",
      "metadata": {
        "id": "GFSL3_k7bqHH"
      },
      "source": [
        "[ 연습 문제 ] : 다음 예제를 실행하고 그 결과를 설명"
      ]
    },
    {
      "cell_type": "code",
      "metadata": {
        "id": "Q86vZoKfbnef"
      },
      "source": [
        "a = [1, 2, 3]"
      ],
      "execution_count": 168,
      "outputs": []
    },
    {
      "cell_type": "code",
      "metadata": {
        "id": "ASKqM8JFbunJ"
      },
      "source": [
        "b = [1, 2, 3]"
      ],
      "execution_count": 169,
      "outputs": []
    },
    {
      "cell_type": "code",
      "metadata": {
        "colab": {
          "base_uri": "https://localhost:8080/"
        },
        "id": "Y-z9h1jDbvp7",
        "outputId": "2bf4109d-080e-4c25-ab6e-04dd3455b4e0"
      },
      "source": [
        "a is b"
      ],
      "execution_count": 170,
      "outputs": [
        {
          "output_type": "execute_result",
          "data": {
            "text/plain": [
              "False"
            ]
          },
          "metadata": {
            "tags": []
          },
          "execution_count": 170
        }
      ]
    },
    {
      "cell_type": "code",
      "metadata": {
        "colab": {
          "base_uri": "https://localhost:8080/"
        },
        "id": "HHT32nP0bwNw",
        "outputId": "c2d9b635-f331-4629-c919-d3c6123c9792"
      },
      "source": [
        "print(id(a))   # 둘의 메모리 주소가 서로 다르기 때문에 False\r\n",
        "print(id(b))"
      ],
      "execution_count": 171,
      "outputs": [
        {
          "output_type": "stream",
          "text": [
            "140399279442312\n",
            "140399279297864\n"
          ],
          "name": "stdout"
        }
      ]
    },
    {
      "cell_type": "code",
      "metadata": {
        "id": "5wHnBow-b4le"
      },
      "source": [
        ""
      ],
      "execution_count": null,
      "outputs": []
    }
  ]
}