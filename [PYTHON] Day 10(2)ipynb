{
  "nbformat": 4,
  "nbformat_minor": 0,
  "metadata": {
    "colab": {
      "name": "[PYTHON] Day 10.ipynb",
      "provenance": [],
      "collapsed_sections": [],
      "authorship_tag": "ABX9TyORGClKvq+K57CbiNPB0Byp",
      "include_colab_link": true
    },
    "kernelspec": {
      "name": "python3",
      "display_name": "Python 3"
    }
  },
  "cells": [
    {
      "cell_type": "markdown",
      "metadata": {
        "id": "view-in-github",
        "colab_type": "text"
      },
      "source": [
        "<a href=\"https://colab.research.google.com/github/7ryean/PYTHON/blob/main/%5BPYTHON%5D%20Day%2010(2)ipynb\" target=\"_parent\"><img src=\"https://colab.research.google.com/assets/colab-badge.svg\" alt=\"Open In Colab\"/></a>"
      ]
    },
    {
      "cell_type": "markdown",
      "metadata": {
        "id": "J6cIErMZoBbu"
      },
      "source": [
        "# **프로그램의 입력과 출력은 어떻게 해야 할까?**"
      ]
    },
    {
      "cell_type": "markdown",
      "metadata": {
        "id": "Jx5c06Uin1vP"
      },
      "source": [
        "# 4-2. 사용자 입력과 출력"
      ]
    },
    {
      "cell_type": "markdown",
      "metadata": {
        "id": "8hUUwUOaoHRY"
      },
      "source": [
        "(1) 사용자 입력"
      ]
    },
    {
      "cell_type": "markdown",
      "metadata": {
        "id": "p3tgeE_FoIcf"
      },
      "source": [
        "- input의 사용"
      ]
    },
    {
      "cell_type": "code",
      "metadata": {
        "colab": {
          "base_uri": "https://localhost:8080/"
        },
        "id": "Fm35gXQHgsLN",
        "outputId": "b1e0e92f-b353-4467-eb68-6d8e7b5e38da"
      },
      "source": [
        "a = input()"
      ],
      "execution_count": null,
      "outputs": [
        {
          "output_type": "stream",
          "text": [
            "Life is too short, you need python\n"
          ],
          "name": "stdout"
        }
      ]
    },
    {
      "cell_type": "code",
      "metadata": {
        "colab": {
          "base_uri": "https://localhost:8080/",
          "height": 35
        },
        "id": "Q4_p0QNBgz4k",
        "outputId": "23795fbb-af64-44d0-d8bc-5a030b4c94f9"
      },
      "source": [
        "a"
      ],
      "execution_count": null,
      "outputs": [
        {
          "output_type": "execute_result",
          "data": {
            "application/vnd.google.colaboratory.intrinsic+json": {
              "type": "string"
            },
            "text/plain": [
              "'Life is too short, you need python'"
            ]
          },
          "metadata": {
            "tags": []
          },
          "execution_count": 2
        }
      ]
    },
    {
      "cell_type": "markdown",
      "metadata": {
        "id": "HdYG2yU3oMRv"
      },
      "source": [
        "- 프롬포트 값을 띄워서 사용자 입력받기"
      ]
    },
    {
      "cell_type": "code",
      "metadata": {
        "colab": {
          "base_uri": "https://localhost:8080/"
        },
        "id": "T9PUJsObg10v",
        "outputId": "5485bff1-327d-4c48-9099-61b80f4a1438"
      },
      "source": [
        "number = input(\"숫자를 입력하세요 : \")"
      ],
      "execution_count": null,
      "outputs": [
        {
          "output_type": "stream",
          "text": [
            "숫자를 입력하세요 : 777\n"
          ],
          "name": "stdout"
        }
      ]
    },
    {
      "cell_type": "code",
      "metadata": {
        "colab": {
          "base_uri": "https://localhost:8080/",
          "height": 35
        },
        "id": "NcHdrQFxg7vM",
        "outputId": "a2547b8a-5b87-4274-8f19-d622b6004964"
      },
      "source": [
        "number"
      ],
      "execution_count": null,
      "outputs": [
        {
          "output_type": "execute_result",
          "data": {
            "application/vnd.google.colaboratory.intrinsic+json": {
              "type": "string"
            },
            "text/plain": [
              "'777'"
            ]
          },
          "metadata": {
            "tags": []
          },
          "execution_count": 4
        }
      ]
    },
    {
      "cell_type": "code",
      "metadata": {
        "colab": {
          "base_uri": "https://localhost:8080/"
        },
        "id": "AZveTClshYeZ",
        "outputId": "1b5256cd-e7f7-4e12-c1bb-1c72b468bc27"
      },
      "source": [
        "print(number)"
      ],
      "execution_count": null,
      "outputs": [
        {
          "output_type": "stream",
          "text": [
            "777\n"
          ],
          "name": "stdout"
        }
      ]
    },
    {
      "cell_type": "markdown",
      "metadata": {
        "id": "azcD-80moKb3"
      },
      "source": [
        "(2) print 자세히 알기"
      ]
    },
    {
      "cell_type": "code",
      "metadata": {
        "colab": {
          "base_uri": "https://localhost:8080/"
        },
        "id": "E9pJAjRthwb1",
        "outputId": "77cf2655-4b00-47e4-f98a-66a45e8b1324"
      },
      "source": [
        "a = 123\r\n",
        "print(a)"
      ],
      "execution_count": null,
      "outputs": [
        {
          "output_type": "stream",
          "text": [
            "123\n"
          ],
          "name": "stdout"
        }
      ]
    },
    {
      "cell_type": "code",
      "metadata": {
        "colab": {
          "base_uri": "https://localhost:8080/"
        },
        "id": "tnXssrmmhyaD",
        "outputId": "00772898-3c01-4397-f0b5-909564fd7805"
      },
      "source": [
        "a = 'Python'\r\n",
        "print(a)"
      ],
      "execution_count": null,
      "outputs": [
        {
          "output_type": "stream",
          "text": [
            "Python\n"
          ],
          "name": "stdout"
        }
      ]
    },
    {
      "cell_type": "code",
      "metadata": {
        "colab": {
          "base_uri": "https://localhost:8080/"
        },
        "id": "i1b91sFNh1VH",
        "outputId": "ba552b92-5f99-456a-ceab-105abd50cf72"
      },
      "source": [
        "a = [1, 2, 3]\r\n",
        "print(a)"
      ],
      "execution_count": null,
      "outputs": [
        {
          "output_type": "stream",
          "text": [
            "[1, 2, 3]\n"
          ],
          "name": "stdout"
        }
      ]
    },
    {
      "cell_type": "markdown",
      "metadata": {
        "id": "IBQj4XsboQyW"
      },
      "source": [
        "- 큰따옴표(\")로 둘러싸인 문자열은 + 연산과 동일하다"
      ]
    },
    {
      "cell_type": "code",
      "metadata": {
        "colab": {
          "base_uri": "https://localhost:8080/"
        },
        "id": "YTB_PmCKh5x1",
        "outputId": "26018144-3b7d-4897-a695-a4a1bf515e67"
      },
      "source": [
        "print(\"life\" \"is\" \"too short\")\r\n",
        "print(\"life\"+\"is\"+\"too short\")"
      ],
      "execution_count": null,
      "outputs": [
        {
          "output_type": "stream",
          "text": [
            "lifeistoo short\n",
            "lifeistoo short\n"
          ],
          "name": "stdout"
        }
      ]
    },
    {
      "cell_type": "markdown",
      "metadata": {
        "id": "eup2BHMRoUX3"
      },
      "source": [
        "- 문자열 띄어쓰기는 콤마로 한다"
      ]
    },
    {
      "cell_type": "code",
      "metadata": {
        "colab": {
          "base_uri": "https://localhost:8080/"
        },
        "id": "I0rjaITOiDqM",
        "outputId": "40855d1d-e637-4d4d-8253-fe5cb1e3b159"
      },
      "source": [
        "print(\"life\", \"is\", \"too short\")"
      ],
      "execution_count": null,
      "outputs": [
        {
          "output_type": "stream",
          "text": [
            "life is too short\n"
          ],
          "name": "stdout"
        }
      ]
    },
    {
      "cell_type": "markdown",
      "metadata": {
        "id": "AEQWGwuBoWrO"
      },
      "source": [
        "- 한 줄에 결괏값 출력하기"
      ]
    },
    {
      "cell_type": "code",
      "metadata": {
        "colab": {
          "base_uri": "https://localhost:8080/"
        },
        "id": "B8s4rDnRiIl9",
        "outputId": "59f8e328-a3e5-472b-802e-d2f52d21d3fb"
      },
      "source": [
        "for i in range(10) :\r\n",
        "  print(i, end=' ')"
      ],
      "execution_count": null,
      "outputs": [
        {
          "output_type": "stream",
          "text": [
            "0 1 2 3 4 5 6 7 8 9 "
          ],
          "name": "stdout"
        }
      ]
    },
    {
      "cell_type": "markdown",
      "metadata": {
        "id": "5aBUp9_MiPyd"
      },
      "source": [
        "# 4-3. 파일 읽고 쓰기\r\n"
      ]
    },
    {
      "cell_type": "markdown",
      "metadata": {
        "id": "ZoEsWrxFoYc2"
      },
      "source": [
        "(1) 파일 생성하기"
      ]
    },
    {
      "cell_type": "code",
      "metadata": {
        "id": "cMdT7H5CnzEP"
      },
      "source": [
        "f = open(\"새파일.txt\", 'w')\r\n",
        "f.close()"
      ],
      "execution_count": null,
      "outputs": []
    },
    {
      "cell_type": "markdown",
      "metadata": {
        "id": "O2uIkBOLie7M"
      },
      "source": [
        "파일 객체 = open(파일 이름, 파일 열기 모드)"
      ]
    },
    {
      "cell_type": "markdown",
      "metadata": {
        "id": "Spi8jwZhit69"
      },
      "source": [
        "![파일 열기 모드.PNG](data:image/png;base64,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)"
      ]
    },
    {
      "cell_type": "code",
      "metadata": {
        "colab": {
          "base_uri": "https://localhost:8080/",
          "height": 190
        },
        "id": "Yeb9tOMEibSF",
        "outputId": "5f809ed6-cda1-4738-e853-753bfc9144c6"
      },
      "source": [
        "f = open(\"C:/새파일.txt\", 'w')\r\n",
        "f.close()"
      ],
      "execution_count": null,
      "outputs": [
        {
          "output_type": "error",
          "ename": "FileNotFoundError",
          "evalue": "ignored",
          "traceback": [
            "\u001b[0;31m---------------------------------------------------------------------------\u001b[0m",
            "\u001b[0;31mFileNotFoundError\u001b[0m                         Traceback (most recent call last)",
            "\u001b[0;32m<ipython-input-16-fb6172f0f64c>\u001b[0m in \u001b[0;36m<module>\u001b[0;34m()\u001b[0m\n\u001b[0;32m----> 1\u001b[0;31m \u001b[0mf\u001b[0m \u001b[0;34m=\u001b[0m \u001b[0mopen\u001b[0m\u001b[0;34m(\u001b[0m\u001b[0;34m\"C:/새파일.txt\"\u001b[0m\u001b[0;34m,\u001b[0m \u001b[0;34m'w'\u001b[0m\u001b[0;34m)\u001b[0m\u001b[0;34m\u001b[0m\u001b[0;34m\u001b[0m\u001b[0m\n\u001b[0m\u001b[1;32m      2\u001b[0m \u001b[0mf\u001b[0m\u001b[0;34m.\u001b[0m\u001b[0mclose\u001b[0m\u001b[0;34m(\u001b[0m\u001b[0;34m)\u001b[0m\u001b[0;34m\u001b[0m\u001b[0;34m\u001b[0m\u001b[0m\n",
            "\u001b[0;31mFileNotFoundError\u001b[0m: [Errno 2] No such file or directory: 'C:/새파일.txt'"
          ]
        }
      ]
    },
    {
      "cell_type": "markdown",
      "metadata": {
        "id": "qT21yJtejElv"
      },
      "source": [
        "(2) 파일을 쓰기 모드로 열어 출력값 적기"
      ]
    },
    {
      "cell_type": "code",
      "metadata": {
        "colab": {
          "base_uri": "https://localhost:8080/",
          "height": 244
        },
        "id": "P3G9Gtksi5uw",
        "outputId": "1be94fe4-3372-4f94-8496-0532d07b8934"
      },
      "source": [
        "f = open(\"C:/Users/새파일.txt\", 'w')\r\n",
        "for i in range(1, 11) :\r\n",
        "  data = \"%d번째 줄입니다.\\n\" % i\r\n",
        "  f.write(data)\r\n",
        "f.close()"
      ],
      "execution_count": null,
      "outputs": [
        {
          "output_type": "error",
          "ename": "FileNotFoundError",
          "evalue": "ignored",
          "traceback": [
            "\u001b[0;31m---------------------------------------------------------------------------\u001b[0m",
            "\u001b[0;31mFileNotFoundError\u001b[0m                         Traceback (most recent call last)",
            "\u001b[0;32m<ipython-input-17-e6a1ed8f1208>\u001b[0m in \u001b[0;36m<module>\u001b[0;34m()\u001b[0m\n\u001b[0;32m----> 1\u001b[0;31m \u001b[0mf\u001b[0m \u001b[0;34m=\u001b[0m \u001b[0mopen\u001b[0m\u001b[0;34m(\u001b[0m\u001b[0;34m\"C:/Users/새파일.txt\"\u001b[0m\u001b[0;34m,\u001b[0m \u001b[0;34m'w'\u001b[0m\u001b[0;34m)\u001b[0m\u001b[0;34m\u001b[0m\u001b[0;34m\u001b[0m\u001b[0m\n\u001b[0m\u001b[1;32m      2\u001b[0m \u001b[0;32mfor\u001b[0m \u001b[0mi\u001b[0m \u001b[0;32min\u001b[0m \u001b[0mrange\u001b[0m\u001b[0;34m(\u001b[0m\u001b[0;36m1\u001b[0m\u001b[0;34m,\u001b[0m \u001b[0;36m11\u001b[0m\u001b[0;34m)\u001b[0m \u001b[0;34m:\u001b[0m\u001b[0;34m\u001b[0m\u001b[0;34m\u001b[0m\u001b[0m\n\u001b[1;32m      3\u001b[0m   \u001b[0mdata\u001b[0m \u001b[0;34m=\u001b[0m \u001b[0;34m\"%d번째 줄입니다.\\n\"\u001b[0m \u001b[0;34m%\u001b[0m \u001b[0mi\u001b[0m\u001b[0;34m\u001b[0m\u001b[0;34m\u001b[0m\u001b[0m\n\u001b[1;32m      4\u001b[0m   \u001b[0mf\u001b[0m\u001b[0;34m.\u001b[0m\u001b[0mwrite\u001b[0m\u001b[0;34m(\u001b[0m\u001b[0mdata\u001b[0m\u001b[0;34m)\u001b[0m\u001b[0;34m\u001b[0m\u001b[0;34m\u001b[0m\u001b[0m\n\u001b[1;32m      5\u001b[0m \u001b[0mf\u001b[0m\u001b[0;34m.\u001b[0m\u001b[0mclose\u001b[0m\u001b[0;34m(\u001b[0m\u001b[0;34m)\u001b[0m\u001b[0;34m\u001b[0m\u001b[0;34m\u001b[0m\u001b[0m\n",
            "\u001b[0;31mFileNotFoundError\u001b[0m: [Errno 2] No such file or directory: 'C:/Users/새파일.txt'"
          ]
        }
      ]
    },
    {
      "cell_type": "code",
      "metadata": {
        "id": "Ph-5d_JzjheU"
      },
      "source": [
        ""
      ],
      "execution_count": null,
      "outputs": []
    }
  ]
}