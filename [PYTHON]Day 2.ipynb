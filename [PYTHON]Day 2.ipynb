{
  "nbformat": 4,
  "nbformat_minor": 0,
  "metadata": {
    "colab": {
      "name": "[PYTHON] Day 2.ipynb",
      "provenance": [],
      "collapsed_sections": [],
      "authorship_tag": "ABX9TyO9Hx0Pe69Q9QuTBcxi6lux",
      "include_colab_link": true
    },
    "kernelspec": {
      "name": "python3",
      "display_name": "Python 3"
    }
  },
  "cells": [
    {
      "cell_type": "markdown",
      "metadata": {
        "id": "view-in-github",
        "colab_type": "text"
      },
      "source": [
        "<a href=\"https://colab.research.google.com/github/7ryean/PYTHON/blob/main/%5BPYTHON%5DDay%202.ipynb\" target=\"_parent\"><img src=\"https://colab.research.google.com/assets/colab-badge.svg\" alt=\"Open In Colab\"/></a>"
      ]
    },
    {
      "cell_type": "markdown",
      "metadata": {
        "id": "k2I7hdr_k6Ba"
      },
      "source": [
        "# **파이썬 프로그래밍의 기초, 자료형**"
      ]
    },
    {
      "cell_type": "markdown",
      "metadata": {
        "id": "enUSqUJ_lC53"
      },
      "source": [
        "# 03. 리스트 "
      ]
    },
    {
      "cell_type": "markdown",
      "metadata": {
        "id": "HNLdr5g2lK8F"
      },
      "source": [
        "리스트 : 자료들을 목록화 시킨 데이터들의 묶음"
      ]
    },
    {
      "cell_type": "markdown",
      "metadata": {
        "id": "AIgPlasJlbhS"
      },
      "source": [
        "(1) 리스트 만들기"
      ]
    },
    {
      "cell_type": "code",
      "metadata": {
        "id": "ytxSfuE-7Baj"
      },
      "source": [
        "odd = [1, 3, 5, 7, 9]"
      ],
      "execution_count": 1,
      "outputs": []
    },
    {
      "cell_type": "code",
      "metadata": {
        "id": "1B3xMltL8QBj"
      },
      "source": [
        "a = []"
      ],
      "execution_count": 2,
      "outputs": []
    },
    {
      "cell_type": "code",
      "metadata": {
        "colab": {
          "base_uri": "https://localhost:8080/"
        },
        "id": "BEVuOQeh-KdJ",
        "outputId": "09a1cf9b-b84f-4ec2-ad98-aecd42dfda0b"
      },
      "source": [
        "a"
      ],
      "execution_count": 3,
      "outputs": [
        {
          "output_type": "execute_result",
          "data": {
            "text/plain": [
              "[]"
            ]
          },
          "metadata": {
            "tags": []
          },
          "execution_count": 3
        }
      ]
    },
    {
      "cell_type": "code",
      "metadata": {
        "id": "GnbxOd_p8ZL9"
      },
      "source": [
        "b = [1, 2, 3]"
      ],
      "execution_count": 4,
      "outputs": []
    },
    {
      "cell_type": "code",
      "metadata": {
        "colab": {
          "base_uri": "https://localhost:8080/"
        },
        "id": "n-OpctaB-PJZ",
        "outputId": "b341e032-05ea-48df-9b99-f1c7082467e6"
      },
      "source": [
        "b"
      ],
      "execution_count": 5,
      "outputs": [
        {
          "output_type": "execute_result",
          "data": {
            "text/plain": [
              "[1, 2, 3]"
            ]
          },
          "metadata": {
            "tags": []
          },
          "execution_count": 5
        }
      ]
    },
    {
      "cell_type": "code",
      "metadata": {
        "id": "hZ-YQ-XW8gT1"
      },
      "source": [
        "c = ['Life', 'is', 'too', 'short']"
      ],
      "execution_count": 6,
      "outputs": []
    },
    {
      "cell_type": "code",
      "metadata": {
        "colab": {
          "base_uri": "https://localhost:8080/"
        },
        "id": "NwM0NzgM-OiP",
        "outputId": "4860ba4b-7757-48f9-877e-859ce06095ec"
      },
      "source": [
        "c"
      ],
      "execution_count": 7,
      "outputs": [
        {
          "output_type": "execute_result",
          "data": {
            "text/plain": [
              "['Life', 'is', 'too', 'short']"
            ]
          },
          "metadata": {
            "tags": []
          },
          "execution_count": 7
        }
      ]
    },
    {
      "cell_type": "code",
      "metadata": {
        "id": "qJbk7lt-9joB"
      },
      "source": [
        "d = [1, 2, 'Life', 'is']"
      ],
      "execution_count": 8,
      "outputs": []
    },
    {
      "cell_type": "code",
      "metadata": {
        "colab": {
          "base_uri": "https://localhost:8080/"
        },
        "id": "NNlZGAPm-SWT",
        "outputId": "f7e234bf-d941-48c5-f8f8-a2f13b0e22a1"
      },
      "source": [
        "d"
      ],
      "execution_count": 9,
      "outputs": [
        {
          "output_type": "execute_result",
          "data": {
            "text/plain": [
              "[1, 2, 'Life', 'is']"
            ]
          },
          "metadata": {
            "tags": []
          },
          "execution_count": 9
        }
      ]
    },
    {
      "cell_type": "code",
      "metadata": {
        "id": "HIQmckCK-AQk"
      },
      "source": [
        "e = [1, 2, ['Life', 'is']]"
      ],
      "execution_count": 10,
      "outputs": []
    },
    {
      "cell_type": "code",
      "metadata": {
        "colab": {
          "base_uri": "https://localhost:8080/"
        },
        "id": "OYYGBUOV-T3R",
        "outputId": "1d7474ee-65f7-4ba1-f8a1-856f4a41e07b"
      },
      "source": [
        "e"
      ],
      "execution_count": 11,
      "outputs": [
        {
          "output_type": "execute_result",
          "data": {
            "text/plain": [
              "[1, 2, ['Life', 'is']]"
            ]
          },
          "metadata": {
            "tags": []
          },
          "execution_count": 11
        }
      ]
    },
    {
      "cell_type": "markdown",
      "metadata": {
        "id": "fHDxMbiglhsS"
      },
      "source": [
        "(2) 리스트 인덱싱과 슬라이싱"
      ]
    },
    {
      "cell_type": "markdown",
      "metadata": {
        "id": "BGRf-kLTlkW2"
      },
      "source": [
        "- 리스트 인덱싱"
      ]
    },
    {
      "cell_type": "code",
      "metadata": {
        "id": "Hov0xELj-UP-"
      },
      "source": [
        "a = [1, 2, 3]"
      ],
      "execution_count": 12,
      "outputs": []
    },
    {
      "cell_type": "code",
      "metadata": {
        "colab": {
          "base_uri": "https://localhost:8080/"
        },
        "id": "0NTsPVeU-kht",
        "outputId": "d88f0480-b259-4aa3-f39a-e77030863e0b"
      },
      "source": [
        "a"
      ],
      "execution_count": 13,
      "outputs": [
        {
          "output_type": "execute_result",
          "data": {
            "text/plain": [
              "[1, 2, 3]"
            ]
          },
          "metadata": {
            "tags": []
          },
          "execution_count": 13
        }
      ]
    },
    {
      "cell_type": "code",
      "metadata": {
        "colab": {
          "base_uri": "https://localhost:8080/"
        },
        "id": "gk7eber6-lkb",
        "outputId": "c02b0c8e-0752-4b3a-f1b9-120f5abe29de"
      },
      "source": [
        "a[0]"
      ],
      "execution_count": 14,
      "outputs": [
        {
          "output_type": "execute_result",
          "data": {
            "text/plain": [
              "1"
            ]
          },
          "metadata": {
            "tags": []
          },
          "execution_count": 14
        }
      ]
    },
    {
      "cell_type": "code",
      "metadata": {
        "colab": {
          "base_uri": "https://localhost:8080/"
        },
        "id": "RuSB2jYf-mud",
        "outputId": "c77fc14f-f714-4aca-b802-2fc0a0b1b382"
      },
      "source": [
        "a[0] + a[2]"
      ],
      "execution_count": 15,
      "outputs": [
        {
          "output_type": "execute_result",
          "data": {
            "text/plain": [
              "4"
            ]
          },
          "metadata": {
            "tags": []
          },
          "execution_count": 15
        }
      ]
    },
    {
      "cell_type": "code",
      "metadata": {
        "colab": {
          "base_uri": "https://localhost:8080/"
        },
        "id": "XkuTU1VV-pIJ",
        "outputId": "5b3d98dc-b7b5-4048-da10-d57bfb738f74"
      },
      "source": [
        "a[-1]   #"
      ],
      "execution_count": 16,
      "outputs": [
        {
          "output_type": "execute_result",
          "data": {
            "text/plain": [
              "3"
            ]
          },
          "metadata": {
            "tags": []
          },
          "execution_count": 16
        }
      ]
    },
    {
      "cell_type": "code",
      "metadata": {
        "id": "s577nQPs-rHU"
      },
      "source": [
        "a = [1, 2, 3, ['a', 'b', 'c']]"
      ],
      "execution_count": 17,
      "outputs": []
    },
    {
      "cell_type": "code",
      "metadata": {
        "colab": {
          "base_uri": "https://localhost:8080/"
        },
        "id": "3U2x_1aX-0pz",
        "outputId": "3d9d72f0-dcc6-42cf-a40a-81e2508b5203"
      },
      "source": [
        "a[0]"
      ],
      "execution_count": 18,
      "outputs": [
        {
          "output_type": "execute_result",
          "data": {
            "text/plain": [
              "1"
            ]
          },
          "metadata": {
            "tags": []
          },
          "execution_count": 18
        }
      ]
    },
    {
      "cell_type": "code",
      "metadata": {
        "colab": {
          "base_uri": "https://localhost:8080/"
        },
        "id": "_KIL-w47-1Yv",
        "outputId": "cfdb98ff-6f0f-42db-bc45-a2bc3ec71ceb"
      },
      "source": [
        "a[-1]"
      ],
      "execution_count": 19,
      "outputs": [
        {
          "output_type": "execute_result",
          "data": {
            "text/plain": [
              "['a', 'b', 'c']"
            ]
          },
          "metadata": {
            "tags": []
          },
          "execution_count": 19
        }
      ]
    },
    {
      "cell_type": "code",
      "metadata": {
        "colab": {
          "base_uri": "https://localhost:8080/"
        },
        "id": "e8bKwvga-2zv",
        "outputId": "0d5fc0ac-01b7-4a0d-ab09-3c45c5e2a3db"
      },
      "source": [
        "a[3]"
      ],
      "execution_count": 20,
      "outputs": [
        {
          "output_type": "execute_result",
          "data": {
            "text/plain": [
              "['a', 'b', 'c']"
            ]
          },
          "metadata": {
            "tags": []
          },
          "execution_count": 20
        }
      ]
    },
    {
      "cell_type": "code",
      "metadata": {
        "colab": {
          "base_uri": "https://localhost:8080/",
          "height": 35
        },
        "id": "cFhKgGCJ-4CS",
        "outputId": "89808981-5523-4647-830f-ad48bcb4299d"
      },
      "source": [
        "a[-1][0]"
      ],
      "execution_count": 21,
      "outputs": [
        {
          "output_type": "execute_result",
          "data": {
            "application/vnd.google.colaboratory.intrinsic+json": {
              "type": "string"
            },
            "text/plain": [
              "'a'"
            ]
          },
          "metadata": {
            "tags": []
          },
          "execution_count": 21
        }
      ]
    },
    {
      "cell_type": "code",
      "metadata": {
        "colab": {
          "base_uri": "https://localhost:8080/",
          "height": 35
        },
        "id": "5CLsNH7w_Ibv",
        "outputId": "c6912ff3-2d94-4499-9a55-58de93243dd4"
      },
      "source": [
        "a[-1][1]"
      ],
      "execution_count": 22,
      "outputs": [
        {
          "output_type": "execute_result",
          "data": {
            "application/vnd.google.colaboratory.intrinsic+json": {
              "type": "string"
            },
            "text/plain": [
              "'b'"
            ]
          },
          "metadata": {
            "tags": []
          },
          "execution_count": 22
        }
      ]
    },
    {
      "cell_type": "code",
      "metadata": {
        "colab": {
          "base_uri": "https://localhost:8080/",
          "height": 35
        },
        "id": "ciuqx1C7_UkZ",
        "outputId": "cd8b64bd-0ae3-47cb-b47e-fa1607b7458a"
      },
      "source": [
        "a[-1][2]"
      ],
      "execution_count": 23,
      "outputs": [
        {
          "output_type": "execute_result",
          "data": {
            "application/vnd.google.colaboratory.intrinsic+json": {
              "type": "string"
            },
            "text/plain": [
              "'c'"
            ]
          },
          "metadata": {
            "tags": []
          },
          "execution_count": 23
        }
      ]
    },
    {
      "cell_type": "markdown",
      "metadata": {
        "id": "ecDzQeexluRc"
      },
      "source": [
        "[ 점프 투 파이썬 ] : 삼중 리스트에서 인덱싱하기"
      ]
    },
    {
      "cell_type": "code",
      "metadata": {
        "id": "aUeLhnNO_au1"
      },
      "source": [
        "a = [1, 2, ['a', 'b', ['Life', 'is']]]"
      ],
      "execution_count": 24,
      "outputs": []
    },
    {
      "cell_type": "code",
      "metadata": {
        "colab": {
          "base_uri": "https://localhost:8080/",
          "height": 35
        },
        "id": "HZsWm4XP_f6D",
        "outputId": "66b42c80-1f26-4049-aa11-47212d7873f5"
      },
      "source": [
        "a[2][2][0]"
      ],
      "execution_count": 25,
      "outputs": [
        {
          "output_type": "execute_result",
          "data": {
            "application/vnd.google.colaboratory.intrinsic+json": {
              "type": "string"
            },
            "text/plain": [
              "'Life'"
            ]
          },
          "metadata": {
            "tags": []
          },
          "execution_count": 25
        }
      ]
    },
    {
      "cell_type": "markdown",
      "metadata": {
        "id": "4y_EsdiJl3H6"
      },
      "source": [
        "- 리스트 슬라이싱"
      ]
    },
    {
      "cell_type": "code",
      "metadata": {
        "id": "0WapCasQ_5J4"
      },
      "source": [
        "a = [1, 2, 3, 4, 5]"
      ],
      "execution_count": 26,
      "outputs": []
    },
    {
      "cell_type": "code",
      "metadata": {
        "colab": {
          "base_uri": "https://localhost:8080/"
        },
        "id": "OpPa8rk6_67g",
        "outputId": "79e471b8-97b9-457f-c43d-8afa29413288"
      },
      "source": [
        "a[0:2]"
      ],
      "execution_count": 27,
      "outputs": [
        {
          "output_type": "execute_result",
          "data": {
            "text/plain": [
              "[1, 2]"
            ]
          },
          "metadata": {
            "tags": []
          },
          "execution_count": 27
        }
      ]
    },
    {
      "cell_type": "code",
      "metadata": {
        "id": "Qq45RYJL_79A"
      },
      "source": [
        "a = \"12345\""
      ],
      "execution_count": 28,
      "outputs": []
    },
    {
      "cell_type": "code",
      "metadata": {
        "colab": {
          "base_uri": "https://localhost:8080/",
          "height": 35
        },
        "id": "iHIOs8lb__mZ",
        "outputId": "1935c2d9-0298-4027-c11f-0d2b541ecec1"
      },
      "source": [
        "a[0:2]"
      ],
      "execution_count": 29,
      "outputs": [
        {
          "output_type": "execute_result",
          "data": {
            "application/vnd.google.colaboratory.intrinsic+json": {
              "type": "string"
            },
            "text/plain": [
              "'12'"
            ]
          },
          "metadata": {
            "tags": []
          },
          "execution_count": 29
        }
      ]
    },
    {
      "cell_type": "code",
      "metadata": {
        "id": "yTAxy7qCABI0"
      },
      "source": [
        "a = [1, 2, 3, 4, 5]"
      ],
      "execution_count": 30,
      "outputs": []
    },
    {
      "cell_type": "code",
      "metadata": {
        "id": "0hJkIJBgAJYK"
      },
      "source": [
        "b = a[:2]"
      ],
      "execution_count": 31,
      "outputs": []
    },
    {
      "cell_type": "code",
      "metadata": {
        "id": "0c8lpZXQALz0"
      },
      "source": [
        "c = a[2:]"
      ],
      "execution_count": 32,
      "outputs": []
    },
    {
      "cell_type": "code",
      "metadata": {
        "colab": {
          "base_uri": "https://localhost:8080/"
        },
        "id": "SC_fdqzoAOlu",
        "outputId": "1fa5a011-ce16-42e0-c3e9-127557f75e8f"
      },
      "source": [
        "b"
      ],
      "execution_count": 33,
      "outputs": [
        {
          "output_type": "execute_result",
          "data": {
            "text/plain": [
              "[1, 2]"
            ]
          },
          "metadata": {
            "tags": []
          },
          "execution_count": 33
        }
      ]
    },
    {
      "cell_type": "code",
      "metadata": {
        "colab": {
          "base_uri": "https://localhost:8080/"
        },
        "id": "vWg1UFLhAPxo",
        "outputId": "0d8ac3a0-6214-483f-8d26-c2282e23c0d7"
      },
      "source": [
        "c"
      ],
      "execution_count": 34,
      "outputs": [
        {
          "output_type": "execute_result",
          "data": {
            "text/plain": [
              "[3, 4, 5]"
            ]
          },
          "metadata": {
            "tags": []
          },
          "execution_count": 34
        }
      ]
    },
    {
      "cell_type": "markdown",
      "metadata": {
        "id": "dC7iCqxMmJtE"
      },
      "source": [
        "[ 연습 문제 ] : A = [1, 2, 3, 4, 5]를 리스트[2, 3]으로 만들기"
      ]
    },
    {
      "cell_type": "code",
      "metadata": {
        "id": "sM8mLO3wAUtu"
      },
      "source": [
        "A = [1, 2, 3, 4, 5]"
      ],
      "execution_count": 35,
      "outputs": []
    },
    {
      "cell_type": "code",
      "metadata": {
        "colab": {
          "base_uri": "https://localhost:8080/"
        },
        "id": "zH4d2mhCAW00",
        "outputId": "f02af008-8448-4607-903b-64d07212d87d"
      },
      "source": [
        "A[1:3]"
      ],
      "execution_count": 36,
      "outputs": [
        {
          "output_type": "execute_result",
          "data": {
            "text/plain": [
              "[2, 3]"
            ]
          },
          "metadata": {
            "tags": []
          },
          "execution_count": 36
        }
      ]
    },
    {
      "cell_type": "markdown",
      "metadata": {
        "id": "xjeeYWBSmSyp"
      },
      "source": [
        "[ 점프 투 파이썬 ] : 중첩된 리스트에서 슬라이싱하기"
      ]
    },
    {
      "cell_type": "code",
      "metadata": {
        "id": "Z_M7Fy14ArCJ"
      },
      "source": [
        "a = [1, 2, 3, ['a', 'b', 'c'], 4, 5]"
      ],
      "execution_count": 37,
      "outputs": []
    },
    {
      "cell_type": "code",
      "metadata": {
        "colab": {
          "base_uri": "https://localhost:8080/"
        },
        "id": "lWw8C2gbAvfI",
        "outputId": "b1c1279b-e0c6-436b-80f5-1109b72987e3"
      },
      "source": [
        "a[2:5]"
      ],
      "execution_count": 38,
      "outputs": [
        {
          "output_type": "execute_result",
          "data": {
            "text/plain": [
              "[3, ['a', 'b', 'c'], 4]"
            ]
          },
          "metadata": {
            "tags": []
          },
          "execution_count": 38
        }
      ]
    },
    {
      "cell_type": "code",
      "metadata": {
        "colab": {
          "base_uri": "https://localhost:8080/"
        },
        "id": "_cU0kkCXAyIo",
        "outputId": "f8832a92-3ebf-4d72-ed8d-751d1bea25ce"
      },
      "source": [
        "a[3][:2]"
      ],
      "execution_count": 39,
      "outputs": [
        {
          "output_type": "execute_result",
          "data": {
            "text/plain": [
              "['a', 'b']"
            ]
          },
          "metadata": {
            "tags": []
          },
          "execution_count": 39
        }
      ]
    },
    {
      "cell_type": "markdown",
      "metadata": {
        "id": "JLAbMnkSmYW0"
      },
      "source": [
        "(3) 리스트 연산하기"
      ]
    },
    {
      "cell_type": "markdown",
      "metadata": {
        "id": "2MONNyG7matq"
      },
      "source": [
        "- 리스트 더하기"
      ]
    },
    {
      "cell_type": "code",
      "metadata": {
        "id": "lK87LwywA_YI"
      },
      "source": [
        "a = [1, 2, 3]"
      ],
      "execution_count": 40,
      "outputs": []
    },
    {
      "cell_type": "code",
      "metadata": {
        "id": "IhSfrj9hBA0B"
      },
      "source": [
        "b = [4, 5, 6]"
      ],
      "execution_count": 41,
      "outputs": []
    },
    {
      "cell_type": "code",
      "metadata": {
        "colab": {
          "base_uri": "https://localhost:8080/"
        },
        "id": "UFYGnCLABCBK",
        "outputId": "202b8bff-40ef-4fad-a108-c1f989ddc282"
      },
      "source": [
        "a + b"
      ],
      "execution_count": 42,
      "outputs": [
        {
          "output_type": "execute_result",
          "data": {
            "text/plain": [
              "[1, 2, 3, 4, 5, 6]"
            ]
          },
          "metadata": {
            "tags": []
          },
          "execution_count": 42
        }
      ]
    },
    {
      "cell_type": "markdown",
      "metadata": {
        "id": "OcJ5cLN8meom"
      },
      "source": [
        "- 리스트 반복하기"
      ]
    },
    {
      "cell_type": "code",
      "metadata": {
        "id": "uAkDxWLzBFXH"
      },
      "source": [
        "a = [1, 2, 3]"
      ],
      "execution_count": 43,
      "outputs": []
    },
    {
      "cell_type": "code",
      "metadata": {
        "colab": {
          "base_uri": "https://localhost:8080/"
        },
        "id": "mDk7qbNsBGeE",
        "outputId": "b15df996-e995-4dbf-a619-a8351d7e6df4"
      },
      "source": [
        "a * 3"
      ],
      "execution_count": 44,
      "outputs": [
        {
          "output_type": "execute_result",
          "data": {
            "text/plain": [
              "[1, 2, 3, 1, 2, 3, 1, 2, 3]"
            ]
          },
          "metadata": {
            "tags": []
          },
          "execution_count": 44
        }
      ]
    },
    {
      "cell_type": "markdown",
      "metadata": {
        "id": "1i0N6EZ9mgus"
      },
      "source": [
        "- 리스트 길이 구하기"
      ]
    },
    {
      "cell_type": "code",
      "metadata": {
        "id": "BnEWMk5BBKE7"
      },
      "source": [
        "a = [1, 2, 3]"
      ],
      "execution_count": 45,
      "outputs": []
    },
    {
      "cell_type": "code",
      "metadata": {
        "colab": {
          "base_uri": "https://localhost:8080/"
        },
        "id": "2XAKA-aYBLFc",
        "outputId": "721b3bfd-293f-42bf-b9cb-2a3775cf796f"
      },
      "source": [
        "len(a)"
      ],
      "execution_count": 46,
      "outputs": [
        {
          "output_type": "execute_result",
          "data": {
            "text/plain": [
              "3"
            ]
          },
          "metadata": {
            "tags": []
          },
          "execution_count": 46
        }
      ]
    },
    {
      "cell_type": "markdown",
      "metadata": {
        "id": "heSwSbHamkGj"
      },
      "source": [
        "[ 점프 투 파이썬 ] : 리스트 연산 오류"
      ]
    },
    {
      "cell_type": "code",
      "metadata": {
        "id": "JpyVSL_RBPPq"
      },
      "source": [
        "a = [1, 2, 3]"
      ],
      "execution_count": 47,
      "outputs": []
    },
    {
      "cell_type": "code",
      "metadata": {
        "colab": {
          "base_uri": "https://localhost:8080/",
          "height": 171
        },
        "id": "44EXfc7zBQxM",
        "outputId": "8505feaa-bd5c-454d-daee-c9a47cb77bd9"
      },
      "source": [
        "a[2] + 'hi'"
      ],
      "execution_count": 48,
      "outputs": [
        {
          "output_type": "error",
          "ename": "TypeError",
          "evalue": "ignored",
          "traceback": [
            "\u001b[0;31m---------------------------------------------------------------------------\u001b[0m",
            "\u001b[0;31mTypeError\u001b[0m                                 Traceback (most recent call last)",
            "\u001b[0;32m<ipython-input-48-a83563cb8abc>\u001b[0m in \u001b[0;36m<module>\u001b[0;34m()\u001b[0m\n\u001b[0;32m----> 1\u001b[0;31m \u001b[0ma\u001b[0m\u001b[0;34m[\u001b[0m\u001b[0;36m2\u001b[0m\u001b[0;34m]\u001b[0m \u001b[0;34m+\u001b[0m \u001b[0;34m'hi'\u001b[0m\u001b[0;34m\u001b[0m\u001b[0;34m\u001b[0m\u001b[0m\n\u001b[0m",
            "\u001b[0;31mTypeError\u001b[0m: unsupported operand type(s) for +: 'int' and 'str'"
          ]
        }
      ]
    },
    {
      "cell_type": "code",
      "metadata": {
        "colab": {
          "base_uri": "https://localhost:8080/",
          "height": 35
        },
        "id": "BGnk45H0BTKu",
        "outputId": "0825ae0f-db69-4acc-cdfc-ce4b569b0143"
      },
      "source": [
        "str(a[2]) + 'hi'   # str 함수는 정수나 실수를 문자열 형태로 바꾸어 주는 파이썬의 내장 함수"
      ],
      "execution_count": 50,
      "outputs": [
        {
          "output_type": "execute_result",
          "data": {
            "application/vnd.google.colaboratory.intrinsic+json": {
              "type": "string"
            },
            "text/plain": [
              "'3hi'"
            ]
          },
          "metadata": {
            "tags": []
          },
          "execution_count": 50
        }
      ]
    },
    {
      "cell_type": "markdown",
      "metadata": {
        "id": "aY_9X4GqmvqP"
      },
      "source": [
        "(4) 리스트의 수정과 삭제"
      ]
    },
    {
      "cell_type": "markdown",
      "metadata": {
        "id": "DbMEO8OUmvZn"
      },
      "source": [
        "- 리스트에서 값 수정하기"
      ]
    },
    {
      "cell_type": "code",
      "metadata": {
        "id": "SDI-7diOBd7h"
      },
      "source": [
        "a = [1, 2, 3]"
      ],
      "execution_count": 51,
      "outputs": []
    },
    {
      "cell_type": "code",
      "metadata": {
        "colab": {
          "base_uri": "https://localhost:8080/"
        },
        "id": "Jcq1LQcVBfQI",
        "outputId": "01e8e088-29ab-4a67-9793-315ac97391ea"
      },
      "source": [
        "a[2]"
      ],
      "execution_count": 52,
      "outputs": [
        {
          "output_type": "execute_result",
          "data": {
            "text/plain": [
              "3"
            ]
          },
          "metadata": {
            "tags": []
          },
          "execution_count": 52
        }
      ]
    },
    {
      "cell_type": "code",
      "metadata": {
        "id": "jyfLdkZVBggv"
      },
      "source": [
        "a[2] = 4"
      ],
      "execution_count": 53,
      "outputs": []
    },
    {
      "cell_type": "code",
      "metadata": {
        "colab": {
          "base_uri": "https://localhost:8080/"
        },
        "id": "j1CsgTpdBi7u",
        "outputId": "07bc8846-6098-4fcc-9f69-1f487b4f9149"
      },
      "source": [
        "a"
      ],
      "execution_count": 54,
      "outputs": [
        {
          "output_type": "execute_result",
          "data": {
            "text/plain": [
              "[1, 2, 4]"
            ]
          },
          "metadata": {
            "tags": []
          },
          "execution_count": 54
        }
      ]
    },
    {
      "cell_type": "markdown",
      "metadata": {
        "id": "hoVrNBL-m2RS"
      },
      "source": [
        "- del 함수 사용해서 리스트 요소 삭제하기"
      ]
    },
    {
      "cell_type": "code",
      "metadata": {
        "id": "PwpkHey1Bv3D"
      },
      "source": [
        "a = [1, 2, 3]"
      ],
      "execution_count": 55,
      "outputs": []
    },
    {
      "cell_type": "code",
      "metadata": {
        "id": "O_i2XUJ9Bw8f"
      },
      "source": [
        "del a[1]"
      ],
      "execution_count": 56,
      "outputs": []
    },
    {
      "cell_type": "code",
      "metadata": {
        "colab": {
          "base_uri": "https://localhost:8080/"
        },
        "id": "gAjq0t4VByMp",
        "outputId": "42a1c21c-befa-48db-dea7-fd722de94a40"
      },
      "source": [
        "a"
      ],
      "execution_count": 57,
      "outputs": [
        {
          "output_type": "execute_result",
          "data": {
            "text/plain": [
              "[1, 3]"
            ]
          },
          "metadata": {
            "tags": []
          },
          "execution_count": 57
        }
      ]
    },
    {
      "cell_type": "code",
      "metadata": {
        "id": "tzben4sUByse"
      },
      "source": [
        "a = [1, 2, 3, 4, 5]"
      ],
      "execution_count": 58,
      "outputs": []
    },
    {
      "cell_type": "code",
      "metadata": {
        "id": "-0rqZYnzB2R_"
      },
      "source": [
        "del a[2:]"
      ],
      "execution_count": 59,
      "outputs": []
    },
    {
      "cell_type": "code",
      "metadata": {
        "colab": {
          "base_uri": "https://localhost:8080/"
        },
        "id": "rAL04oOTB3sA",
        "outputId": "787f28dc-cddf-451f-d5dd-b8d38566e937"
      },
      "source": [
        "a"
      ],
      "execution_count": 60,
      "outputs": [
        {
          "output_type": "execute_result",
          "data": {
            "text/plain": [
              "[1, 2]"
            ]
          },
          "metadata": {
            "tags": []
          },
          "execution_count": 60
        }
      ]
    },
    {
      "cell_type": "markdown",
      "metadata": {
        "id": "Wrf_IDfYm9PF"
      },
      "source": [
        "(5) 리스트 관련 함수"
      ]
    },
    {
      "cell_type": "markdown",
      "metadata": {
        "id": "tMhzTv7Pm_-c"
      },
      "source": [
        "- 리스트 요소 추가(append)"
      ]
    },
    {
      "cell_type": "code",
      "metadata": {
        "id": "xCrrAQVsB958"
      },
      "source": [
        "a = [1, 2, 3]"
      ],
      "execution_count": 61,
      "outputs": []
    },
    {
      "cell_type": "code",
      "metadata": {
        "id": "wKahVIr2B-0k"
      },
      "source": [
        "a.append(4)"
      ],
      "execution_count": 62,
      "outputs": []
    },
    {
      "cell_type": "code",
      "metadata": {
        "colab": {
          "base_uri": "https://localhost:8080/"
        },
        "id": "rn58WBBdCAX6",
        "outputId": "fe781033-64fd-4858-a1ae-1412b3805fec"
      },
      "source": [
        "a"
      ],
      "execution_count": 63,
      "outputs": [
        {
          "output_type": "execute_result",
          "data": {
            "text/plain": [
              "[1, 2, 3, 4]"
            ]
          },
          "metadata": {
            "tags": []
          },
          "execution_count": 63
        }
      ]
    },
    {
      "cell_type": "code",
      "metadata": {
        "id": "o19D95IfCIBL"
      },
      "source": [
        "a.append([5, 6])"
      ],
      "execution_count": 64,
      "outputs": []
    },
    {
      "cell_type": "code",
      "metadata": {
        "colab": {
          "base_uri": "https://localhost:8080/"
        },
        "id": "y12P8U5FCaZn",
        "outputId": "52d8f43b-2938-4891-999b-8f1ee5b9a97a"
      },
      "source": [
        "a"
      ],
      "execution_count": 65,
      "outputs": [
        {
          "output_type": "execute_result",
          "data": {
            "text/plain": [
              "[1, 2, 3, 4, [5, 6]]"
            ]
          },
          "metadata": {
            "tags": []
          },
          "execution_count": 65
        }
      ]
    },
    {
      "cell_type": "markdown",
      "metadata": {
        "id": "f7GV5h3ZnDjE"
      },
      "source": [
        "- 리스트 정렬(sort)"
      ]
    },
    {
      "cell_type": "code",
      "metadata": {
        "id": "v2bOOxjoCDBM"
      },
      "source": [
        "a = [1, 4, 3, 2]"
      ],
      "execution_count": 66,
      "outputs": []
    },
    {
      "cell_type": "code",
      "metadata": {
        "id": "rm1HkWCBClN-"
      },
      "source": [
        "a.sort()"
      ],
      "execution_count": 67,
      "outputs": []
    },
    {
      "cell_type": "code",
      "metadata": {
        "colab": {
          "base_uri": "https://localhost:8080/"
        },
        "id": "_eq1MeGbCoMS",
        "outputId": "14ee73f4-b4a1-4c2f-eba9-9ef32aed536a"
      },
      "source": [
        "a"
      ],
      "execution_count": 68,
      "outputs": [
        {
          "output_type": "execute_result",
          "data": {
            "text/plain": [
              "[1, 2, 3, 4]"
            ]
          },
          "metadata": {
            "tags": []
          },
          "execution_count": 68
        }
      ]
    },
    {
      "cell_type": "code",
      "metadata": {
        "id": "Eb8yokh6CpDD"
      },
      "source": [
        "a = ['a', 'c', 'b']"
      ],
      "execution_count": 69,
      "outputs": []
    },
    {
      "cell_type": "code",
      "metadata": {
        "id": "zKyp5_R4CtZF"
      },
      "source": [
        "a.sort()"
      ],
      "execution_count": 70,
      "outputs": []
    },
    {
      "cell_type": "code",
      "metadata": {
        "colab": {
          "base_uri": "https://localhost:8080/"
        },
        "id": "WpBmk4yrCvHe",
        "outputId": "fb4eb49d-8318-4252-cd13-093d60b386d8"
      },
      "source": [
        "a"
      ],
      "execution_count": 71,
      "outputs": [
        {
          "output_type": "execute_result",
          "data": {
            "text/plain": [
              "['a', 'b', 'c']"
            ]
          },
          "metadata": {
            "tags": []
          },
          "execution_count": 71
        }
      ]
    },
    {
      "cell_type": "markdown",
      "metadata": {
        "id": "UDmyZyghnHfY"
      },
      "source": [
        "- 리스트 뒤집기(reverse)"
      ]
    },
    {
      "cell_type": "code",
      "metadata": {
        "id": "oTp10sRFCxyK"
      },
      "source": [
        "a = ['a', 'c',  'b']"
      ],
      "execution_count": 72,
      "outputs": []
    },
    {
      "cell_type": "code",
      "metadata": {
        "id": "yl_q9zjrC03q"
      },
      "source": [
        "a.reverse()"
      ],
      "execution_count": 73,
      "outputs": []
    },
    {
      "cell_type": "code",
      "metadata": {
        "colab": {
          "base_uri": "https://localhost:8080/"
        },
        "id": "cRTZ-w4EC2ij",
        "outputId": "6864048a-29f9-49f0-dfbc-9fb5ccd3ea6f"
      },
      "source": [
        "a"
      ],
      "execution_count": 74,
      "outputs": [
        {
          "output_type": "execute_result",
          "data": {
            "text/plain": [
              "['b', 'c', 'a']"
            ]
          },
          "metadata": {
            "tags": []
          },
          "execution_count": 74
        }
      ]
    },
    {
      "cell_type": "markdown",
      "metadata": {
        "id": "-Oe6JyzpnLR7"
      },
      "source": [
        "- 위치 반환(index)"
      ]
    },
    {
      "cell_type": "code",
      "metadata": {
        "id": "z6rvE_dAC7WR"
      },
      "source": [
        "a = [1, 2, 3]"
      ],
      "execution_count": 75,
      "outputs": []
    },
    {
      "cell_type": "code",
      "metadata": {
        "colab": {
          "base_uri": "https://localhost:8080/"
        },
        "id": "HNsyvc1rC9Fa",
        "outputId": "5d8cb4e1-b591-47aa-fff7-298ef0508a63"
      },
      "source": [
        "a.index(3)"
      ],
      "execution_count": 76,
      "outputs": [
        {
          "output_type": "execute_result",
          "data": {
            "text/plain": [
              "2"
            ]
          },
          "metadata": {
            "tags": []
          },
          "execution_count": 76
        }
      ]
    },
    {
      "cell_type": "code",
      "metadata": {
        "colab": {
          "base_uri": "https://localhost:8080/"
        },
        "id": "DW3s5dOxC-he",
        "outputId": "1da08e99-9bd5-4453-d647-64174208c899"
      },
      "source": [
        "a.index(1)"
      ],
      "execution_count": 77,
      "outputs": [
        {
          "output_type": "execute_result",
          "data": {
            "text/plain": [
              "0"
            ]
          },
          "metadata": {
            "tags": []
          },
          "execution_count": 77
        }
      ]
    },
    {
      "cell_type": "code",
      "metadata": {
        "colab": {
          "base_uri": "https://localhost:8080/",
          "height": 171
        },
        "id": "dmqPKip4DAt4",
        "outputId": "bcbeedda-e5b3-49f1-f39b-b67b98e4c0f3"
      },
      "source": [
        "a.index(0)   # 값 0은 a 리스트에 존재하지 않기 때문에 값 오류가 발생"
      ],
      "execution_count": 79,
      "outputs": [
        {
          "output_type": "error",
          "ename": "ValueError",
          "evalue": "ignored",
          "traceback": [
            "\u001b[0;31m---------------------------------------------------------------------------\u001b[0m",
            "\u001b[0;31mValueError\u001b[0m                                Traceback (most recent call last)",
            "\u001b[0;32m<ipython-input-79-39879eba630d>\u001b[0m in \u001b[0;36m<module>\u001b[0;34m()\u001b[0m\n\u001b[0;32m----> 1\u001b[0;31m \u001b[0ma\u001b[0m\u001b[0;34m.\u001b[0m\u001b[0mindex\u001b[0m\u001b[0;34m(\u001b[0m\u001b[0;36m0\u001b[0m\u001b[0;34m)\u001b[0m   \u001b[0;31m# 값 0은 a 리스트에 존재하지 않기 때문에 값 오류가 발생\u001b[0m\u001b[0;34m\u001b[0m\u001b[0;34m\u001b[0m\u001b[0m\n\u001b[0m",
            "\u001b[0;31mValueError\u001b[0m: 0 is not in list"
          ]
        }
      ]
    },
    {
      "cell_type": "markdown",
      "metadata": {
        "id": "T8Hyy95ZnV-E"
      },
      "source": [
        "- 리스트에 요소 삽입(insert)"
      ]
    },
    {
      "cell_type": "code",
      "metadata": {
        "id": "khoSwgNcDG01"
      },
      "source": [
        "a = [1, 2, 3]"
      ],
      "execution_count": 80,
      "outputs": []
    },
    {
      "cell_type": "code",
      "metadata": {
        "id": "Uqr5-86eDMML"
      },
      "source": [
        "a.insert(0, 4)"
      ],
      "execution_count": 81,
      "outputs": []
    },
    {
      "cell_type": "code",
      "metadata": {
        "colab": {
          "base_uri": "https://localhost:8080/"
        },
        "id": "A1lBPALpDO7u",
        "outputId": "c6d818f7-61cc-42b9-9d4b-b6dc4668ee47"
      },
      "source": [
        "a"
      ],
      "execution_count": 82,
      "outputs": [
        {
          "output_type": "execute_result",
          "data": {
            "text/plain": [
              "[4, 1, 2, 3]"
            ]
          },
          "metadata": {
            "tags": []
          },
          "execution_count": 82
        }
      ]
    },
    {
      "cell_type": "code",
      "metadata": {
        "id": "pF-BWj70DPzh"
      },
      "source": [
        "a.insert(3, 5)"
      ],
      "execution_count": 83,
      "outputs": []
    },
    {
      "cell_type": "code",
      "metadata": {
        "colab": {
          "base_uri": "https://localhost:8080/"
        },
        "id": "zrVvYViaDSqw",
        "outputId": "5437bcc3-e35c-40c8-b2b2-17465f523b4e"
      },
      "source": [
        "a"
      ],
      "execution_count": 84,
      "outputs": [
        {
          "output_type": "execute_result",
          "data": {
            "text/plain": [
              "[4, 1, 2, 5, 3]"
            ]
          },
          "metadata": {
            "tags": []
          },
          "execution_count": 84
        }
      ]
    },
    {
      "cell_type": "markdown",
      "metadata": {
        "id": "uMgoFQFNnZr8"
      },
      "source": [
        "- 리스트 요소 제거(remove)"
      ]
    },
    {
      "cell_type": "code",
      "metadata": {
        "id": "pjwsWuw3DVjA"
      },
      "source": [
        "a = [1, 2, 3, 1, 2, 3]"
      ],
      "execution_count": 85,
      "outputs": []
    },
    {
      "cell_type": "code",
      "metadata": {
        "id": "2dH3LWEgDaOT"
      },
      "source": [
        "a.remove(3)"
      ],
      "execution_count": 86,
      "outputs": []
    },
    {
      "cell_type": "code",
      "metadata": {
        "colab": {
          "base_uri": "https://localhost:8080/"
        },
        "id": "OsPQOW1HDcbo",
        "outputId": "2088ef4f-1934-4f24-c8b5-094d208f527f"
      },
      "source": [
        "a"
      ],
      "execution_count": 87,
      "outputs": [
        {
          "output_type": "execute_result",
          "data": {
            "text/plain": [
              "[1, 2, 1, 2, 3]"
            ]
          },
          "metadata": {
            "tags": []
          },
          "execution_count": 87
        }
      ]
    },
    {
      "cell_type": "code",
      "metadata": {
        "id": "bYqzZO9VDdHM"
      },
      "source": [
        "a.remove(3)"
      ],
      "execution_count": 88,
      "outputs": []
    },
    {
      "cell_type": "code",
      "metadata": {
        "colab": {
          "base_uri": "https://localhost:8080/"
        },
        "id": "a1kdu4BhDgGt",
        "outputId": "eba9e0f0-8857-4737-aff4-739e9d380c41"
      },
      "source": [
        "a"
      ],
      "execution_count": 89,
      "outputs": [
        {
          "output_type": "execute_result",
          "data": {
            "text/plain": [
              "[1, 2, 1, 2]"
            ]
          },
          "metadata": {
            "tags": []
          },
          "execution_count": 89
        }
      ]
    },
    {
      "cell_type": "markdown",
      "metadata": {
        "id": "5fiIx5iWnc49"
      },
      "source": [
        "- 리스트 요소 끄집어내기(pop)"
      ]
    },
    {
      "cell_type": "code",
      "metadata": {
        "id": "fNKDUpt2DjgQ"
      },
      "source": [
        "a = [1, 2, 3]"
      ],
      "execution_count": 90,
      "outputs": []
    },
    {
      "cell_type": "code",
      "metadata": {
        "colab": {
          "base_uri": "https://localhost:8080/"
        },
        "id": "FBOtaoZjDnUu",
        "outputId": "31767ac2-fbe0-4057-f316-389644ed5924"
      },
      "source": [
        "a.pop()"
      ],
      "execution_count": 91,
      "outputs": [
        {
          "output_type": "execute_result",
          "data": {
            "text/plain": [
              "3"
            ]
          },
          "metadata": {
            "tags": []
          },
          "execution_count": 91
        }
      ]
    },
    {
      "cell_type": "code",
      "metadata": {
        "colab": {
          "base_uri": "https://localhost:8080/"
        },
        "id": "v1zb0mo3DpOU",
        "outputId": "10cc3fb4-6e92-4b6a-f698-13898d854e40"
      },
      "source": [
        "a"
      ],
      "execution_count": 92,
      "outputs": [
        {
          "output_type": "execute_result",
          "data": {
            "text/plain": [
              "[1, 2]"
            ]
          },
          "metadata": {
            "tags": []
          },
          "execution_count": 92
        }
      ]
    },
    {
      "cell_type": "code",
      "metadata": {
        "id": "iGZiMvR6DtNq"
      },
      "source": [
        "a = [1, 2, 3]"
      ],
      "execution_count": 93,
      "outputs": []
    },
    {
      "cell_type": "code",
      "metadata": {
        "colab": {
          "base_uri": "https://localhost:8080/"
        },
        "id": "smaEYIKeDxG6",
        "outputId": "f5860ab5-2418-40f7-e330-d4f31be61470"
      },
      "source": [
        "a.pop(1)"
      ],
      "execution_count": 94,
      "outputs": [
        {
          "output_type": "execute_result",
          "data": {
            "text/plain": [
              "2"
            ]
          },
          "metadata": {
            "tags": []
          },
          "execution_count": 94
        }
      ]
    },
    {
      "cell_type": "code",
      "metadata": {
        "colab": {
          "base_uri": "https://localhost:8080/"
        },
        "id": "nfJ_imXEDzqC",
        "outputId": "c8fa91b9-03ef-47f9-e51a-cc3e0665cf7d"
      },
      "source": [
        "a"
      ],
      "execution_count": 95,
      "outputs": [
        {
          "output_type": "execute_result",
          "data": {
            "text/plain": [
              "[1, 3]"
            ]
          },
          "metadata": {
            "tags": []
          },
          "execution_count": 95
        }
      ]
    },
    {
      "cell_type": "markdown",
      "metadata": {
        "id": "W7GoyfXJnhZX"
      },
      "source": [
        "- 리스트에 포함된 요소 x의 개수 세기(count)"
      ]
    },
    {
      "cell_type": "code",
      "metadata": {
        "id": "5v0L_JrVD4QY"
      },
      "source": [
        "a = [1, 2, 3, 1]"
      ],
      "execution_count": 96,
      "outputs": []
    },
    {
      "cell_type": "code",
      "metadata": {
        "colab": {
          "base_uri": "https://localhost:8080/"
        },
        "id": "bfLN_gT4EAAx",
        "outputId": "21fbf380-a4ef-4305-f748-5d92e3893359"
      },
      "source": [
        "a.count(1)"
      ],
      "execution_count": 97,
      "outputs": [
        {
          "output_type": "execute_result",
          "data": {
            "text/plain": [
              "2"
            ]
          },
          "metadata": {
            "tags": []
          },
          "execution_count": 97
        }
      ]
    },
    {
      "cell_type": "markdown",
      "metadata": {
        "id": "j5YZjvA6nl7N"
      },
      "source": [
        "- 리스트 확장(extend)"
      ]
    },
    {
      "cell_type": "code",
      "metadata": {
        "id": "GX43r9e9ED0G"
      },
      "source": [
        "a = [1, 2, 3]"
      ],
      "execution_count": 98,
      "outputs": []
    },
    {
      "cell_type": "code",
      "metadata": {
        "id": "-qpgyWBiEFiB"
      },
      "source": [
        "a.extend([4, 5])"
      ],
      "execution_count": 99,
      "outputs": []
    },
    {
      "cell_type": "code",
      "metadata": {
        "colab": {
          "base_uri": "https://localhost:8080/"
        },
        "id": "UCHpqXE0EH4R",
        "outputId": "18e151cf-aa27-40ce-cbba-1841cb7d473b"
      },
      "source": [
        "a"
      ],
      "execution_count": 100,
      "outputs": [
        {
          "output_type": "execute_result",
          "data": {
            "text/plain": [
              "[1, 2, 3, 4, 5]"
            ]
          },
          "metadata": {
            "tags": []
          },
          "execution_count": 100
        }
      ]
    },
    {
      "cell_type": "code",
      "metadata": {
        "id": "UNjZCOhPEIe5"
      },
      "source": [
        "b = [6, 7]"
      ],
      "execution_count": 101,
      "outputs": []
    },
    {
      "cell_type": "code",
      "metadata": {
        "id": "km1uCcGoELub"
      },
      "source": [
        "a.extend(b)"
      ],
      "execution_count": 102,
      "outputs": []
    },
    {
      "cell_type": "code",
      "metadata": {
        "colab": {
          "base_uri": "https://localhost:8080/"
        },
        "id": "r4ksJEo5EN0b",
        "outputId": "75c2d905-a004-45c6-ec18-3235bef46c19"
      },
      "source": [
        "a"
      ],
      "execution_count": 103,
      "outputs": [
        {
          "output_type": "execute_result",
          "data": {
            "text/plain": [
              "[1, 2, 3, 4, 5, 6, 7]"
            ]
          },
          "metadata": {
            "tags": []
          },
          "execution_count": 103
        }
      ]
    }
  ]
}