{
  "nbformat": 4,
  "nbformat_minor": 0,
  "metadata": {
    "colab": {
      "name": "[PYTHON] Day 5.ipynb",
      "provenance": [],
      "collapsed_sections": [],
      "authorship_tag": "ABX9TyOodHJ1FHFuHcBWw0dfEybO",
      "include_colab_link": true
    },
    "kernelspec": {
      "name": "python3",
      "display_name": "Python 3"
    }
  },
  "cells": [
    {
      "cell_type": "markdown",
      "metadata": {
        "id": "view-in-github",
        "colab_type": "text"
      },
      "source": [
        "<a href=\"https://colab.research.google.com/github/7ryean/PYTHON/blob/main/%5BPYTHON%5D%20Day%205.ipynb\" target=\"_parent\"><img src=\"https://colab.research.google.com/assets/colab-badge.svg\" alt=\"Open In Colab\"/></a>"
      ]
    },
    {
      "cell_type": "markdown",
      "metadata": {
        "id": "11zyG1IgWzA-"
      },
      "source": [
        "# **프로그램의 구조를 쌓는다! 제어문**"
      ]
    },
    {
      "cell_type": "markdown",
      "metadata": {
        "id": "18okLMevXbJ4"
      },
      "source": [
        "# 01. if문"
      ]
    },
    {
      "cell_type": "markdown",
      "metadata": {
        "id": "EmHjflGCYH5b"
      },
      "source": [
        "조건문을 테스트해서 참이면 if문 바로 다음 문장들을 수행하고, 거짓이면 else문 다음 문장들을 수행"
      ]
    },
    {
      "cell_type": "markdown",
      "metadata": {
        "id": "VtHq2tAWXmgD"
      },
      "source": [
        "돈이 있으면 택시를 타고, 돈이 없으면 걸어간다."
      ]
    },
    {
      "cell_type": "code",
      "metadata": {
        "colab": {
          "base_uri": "https://localhost:8080/"
        },
        "id": "DEiEdUUtWCI5",
        "outputId": "fa3041d8-0f8d-4edc-ec69-a1ff03b7759e"
      },
      "source": [
        "money = True\n",
        "if money :\n",
        "  print(\"택시를 타고 가라\")\n",
        "else :\n",
        "  print(\"걸어 가라\")"
      ],
      "execution_count": 9,
      "outputs": [
        {
          "output_type": "stream",
          "text": [
            "택시를 타고 가라\n"
          ],
          "name": "stdout"
        }
      ]
    },
    {
      "cell_type": "markdown",
      "metadata": {
        "id": "cAMOav0uFyr_"
      },
      "source": [
        "![if.png](data:image/png;base64,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)"
      ]
    },
    {
      "cell_type": "markdown",
      "metadata": {
        "id": "K56jbvBgY35c"
      },
      "source": [
        "(1) 조건문 : 참과 거짓을 판단하는 문장"
      ]
    },
    {
      "cell_type": "code",
      "metadata": {
        "colab": {
          "base_uri": "https://localhost:8080/"
        },
        "id": "4PHSmWkuYDxr",
        "outputId": "22c86cf0-ca1d-40b4-a4f5-62335b258468"
      },
      "source": [
        "money = True\n",
        "if money :\n",
        "  print(\"money\")"
      ],
      "execution_count": 10,
      "outputs": [
        {
          "output_type": "stream",
          "text": [
            "money\n"
          ],
          "name": "stdout"
        }
      ]
    },
    {
      "cell_type": "markdown",
      "metadata": {
        "id": "YH168vacZLjX"
      },
      "source": [
        "- 비교 연산자"
      ]
    },
    {
      "cell_type": "markdown",
      "metadata": {
        "id": "S5B15lajGBHy"
      },
      "source": [
        "![비교연산자.png](data:image/png;base64,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)"
      ]
    },
    {
      "cell_type": "code",
      "metadata": {
        "colab": {
          "base_uri": "https://localhost:8080/"
        },
        "id": "3tD-xyNHZRYD",
        "outputId": "06ddf6ea-7a34-49bd-ba3f-cdf833861286"
      },
      "source": [
        "x = 3\n",
        "y = 2\n",
        "x > y"
      ],
      "execution_count": 11,
      "outputs": [
        {
          "output_type": "execute_result",
          "data": {
            "text/plain": [
              "True"
            ]
          },
          "metadata": {
            "tags": []
          },
          "execution_count": 11
        }
      ]
    },
    {
      "cell_type": "code",
      "metadata": {
        "colab": {
          "base_uri": "https://localhost:8080/"
        },
        "id": "U87vMCMYZTs0",
        "outputId": "97090a2a-5ab3-4230-c6b8-ce7371c9c704"
      },
      "source": [
        "x < y"
      ],
      "execution_count": 12,
      "outputs": [
        {
          "output_type": "execute_result",
          "data": {
            "text/plain": [
              "False"
            ]
          },
          "metadata": {
            "tags": []
          },
          "execution_count": 12
        }
      ]
    },
    {
      "cell_type": "code",
      "metadata": {
        "colab": {
          "base_uri": "https://localhost:8080/"
        },
        "id": "PcGVPBPbZVef",
        "outputId": "b94dbe16-5b44-4e56-f41a-426c47dda335"
      },
      "source": [
        "x == y"
      ],
      "execution_count": 13,
      "outputs": [
        {
          "output_type": "execute_result",
          "data": {
            "text/plain": [
              "False"
            ]
          },
          "metadata": {
            "tags": []
          },
          "execution_count": 13
        }
      ]
    },
    {
      "cell_type": "code",
      "metadata": {
        "colab": {
          "base_uri": "https://localhost:8080/"
        },
        "id": "sHwaJJ2mZWpf",
        "outputId": "f7462e61-48f0-4b5d-9541-9d0fbf7c028b"
      },
      "source": [
        "x != y"
      ],
      "execution_count": 14,
      "outputs": [
        {
          "output_type": "execute_result",
          "data": {
            "text/plain": [
              "True"
            ]
          },
          "metadata": {
            "tags": []
          },
          "execution_count": 14
        }
      ]
    },
    {
      "cell_type": "markdown",
      "metadata": {
        "id": "nSMTCORwZbpk"
      },
      "source": [
        "만약 3000원 이상의 돈을 가지고 있으면 택시를 타고 그렇지 않으면 걸어 가라."
      ]
    },
    {
      "cell_type": "code",
      "metadata": {
        "colab": {
          "base_uri": "https://localhost:8080/"
        },
        "id": "gCZK5IPYZXqA",
        "outputId": "86dc8c17-57e4-4cab-b086-9738b19cf62b"
      },
      "source": [
        "money = 2000\n",
        "if money >= 3000 :\n",
        "  print(\"택시를 타고 가라\")\n",
        "else :\n",
        "  print(\"걸어 가라\")"
      ],
      "execution_count": 15,
      "outputs": [
        {
          "output_type": "stream",
          "text": [
            "걸어 가라\n"
          ],
          "name": "stdout"
        }
      ]
    },
    {
      "cell_type": "markdown",
      "metadata": {
        "id": "L7udVbs4Zr5f"
      },
      "source": [
        "- and, or, not"
      ]
    },
    {
      "cell_type": "markdown",
      "metadata": {
        "id": "yc3EXMgLGO5G"
      },
      "source": [
        "![연산자.png](data:image/png;base64,iVBORw0KGgoAAAANSUhEUgAAAaYAAADACAYAAABPq8fwAAAAAXNSR0IArs4c6QAAAARnQU1BAACxjwv8YQUAAAAJcEhZcwAAEnQAABJ0Ad5mH3gAAC4+SURBVHhe7d1/aBN5/j/wZ7/4gQgeVPAgAQWzurApJ5hyCyZ89w8jHhjxwJQKJrjgpi64qcLZnLA26x/dVEETD/w0LqzNCitJwdIIJ03hxPiHXxJhj0ZwaQR/RFBIYAUDt9DACfm+J5m0aTppkiZtp/X5gLftTKfpzHtm3q/3rxk7CgJoxb18+RK7du2Sl4iIqJb/I38lIiJSBQYmIiJSFQYmIiJSFQYmIiJSFQYmIiJSFQYmIiJSFQYmIiJSFQYmIiJSFQYmIiJSFQYmIiJSFQYmIiJSFQYmIiJSFQYmIiJSFQYmIiJSFQYmIiJSlTUJTInvO9DR0YGesay8plkJDIvf7+joQfitvGoZsmM9xf3o+D4hr9lYWs9n4W0YPcW8Hha5TkS08toamHK/RjD8lRmfFAuyDuj2HEDf92EkllEulgvVZoPG3O8tlY6F0UJRrRLl4Nx8wJgLyDVSS4GMiKhFbQtM6fE+dO/pgedWAml5XfbXGIIXHTDrFhZ85ovyBrR8uffIFL+ZLf5LRLRRtCcwvRMtpWNBEZC0sP84jff/LaBQmEUmOgiTvMlqMX0n/e1yisNbXGtD6E3F+jt2safrW/6XGCaK30URe5wvfofHw81VAIbiFXlVQHyotDpi181/zg4HIqXVRESroi2BKZcQLSPpm5MBBE4Z0blJWtBAe8iLwBWjtLCgECwXgLXlkCk3u56mN0C3W5u9DsP5pV/OlyQ8f/MjkSsuEBGte20JTPnfS51K0OvQWfpujm67vvhVu0lT/NqQJ0H4bsnfj48g9ET+fpEIHDvkmn2NsahSR1cOs3KjYl37kENyzI0DJgfCUlTa58LACdH2e+yB+fMe+GedmFVoATXLFs7MfUbhTUi0N4mIVk9bApNmi670TTojQsBCmbelpk/2QndjXUy/JzB82l0c0Dftt0ArvnOfHkbi99KPm/JiRp4YEEMytUST4qJ5bt+GH8vr1OZDEv6/bEW33Y+YCEr63hFMT43A91McE38T+fQiArdFh83WAFIf5N9ZJnblEdFaaktg6jRZ4JS+ueWC62YSuWLBmEd2ygPX+aS00Jh3MXj+aoNHBAftiRBCsQkEz4gWl9QiONiP8K/VwaVi7Oi7xaNZybsBEZJKAndji4LmurLJiIGfQnDus8MXy+DVHReMUvN0kx62aw+QehrCwCEbRq+7YCh2pTagIiBLiZNSiEgVRKHeFq/uOAsihBSkj1yYTAVvYlbeqiQ+VPqZLZyR14jfDzsLBm1pvf7kaGHmP/IPCq8Kk2dMc59nvT4j1sUL3uKyrSACk7LfJguu4udpC1r568C/Fu5HJmwrfe5QXF6zcl68eCF/t/bmjrtGqjwvhTehgq243itynYho5bVnVp6g7x3F9NMJeE+aUBpV0sN00ouJVAyD++qPL+mPD8LXa4Xt+jSmf3LCsEX+gfgc6/UYZsIDsJ4MYeSMQV6/lDTC55wIZEVYvBRF/EcXtMjC/6UT4dfyJutcvWeRKlP1c0na4xPzY0gKaeL4ep+zSETrWdsCk6TzTzYM/hTHq2IB9wrxnwZh+6zRSQ9SAJrExBnjogkU0gw/w3EfJn+yy0FvKTnELjjguJ0tdQd+a4T+iA+RIZMozcNwHOxD8NlGmAnRRvksYrfc6PvL/MPRHR06dFl60H+3E7730vlc/an/RPRxamtgkrTjNT/L/gxp4oTFgAOXxe/t8yJyoxzINDB9F8LESbH0Ioi+/f2ILGxErDv1Wj1SamhW3usI+vbocOArP4L35x+OFmcBqYcRBM4exieGAxguPytFRLTC2h6YGlF+CHb5XUYmDBYL3wnYt8urJFtMGLjmhu2QF/EpUcOf6w6U6GH7aRoPvrPDe3cEtnXeW9VIV179yQxZhM/3IPhCmmwygnj6/YLp5rOZaYTOSC3NGDynA2hiGgsR0bKtSWBaSZq9A5iQ3jixuD9Q6IRlKNTQmNfHIY30uPTVCu+QC6adnaJtOU+jNcJ+0V2acfkkjlQLL8wlImrUhgtMH52q1woppdotUy20h6SvUQwPBZB4nUNlh10+m0Lkmq/0Vo+9ZhgqW6dERCtk5QJT1TMyiqneW74b+YwN+l9WNKylfNbDeWMCzt2i7XSrH2b9Vmyu+L3Nui70SON1Wgu8P7ggv1yKiGhFscX0sdtpw+jTDB78NADnwfJUf4kWhv02uK5P4lXqAbs/iWjVdBSkvh5acS9fvsSuXbvkJSIiqoUtJiIiUhUGJiIiUhUGJiIiUhUGJiIiUhUGJiIiUhUGJiIiUhUGJiIiUhUGJiIiUhUGJiIiUhUGJiIiUhUGJiIiUhUGJiIiUhUGJiIiUhUGJiIiUhUGJiIiUpXi/8ck/V9BREREq6He/03H/yhwlfA/CiQiagy78oiISFUYmIiISFUYmIiISFUYmIiISFUYmIiISFUYmIiISFUYmIiISFUYmIiISFUYmIiISFUYmIiISFUYmIiISFUYmIiISFUYmIiISFUYmIiISFUYmIiISFUYmD5aWYSPdaBnLCsvU6XsWA86joVFLgmPh9HRMYxE8SfNWfA51d6G0dPRg/BbeXmZEt93oOP75exdpQSGOzow/FhebFqd66mFPFyo1f2UqOPaX/LaaMtxlrR8fbTpOm0GA9NGlEsh8n0fzJ+KC1Jc3Lo9B9B3NYbsB/nna6ZUIEj7VDfVupGKBZzC9jVTjcIwl0TgKzM+kbb51CzyJ4Gc/CNVaEtBXirclPNFpJqF4lrIIzXmxuE9uuK+fWLqg//hMvYuG4O/fF51XTh8PoyUqk5s++SfheH+axd00rEWr+Fm7vF69+LqBqJqDEwbzeswHAYnYrtdiD4tQPoPijMPfbC88UD3hSjofpe3W0O2cKa4X0um70zy1lX2DS7eNh2CTfxIeyKEV9U/Kwxi8Scl4T9kRdwUxLS0zS9BmJ7aYL2cFMXjxuNNVOeJuCbCUo61plgTnyvIdHCMAxF7KbCUU2M1/jySly3ouq6Baypd3L+ZcRveXzDCMZaWt2mAdO0bPUgfCWFGOs50DK5NI+g61OR1X2whVB5brdRk4V1VqdLZI8C4oxRYyqnBlk3+38OwGEagOR1DWjrWpxHY3ntg/CqMJnJsiXtxAvbt8kZrgIFpQ8khMuRAbiiEkeNGdGrk1duMsF8PIbTDA+94M5et+mUfDuOwaQS6SBzB7SM4cMyPWJ2Kdu5eEO4/eOA5ZUCntKLTAOdFL7ZeCCD6rrjJMi2uhSoWPiK1o4tmrZm+qyzIMgj1Li7oBvfJGy/lRQieC1sxetsL6/bSRavZboX3BzfS9mFEGjonpWs/fT6AkaN6FD9Fo4X1UgijWz1w/ZAsbtU4G0JvKo9PKTVZeFdVqoqVg94QMhXralbIFkgjdNGDrT+G4D2krTjWANzPHRi+u/6biAxMG0l+GvFbFtj26+UVlfQwHbEh+jCpou6bZfiQRy6bQmxsGI49n8ByU4OBZFwURiZxY8YRPw0ED36CLlGghaeSSOcWt4FSvwSg3W+GQV4u2i3y7WAQ8WQrbSYt7HcqCpklUkMF9nqSn8HMIyD+dKbpVmf6YRjR0y707JZXlO11oL83iND9Bq7YbAwT4tp3HjHKK8r06DnlRDIcE+1kNclj5mkceCTyrdkMexET17YLrt7q+1y0MM/aEByLru97XGBgolVX3d2jmBTHP9IIf9UFs92PaN4A95S4qcMDsGjlHwva/QMIPX2F+EUjZh8G0PeFKJhuV7YSs0g/A8w7dfJy2WZsFZ+Tftem2ua7BALfHEaXrnQ80pjJ8N2U6rsKPaal8r+WPBJXPRjeaYL+sgf+x7WO0gOzfH7nJx5kkXwUg80kt14X0MJgMiKSaqCV/zqFMCzoqg5uQuceEyxPppFWUWmdf+yH57KoLO4chudqouZ1oXQ+sskYYkdFxWpxhkFrMMM4PtNUd54aMTBtJJpumE/GEHmodFmmkbgXgXW/Udzua6XxFkXhjl1hP/Ww//wKM7FR+E7aYJS7fZR0fmaF88ooHjzNYOKEUguymha6T+eDZrELbrmksY49NsSNXsTTpeOZGbNh9koXLN/XLoTUYG48SjH/leSQuumE7YYeobE4Qne6EDzqRPCZ0lGK/JDP78Tx+U/PS5tu2lxaqKLTinP3LF03SGbfzACiBaF4pjWbRdALo0euJJTHw9ZK7tcgnEdHoA+HEB+bQNfPNjhvKldaFM/HB7HlJqkqpWCbTuRBCuk1nLjQDi0HpqzUf67rr+qbFzXbYx0wNzKYXDWDrDi75PsIUgsGK8tTJ/NI3eor1UJrDhKmEbSKguVCTOFvJ+E36uB5WHevVKexfO6E7WIInRcPoO9WEuVerPy7JMJnHXC88cJT1fyvbL3UHPd4EcRhcTMr5tsTP7p1HsTWX5ZWySLzfH6MZPmTA3KIXnEgdSqC4Kn5cT7NTiu8YyHoLnoRelFa11YXzXPnsfWp443JPYvCf6wbXVc2w58Iwb5TVB16RzH9sx7h/V3okWaJqea6qBwzKo2Hrbp3KUSv9qB7zzA2XxNB/Li4F3faMCryTj8mWnvS+Ohbtd5IETh2yNfXKszYazkwaXv9CBycELXT+UCQHfdg4I0PgW+NpYG5Wt5G0Pe5BcFNdkTkGWSFRACW33zoOrh4Js37+0FEtF7MZMR2NQcJS33K2ctRxKvOcf7hBHxwo2f/knulSg3n8047QslRGH/xwKwvXUj6/R7EP/Ui82gQpi3ydrLKweqa4x67e+A8mcXwVLwq2OcRu+MDzvXAskSWFp/XKBeaTafyTVBn6nO9NFdYa6H/DIi/zsjLZbN4L6rlui2tXhspJH8Aeqymxdf+ThN6jkYR/aWy/l95w7cwPXwoPnceq++Nue6gitRSi7AojfiNAOKfjyKTGi0GpbLOg148ENegOemB5269TiUNOreJLx9mS4tVMlnx+5/p67betDu6gPG02CsF+VlRXTBAv4azzCRpUbYFfjFjNPMKo1JQKttmgfdfSYx+Pg3PxYjyMVTQbNGJ/JKuWAXvMuL3V+JYKwP7ys/Ya0NXnha2SyKY3PYg8EQsvovCezYN9w8DqB6GXEgUajdcmDwawsS3FmjLd7E8g0yaSVM9gyw0a8DAofodDJ2H7BjU+hGeqhwvEDXZ28PoPmurs19q1UQ+ay1w3ZjEzC/SNGob/FOTGDkj8lg0/5enE9YTg9BeDS9ssYl9CF/uhuvo0jmqPT4xX2hWp4RXbDHfxbM4lW8CEwYVfy4l5RlhC1JFYW343IXsnarB8BcxRO47YTEpdNy3zeZiF8xClTe80tT2ViyVZyI13F2nRA/r9UlM/L3GdSWuwYFwfGEBrKgTBqMFkYeihS+vmZdFKpGEzVDvM4TPjHAhhhmF1mjuaQKx01WTXeqqrDDUTs08pKs/MoLJOwvHROds0sLy9xDiP9mVuyMrdBqMsNwV16/CbMVsKo5kb1fdz1C79owxbReF33U9fKLgDF5xIj0UwsBe+Wc1JRG7nIXzrxaFVpUe3QeNi2aQ9Zi6l26BlWks6DlnRPBebP5ifxdD9JYTziPr+JQtK5/bQ7O/B+69QUQfzRcfuUdRBE86F8+mUrnOI074ND74bqZK10cuheCQB+8vuWCVau8tMcB4RouJqMJY0usYJsZNsOxZfjhYt4pTpZUDr36/HdZbQUxUB5UnIYyMO+E42EB+dZphPT2DwN3quXdpTNychOuQWWFyRQ3b7ZioCuLxIbG+slUqp8qxsvYqVSoUezF2W2A/FERwUWs0idD1CJzHrS1UONShbZMftL2i2Z7pR989N7ynGij836aREl8216jFFwc9i6Oi83R/bLw2azwqCpmKiz19L4jJb8UN0HLBs7aazue2McJ21orgzQm5q6F0ww+esDZ+wyt1x5k8Yv38bK25VG+c5EMWsVtu9P1Fesq/4uHOT8048NUwwo+XqskaMTAVhTnhRLf0tww9iO2JIFqv67khonV5zg/DTWlAu2Kc73UUnuMOZIb8cP6ptK6+qnyRju0vB+aS+ctGH6Zs3+ttlDTeVVujq3K3E97reXhOeBCVx1jyLyLoP+2DPjwIW0P3rMj38yLfr7nQLwrs4qfks4hecMCzzY+BIyvZEm5Sww/w1jpnejgvjSB/URzbVFY+1jQiZ13wfRrC4NHGj3XpGbJr9/aHtgWm/P0gvH9wwaUXNdFGntbepi02N2drvEJj9ndRl93WufyCojguEkXkkbQvSUSuZ+A+ptQ6W1+azuc20ouWhnMqgpgU7J9EEMg0O15Xp2tJTsXa6VJE69f9hRHDTw1w/hgtPeVfTskoRr/WYvqCEealZsB1GuH6KV56U0RmBqG/m5oIsHVI43xPI8UxlvI4X9fxCDafn0HsO4WxJyVKb7h4HseDfz2YS/Gf63f7rJrqB0WrU7HLtjbjmUnEzm9G6JC+lF8notBfEi2Aul2BFYrjq17o7znQJRWsegtCW71INtA9tvrqPcAbx5I5tteFyYdubL5tgV461j0ORHc0c6yNzJBdu7c/tCcwvRXNxy/jcIsoPnLJjfQ5D8Kv5Z/VoumG5bQWwX8qzZ5LI3Y3BufBJprfi5TGRabHYkg9iSGkc8G2St1eK2apfFaqhe1wIFLZV67rEjVtqYWxzJrQNivs304j/DCF5P0QdE2P1zU2gcF8Ud68hvTdYfgNAUxcc8K0s6rysqUT+n1O+H70YvPFEUQbHwJor22m0jifNFFH3OSvEqOiJmtQccVoia6jVaGB4eigCOilcUIpvwb2L6NDShrbWlDhaGVsVd00n9kwGJ4pVQhEpWV0Ax1rGwJTGuELLqTPBuCSCn4RyQNn03Ccr9fNUGp6W2470HO5YlqpPLXZs625JqkSjckC59Mw3Bd86D7Vo8JaUzPq5LNCv/iiJG7UB/+Sbtrl1oQ0MB90YmbcDc+17mWP1ym9u21RaujVLEuQnvUgatjSLzUtVpYqp+RXJ1W9EHf9azkwpW+74XjqhP9MuX9eI5rlfgw+d8C94Il7BXKXh/WNCFByl4euOLXZj1Q7uimKkyDeI5p0wn5IRX3My9BSPrdRcRLEb1FMn1y78Tr9cS+8KZc4t0EkXueQr+wO/j2L1MMg+k/2Y3aoH9aPcJ4BLUcTD38rpZZmOFK1lgOT/sQECknvwudjtpjgTRYae+K+qssj81Sa2lzd37/cboZ8cf6Esc5zNutBy/ncLiJD8zC2NF6n9FzN4rREd6M47sFHSXg/zyL4dQ+6K6b16kyitT2eg/kfGcQbHc9RUJzivsEKm4byfbk1f4UX1S5IxUkuNK/edHQzPuYc6xDBoCB/v/G8i6Dvj0GYnk/CucZTml++fIldu3bJS+tX7m4ftt404VXUuc67RolIrdo2K091PmQRvebDzCUvHOvsORvVykbhuzID75CDQYmIVsyGDEzF/8BshzRV1N+mZ1M+dqXZdLqDIWy9GsXgn5mjRLRyNnZXnopslK48IqKVtnG78oiIaF1iYCIiIlVhYCIiIlVhYCIiIlVhYCIiIlVhYCIiIlVhYCIiIlVhYCIiIlVhYCIiIlVhYCIiIlVhYCIiIlVhYCIiIlUpvsRVesEoERHRaqj3Qmu+XXyV8O3iRESNYVceERGpCgMTERGpCgMTERGpCgMTERGpCgMTERGpCgMTERGpCgMTERGpCgMTERGpCgMTERGpCgMTERGpCgMTERGpCgMTERGpCgMTERGpCgMTERGpCgMTERGpCgPTRyuL8LEO9Ixl5WVaKIHhjg4MP5YXq2THetBxLCxysUVvw+jp6EH4rby8LEvva0Na3o8619PjYXR0DIs9bVXrx9q2c0crhoFpI8qlEPm+D+ZPO0Rh0AHdngPouxpD9oP883WuWLCI46qfWi3wW5FD4mr5HOjQ9Vc3wr/m5J81LvdrGO6/dkEnHc+n5uWdx3cJ+L8y4xPpM3RdOHw+jFTzu7LC8kiNuXF4j6547j4x9cH/sInQUQys5fOukBiI1pWPIjAlvhcX5vet19XWhddhOAxOxHa7EH1agPQfFGce+mB544HuC1Fj/V3ebk2UaruKBUd1qne+ekPIiGOTjq92moB9u7x9XaUa//w+mOERaz2mynWNBrosIl8aYHtqQiAh7UcG8SEDJg9aRU0/L29TX160MqwHQ9BdiJeONRGA6akDxq/CSMvb1PU2AsceG6ZNAUz/V3zGmzg8uhAsh1q/For31Vze6OAYByL2UmApp8ZaNnkkL1vQdV0D11S6eO5mxm14f8EIx1jDRyrYEHpTPvdV6Y4dWnkrUj+2mDaUHCJDDuSGQhg5bkSnRl69zQj79RBCOzzwjjdzo68Mb7Gwrp3iQ/KGq0oL+53K/YjDK9Yu3NfGAl3+4Qhc9x0I3XDCuK20rnOvE4EfuzFyOoBkaVUdSQROj6D7xxAG9nWWVonz6LwRgkN89vDdRpo8ecRuuBA7EULwlLgeNolVmzph+lsIAYMHAzcb25NaTN9V5k0GoV4RGsKZinUFDO6TN17KixA8F7Zi9LYX1u2li1az3QrvD26k7cOIvCuuoo8IA9NGkp9G/JYFtv16eUUlPUxHbIg+TLJLoxEvZhAXX+KpZgN5HvGpYejOO2DZIq+SdR5xoD/rQ7SRVsS/o/A9ccB2UA5KZVsscJwzIng/LqohdeTjiF7WwW23oFxHKemE9fgAEj/HqoKkaF3tKLd2mhwPys9g5pHIr6czIgeak34YRvS0Cz275RVle0V+9QYRus8r9mPDwES0SBrhIQ+m95mQueBB+LW8utq4ozT2s6DLKoXEbcD6uVFermSA8WgW08/rB7vs82lke7vRtTCiFBn2WoC7yfrdec+SiMEC42fycgWNoRu2J3GkFnRNVnaFDcIkr60vj8RVD4Z3mqC/7IG/ZnelB2Y5v+YnSWSRfBSDzWQQ4bKaFgaTEZGmKwe03jEwbSSabphPxhB5qHQjp5G4F4F1v3Fj9LVXBIWlUtOzDj9kEb3ggON5PyL3YwiczWLguAcxpe6kinGu+S4rUSiLP7lZ6jZbpBNbdaJd8rr+PmVei/baHr3iudL8Yav4Gx50zx1naTxskXxetIi2YrNCcMN2PbpFmzDdcmMkh9RNJ2w39AiNxRG604XgUSeCz5SCkxdxOb8mjs8fmdhNYNPm0kIVnVa0/p+l2cr/yLQcmLJSAaHrR3TBjStqnMc6YL6crNOsFxf13WH0WeRZR+UZQxWDsnNTO39PIXz+8MKZRYsGb3NI/G//gpk9gX830hefRtDaAd2FmML+JuE36uB5uPSRrLTG8rkTtoshdF48gL5bSeTkXc6/SyJ8VhS2b7zw9C7s5qscrK45UP0iiMMdNfLgiR/dOlFwr2L2aI9PyLX6+qmyAFxaHtnHQbj/YoTz8WHEp0SLYYsGpm8nEfs6i749B+AeE3mqmpmN84V8eTxsteWeReE/Jlp1VzbDnwjBvhPQ945i+mc9wvu70CPNIFzb26a2yooNZ+ypTsuBSdvrR+DgBJxX5gv17LgHA298CHxrrOrbrvLvEII5Cwb/OVOqeaYn4cgOwHKpKkB8EDfeuQi0ZyfwStou6YPxkaNqO1FISzOhfjHC+7A0APvqngtbf3bDW7ezXI+eU05kL0cRr7qR8g8n4IMbPfuXPJIV13A+77QjlByF8RcPzPrSjaff70H8Uy8yj6TCVt5OVjlYXXOgencPnCezGJ6KLzwvYil2xwec64FlbbOndaLiE7oWAU7FkIqJfJrrV9LAcFIUtvedwG2PqOhUXSCLaKDZC8wqBrAc3mdEnu+sHyx1O83AU+WWQv4/74Gjyq2pBTQaGPEes0q7/DaNaZihbzRuL5JG/EYA8c9HkUmNFoNSWedBLx6Ia9Cc9MBzt143nAad0gSRD7OlxSqZrPj9zxo41mZVzurkjD31ESemdW8mCnatqeBLiu9/myy4yt8vx6PBgqgNFkRtsCgTtolla2H0ubxC9v6fLrF+cG672dhgQasdKDz4j7xiznTBtxcFDJW3rGH2QWFQi4Iz8l5eIXlfmDiJgvUnEQ5b9OLFC/m7FjSbz29CBRtshdAbeXmBTCHUi4IITPLy0or5C2dh4jd5heS3iYJT4dzUFi+Imr04bw2keudrjRWvy96QyMVqs4UHf0fBeGVaXq4kjl+rLXgT8qKk1jlK+gpGiOt5Vl6uMH3FWDBeq/z8Ur4u+FyJuKYHYFS8Rmb/NVDAXp+4O2RLXittkPCK8zp/X1d69aOlgJMT4m6rpnSN1jjWJva/9rkjtWjPGNN2G/zX9fBdCiB4xYn0UAgDotbYiPzbJCK3/PCf78OBv5jxyRfD8k8qHLTBUjVjp/OPOvFvCml58Db5/4aRPSVq7lUtAog6o/mI/O1SNBb0SLOd7sXmZzu9iyF6ywnnEaVZbmughXxulWZ/D9x7g4g+mu8azT2KInjSuXg2VU0mUZWQa6nllChOyq7olpLTd9VD7008A6WU2vwcW7E7UbGmrYH50CAy10KIVXU15+6FMKJ1w9rIFOq9Fjj2+RGequqK/j0mWnYaOPYrTa6oojHD+m0GvnB1F3UWkZt+mL60iLujUguz8urZNyjOq/KECv1+O6y3gph4Ia8oeyLya9wJx0G2Zz42bZv8oO0VzfZMP/ruueE91VhBnh5ziIvSi5TGAPNXXkzcieFVsaCq0rkZykOjZVmkn4ov/1NaWqTW+irGo64FN0j6XhCT34qbRn4WRQ2Wk8/tYYTtrBXBmxModc6kMXFzEoMnrAqzqVaCQlCbS8rP0CxIiwJdbQsfHF0i1Rib0Ox3I9grCvlvgkjKY4K5x344vp5G/w+uqmBQixGuf3gx840D/sdycHqXRFAsx7/xw9VQhUQDy7kgeu464Lwpj499yCJ22YmBN174T1XvyfJm5TX+Jo4awW63E97reXhOeBB9Wwqh+RcR9J/2QR8ehK3h+68ysCokjiWtG20LTPn7QXj/4IJL74Ovkae1c1H47Sm4xycweNwK02dadM49EdqsTmgr+rgXKvXrN6Q4lhJF5JG0/6Ildz0D97HqZ0DWVtP53Eb6I6L1OBVBTArcTyIIZNZ+7G3FDMUXBraqlAnb5A2VdMJ6fRqRz5PymyN0MF/KwHE/isF9jeeXRrQyovcdyFwylwbqTR6kDolWvAiyDX/KNitGEpHieE/3/4jP2GGB/70DseLkDnmbdqj3Jg6lCmcF45lJxM5vRuiQvhhEuk5Eob+UROh4g5Wv7XZMKP3dysSxpHWjPYHpbQTOL+NwXxrByCU30ueWePaj7PccMtBDV1XdTiVj8nfN0EBvsIoKU7zqgUHhXRzRu/L3dYkC5cQgpsdiSD2JIaRzwbZKXWUNWSqfld4VtsMh6pAVtUhdV6m7dLnvkBOFnP3baYQfppC8H4LurK3B2v/HqBOmMyOYfC4VihnM/NMH+5+ab1t2/skOX3ly0PNJ+I4rPe9TxzYTXDcmSxOHMjOYvGKHYXWauU3QwHB0EKGn8sSlxCgG9jOMfKzaEJjSCF9wIX02UOpe2OtC4GwajvN13ue13QDzvghGbsfkKbh5ZKc88PysPDunHn2vB16NG66z4bnuk/zbGIYvJKHrLS03QmOywPk0DPcFH7pP9YjQqRZ18rmRGqMolB78Ky4KqGbeIVdJA/NBJ2bG3fBc62547G3Jrh7RCqh88HJxWssXsRLRWmg5MKVvu+F46oT/THnKskY0y/0YfO6A+/ZSocmIgbFJmH/ph0HqYvjUAs+vhxG8elj+eZO2mDA4NQ3nhxB6/igVaJ/AcjEJy6VBWP4ob9OI4iSI94gmnbAfUk+1cvn53F7FSRC/RTF9svGxt2aeO1qclhtEiWjdEjc/LTBbiA8Za0z3Xb62TBdvq+ami8+ZjRe8e5WnIK+dZR5LDfEhhenrSqkdU47bMk27xhTqZrSwH6VHOhTyZ1FSni7enNaPldPF1a9D+kdcNFT2LoK+PwZhej4JZ8PToOt7+fIldu3aJS+tX7m7fdh604RXUaeKujmJaCNp26y8DUF6T9o1H2YueeFoY1DaMLJR+K7MwDvkYFAiohXDwCQrPruyw4LQVj+i9V6l9NEpPdyqOxjC1qtRDP6ZuUNEK4ddeatko3TlERGtNLaYiIhIVRiYiIhIVRiYiIhIVRiYiIhIVRiYiIhIVRiYiIhIVRiYiIhIVRiYiIhIVRiYiIhIVRiYiIhIVRiYiIhIVRiYiIhIVYovcZVeMEpERLQa6r3Qmm8XXyV8uzgRUWPYlUdERKrCwERERKrCwERERKrCwERERKrCwERERKrCwERERKrCwERERKrCwERERKrCwERERKrCwERERKrCwERERKrCwERERKrCwERERKrCwERERKrCwERERKrCwPSxehtGT0cPwm/l5bbLInysAz1jWXl5mR4Po6NjGAl5cbmyYz3oOBYWe9WKBIY7OjD8WF5sSp38aNNxtraPJe3JK6LlY2CiVZf4vkMUwkunhgvWdwn4vzLjE+n3dF04fD6MVE7+WSOKAWHx3y+nlgNr2+SRGnPj8B5dcb8+MfXB/7CJfStWRJSPsZgYiEhFGJg2lFJtWbHgkVKLhU+xJq30uXJqNJiYvitA+o+TSymDUC9gC2cq1hUwuE/eeClvI3DssWHaFMD0f8XvvYnD++kkLIdEy+N3eZuGeBGv+NulVNqvViwMwDo4xoGIvRRYmsuzPJKXLei6roFrKl3cv5lxG95fMMIxlpa3aYQNoTfVxymnO3Zo5a2I1hoD04ZiwqBSoSNSJmwDtnVCI2+5HNrjE4qfXSjEMQgLtNvkDZsyi1nRwklnM/Jyo/KI3XAhdiKE4CkjOjeJVZs6YTwVQNA4AtcPydJmLVoYSMzwyOsb0bYA/CIEz4WtGL3thXV76Qxqtlvh/cGNtH0YkXfFVUQbhmoDU3q8H4f/0Z7ChfKYSUZgMRrQKa9pqxczoq1mhH67vNyMd0kk7gPJqThS8qqG5OOIXtbBbbdUBdtOWL/sR+ZatA3jNdWBRLTI5PVNy89g5hEQfzojzkZz0g/DiJ52oWe3vKJsrwP9vUGE7rMTjjYW1Qam7LMAor83ewuTIlGIx24bYf1cL69oL6ngjJ22oHsZzbHkbR8mTw9i8D9eeJvplvo1gRCsMO+Vlyt9ZkRPdhrp1/LymssjcdWD4Z0m6C974H9c67r2wCy3zubHtrJIPorBZlKqVGhhMBkRSTXTnUekfuzK+wjkpsIYNrpgUyrEW/V7DIGLMxjstTTfGnvih+uKHoELUlDyA+ccGK5ZaFf5IBXZm+WFKp1boUME6TY0JFrpyivJIXXTCdsNPUJjcYTudCF41IngM6XjnB/rmjg+P+KTlzbdpHysOq2obDxLc+ICbShtCUzFQd7vE6UZUvYu6KSb+FMz+q4mxG1ZJSsKsm8Oo0tXutl1ew6j/38rtpNnD5kviu8vmuUCYalpzVlEvtRB90104d96LX2OGcP/3hitruy4AzpdP6ILxhPSxSnI5svJ2t1DInB4v5nG4AUHFreXInDsKJ2HpfO4FtES+IdoAXzhR//+XHFf5gvx0mB/TeL8OA750P1jADapC3CnHcGHTqRPWNB/Vz0tgFa68nLPovAf60bXlc3wJ0Kw7wT0vaOY/lmP8P4u9FyNIavWy1O63srnkjP2aJW1r8WUDsFzKQ3L9RlkxE38/q4Ts9fMcNyaL2Ty//bjgNGD1BeiZijPDkpPDUB33wbDl2FRzArb7ZgQ6+ND4vuhuFwgTMBec/xCC9ulACzi73nvl+9yEawuDiBzLYDBP7cy3K8e2l4/Agcn4LwSmwtC2XEPBt74EPjWWGNSgwhc3zgQ/yYAz/9V2qJyltZSeawsPSa3BK5IM7q0sN8pf5aUas9qy055cMA0AFyLY+TIfDtL85kTo78EYBjrh3uqTlGo0cCIWXmhSu49MuLY9A1PM5vvQms4sNaVRvxGAPHPR5FJjRaDUlnnQS8eJEdhTnrgqRuENeiUJpV8UD7WTFb8/mf69s+o6w0V7+PiueSMPVpl7QtMU52wXLLDKM/M6vyTE+7zRkTvJUoBR/wbuuiGZiiEkePyLCpBs92CwXAIjvsDosa8zOrjdhv81y3i8wOQpkvk7nnheu5G4G/G0s83BDkA3/Yg8EQsvovCezYN9w8DooBWkkb0rAMD8CP0naml2XhK0mN9OGBPi9ZNcEGhW18a0/fTMP4YR+i4wphXpxGuO5PwHapTFH5mhAVRxKW8qPYsiQltN/SN7Ne+wYpgujhVdqk1Rw/r9UlM/N0CrXytL6C1YCAcx6hSHizQCYPRgsjD5OLeB1EBSyWSsBlWZuyQaK20LzCdsMBcVfoV+79FjbBY932dQHTKBsdBhZtoSzcsR7MIPm5qXtYCxRbFpz54fwjC+3Ua3tu1Cux1rBiA9fCJABW84kRaBPkBpXGjXBL+v5rhzDkRu2FX6MJrwYcsohcPwGyfgf1fUQzuazbkiQL7Wgi+I0p71cRbCzRmWL/NwBeeb0GW5BD9eQS6c1aY5DXrQjFADirus36/HdZbQUy8kFeUPRGVvHGnuKfYnqGNpX2B6Q+bl66VZ9OISF+Vao+iVrhVJzb50EqHu2hRnPcg800foue8cFZPrd0gtL0eeDL96LvnhvdUVeH+IYfkmBsHDFbETBGkfnbCsEX+WcvySE/50WPQ4fB9A/ypGLwH2zz5PD+L9+LL9POK7q2aBbYGlnNB9Nx1wHlTtCY+iFXi+BP/EMvJfgRON1ktWcFXNNV7MHk+1Xgl0W4nvNfz8JzwIPq2dI/kX0TQf9oHfXgQtoafH6scU1RIHEsilWhfYKpnmxYW6atUgCySx+x/AOOWVjqc8oj97MXWMy7or/kQVs1U4fbK3xctwj+44NL74KueXv02isBtwHk/hclvTc3PkluSODe5FDRfP0Dm0Qjsn7VyrpSlxwMI7TMhfSNS7JKta5sVI4lIcaym+39EwbrDDG/GgdiUCGRtC8htUjlmo5QSS0+rMJ6ZROz8ZoQO6YtBpOtEFPpLSeXuUCXy2K3i3y4njiWRSqxeYNrdDeu+CEL3FQZ7f48jetsIx/6qWu5/5a8NyEpdGo9EK+L6CLzn0xi4KE+m2EjeRuD8Mg73pRGMXHIjfc6zMADvtGM06oP9T21uycj0x0cRqjVm0qrXYXiGNAiMxxCwTsD1faKqi66GbSa4bkzilVSwZmYwecUOw8ocvlB6s0ZDb2toOw0MRwcRelqaJfgqMYqB/QwjtDGtXmCCEa5/ePH+awf6x+SuFyH/NoZhe2nmmKtivES/2wbcE7XExSO+i4lCbeBsGv3/6yqOKxlPB9D/3AH37Y0UmtIIX3AhfVbOp70uBMQxO86v/wCcfxaE4+AkLPeCsG3XwPRdCO60E4cvKzxuQEQb3ioGJlHn2zeIWMoN3X1XqetF6pLoDQMnY4hVzRzTHvFi9PMIHFul7Zbq+xcF9nkHUqf8GChPDdcYMXB1EOkv3RumSy992w3HUyf8Z8pTwzUwnvFjcD0H4HcpRK/2wHIxh/5ECM657kE9bD/FMaINwmwR5/AJwxPRR6VAq+LFixfydyrxJlSwwVYIvZGX2y5TCPWiYAtn5OVKs4XpK9aC4YirMBJT+nmF36YLE0POgungQOHBb/K6ZciEbQX0hsRe1VDMDxSkW6JuWupzFBT/ttLnLEreQlz+neWLF7zis7wJeXEZ6uYV0QrrkP4RNwWtsJcvX2LXrl3yEhER1bKqXXlERET1MDAREZGqMDAREZGqMDAREZGqMDAREZGqMDAREZGqMDAREZGqMDAREZGKAP8f307HREsLzTQAAAAASUVORK5CYII=)"
      ]
    },
    {
      "cell_type": "markdown",
      "metadata": {
        "id": "OXOM2-T4ZwYi"
      },
      "source": [
        "돈이 3000원 이상 있거나 카드가 있다면 택시를 타고 그렇지 않으면 걸어 가라."
      ]
    },
    {
      "cell_type": "code",
      "metadata": {
        "colab": {
          "base_uri": "https://localhost:8080/"
        },
        "id": "-Qz5nX1XZvlJ",
        "outputId": "ed91f154-ba89-4e9f-c5c2-49381aba412d"
      },
      "source": [
        "money = 2000\n",
        "card = True\n",
        "if money >= 3000 or card :\n",
        "  print(\"택시를 타고 가라\")\n",
        "else :\n",
        "  print(\"걸어 가라\")"
      ],
      "execution_count": 16,
      "outputs": [
        {
          "output_type": "stream",
          "text": [
            "택시를 타고 가라\n"
          ],
          "name": "stdout"
        }
      ]
    },
    {
      "cell_type": "markdown",
      "metadata": {
        "id": "eq3q57D-Z-kV"
      },
      "source": [
        "- x in s, x not in s"
      ]
    },
    {
      "cell_type": "markdown",
      "metadata": {
        "id": "krjmvns3GiTY"
      },
      "source": [
        "![in.png](data:image/png;base64,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)"
      ]
    },
    {
      "cell_type": "code",
      "metadata": {
        "colab": {
          "base_uri": "https://localhost:8080/"
        },
        "id": "cEVMKwOvaCcm",
        "outputId": "ae052ede-c47f-4c9b-af66-a2b8fb061b86"
      },
      "source": [
        "1 in [1, 2, 3]"
      ],
      "execution_count": 17,
      "outputs": [
        {
          "output_type": "execute_result",
          "data": {
            "text/plain": [
              "True"
            ]
          },
          "metadata": {
            "tags": []
          },
          "execution_count": 17
        }
      ]
    },
    {
      "cell_type": "code",
      "metadata": {
        "colab": {
          "base_uri": "https://localhost:8080/"
        },
        "id": "ZTWHNJIbaE7P",
        "outputId": "94be2ff2-7a68-486f-dfee-914d6fbf4d0e"
      },
      "source": [
        "1 not in [1, 2, 3]"
      ],
      "execution_count": 18,
      "outputs": [
        {
          "output_type": "execute_result",
          "data": {
            "text/plain": [
              "False"
            ]
          },
          "metadata": {
            "tags": []
          },
          "execution_count": 18
        }
      ]
    },
    {
      "cell_type": "code",
      "metadata": {
        "colab": {
          "base_uri": "https://localhost:8080/"
        },
        "id": "BoxVXj7saGeU",
        "outputId": "cc36e87e-7551-437b-930f-8fa0f2276585"
      },
      "source": [
        "'a' in ('a', 'b', 'c')"
      ],
      "execution_count": 19,
      "outputs": [
        {
          "output_type": "execute_result",
          "data": {
            "text/plain": [
              "True"
            ]
          },
          "metadata": {
            "tags": []
          },
          "execution_count": 19
        }
      ]
    },
    {
      "cell_type": "code",
      "metadata": {
        "colab": {
          "base_uri": "https://localhost:8080/"
        },
        "id": "xLNnRE_OaJ2H",
        "outputId": "2ba5a081-4c44-4645-e8f1-a0d2d186bb5f"
      },
      "source": [
        "'j' not in 'python'"
      ],
      "execution_count": 20,
      "outputs": [
        {
          "output_type": "execute_result",
          "data": {
            "text/plain": [
              "True"
            ]
          },
          "metadata": {
            "tags": []
          },
          "execution_count": 20
        }
      ]
    },
    {
      "cell_type": "markdown",
      "metadata": {
        "id": "wNl3e-UzGmj_"
      },
      "source": [
        "만약 주머니에 돈이 있으면 택시를 타고, 없으면 걸어 가라."
      ]
    },
    {
      "cell_type": "code",
      "metadata": {
        "colab": {
          "base_uri": "https://localhost:8080/"
        },
        "id": "1D48vzoNaOIy",
        "outputId": "8736d32a-3697-4917-a471-1508b87f66db"
      },
      "source": [
        "pocket = ['paper', 'cellphone', 'money']\n",
        "if 'money' in pocket :\n",
        "  print(\"택시를 타고 가라\")\n",
        "else :\n",
        "  print(\"걸어 가라\")"
      ],
      "execution_count": 21,
      "outputs": [
        {
          "output_type": "stream",
          "text": [
            "택시를 타고 가라\n"
          ],
          "name": "stdout"
        }
      ]
    },
    {
      "cell_type": "markdown",
      "metadata": {
        "id": "V2k8KF4ztv1F"
      },
      "source": [
        "[ 연습 문제 ] '주머니에 카드가 없다면 걸어가고, 있다면 버스를 타고 가라'는 문장을 조건문으로 만들어 보자."
      ]
    },
    {
      "cell_type": "code",
      "metadata": {
        "colab": {
          "base_uri": "https://localhost:8080/"
        },
        "id": "gI051KFOaaVn",
        "outputId": "587812da-4739-4ecb-d12a-6c21c8c422ff"
      },
      "source": [
        "pocket = ['card', 'money', 'trash']\n",
        "if 'card' not in pocket :\n",
        "  print(\"Walk\")\n",
        "else :\n",
        "  print(\"Ride a bus\")"
      ],
      "execution_count": 22,
      "outputs": [
        {
          "output_type": "stream",
          "text": [
            "Ride a bus\n"
          ],
          "name": "stdout"
        }
      ]
    },
    {
      "cell_type": "code",
      "metadata": {
        "colab": {
          "base_uri": "https://localhost:8080/"
        },
        "id": "08MWuf_TuXD6",
        "outputId": "af62a4e8-2816-465d-9bab-433a4dd03d7e"
      },
      "source": [
        "pocket = ['money', 'diary', 'trash']\n",
        "if 'card' not in pocket :\n",
        "  print(\"Walk\")\n",
        "else :\n",
        "  print(\"Ride a bus\")"
      ],
      "execution_count": 23,
      "outputs": [
        {
          "output_type": "stream",
          "text": [
            "Walk\n"
          ],
          "name": "stdout"
        }
      ]
    },
    {
      "cell_type": "markdown",
      "metadata": {
        "id": "OGxT3i-4un8h"
      },
      "source": [
        "[ 점프 투 파이썬 ] 조건문에서 아무 일도 하지 않게 설정하고 싶다면? (pass)\n",
        "\n"
      ]
    },
    {
      "cell_type": "markdown",
      "metadata": {
        "id": "dMrnBavpGx0R"
      },
      "source": [
        "주머니에 돈이 있으면 가만히 있고 주머니에 돈이 없으면 카드를 꺼내라."
      ]
    },
    {
      "cell_type": "code",
      "metadata": {
        "id": "eFx2g0YdumUN"
      },
      "source": [
        "pocket = ['paper', 'money', 'cellphone']\n",
        "if 'money' in pocket :\n",
        "  pass\n",
        "else :\n",
        "  print(\"카드를 꺼내라\")"
      ],
      "execution_count": 24,
      "outputs": []
    },
    {
      "cell_type": "markdown",
      "metadata": {
        "id": "fh8wYI5GvJym"
      },
      "source": [
        "(2) 다양한 조건문을 판단하는 elif"
      ]
    },
    {
      "cell_type": "markdown",
      "metadata": {
        "id": "PBqSmZVWG37o"
      },
      "source": [
        "주머니에 돈이 있으면 택시를 타고, 주머니에 돈은 없지만 카드가 있으면 택시를 타고, 돈도 없고 카드도 없으면 걸어 가라."
      ]
    },
    {
      "cell_type": "markdown",
      "metadata": {
        "id": "pM_kyW2EHSC4"
      },
      "source": [
        "elif는 이전 조건문이 거짓일 때 수행됨"
      ]
    },
    {
      "cell_type": "markdown",
      "metadata": {
        "id": "TlFaFwcoHIup"
      },
      "source": [
        "![elif.png](data:image/png;base64,iVBORw0KGgoAAAANSUhEUgAABCcAAAGrCAYAAADzf/2gAAAAAXNSR0IArs4c6QAAAARnQU1BAACxjwv8YQUAAAAJcEhZcwAAEnQAABJ0Ad5mH3gAADsJSURBVHhe7d1BaFx5nif4X+4W1DZbM3VpIigfBH2YZA0T2jFWUQlr8GGLSVCYhFQzsOQyMC02QeHLqnyxxRxyqqFb9h7c6sNYggTlwtKeQzIyuByCWnIOyXggi5ZRYQ0Ysg8FGlASQV5qppqmoCDnvRcvpIjQi3CELPkppM/H/O14L9578SJu7+vf//d/57tEAAAAAJTkf8j/BQAAACiFcAIAAAAoVeG0jn/4h3/Ixh/+8Id8DwAAAMCb+973vhd/9Ed/lI2uY+HEf/tv/y0LJgAAAADOShpO/KN/9I+y133TOroVEwAAAABnqTeDOBZOAAAAALwNheGEHhMAAADA29LNIazWAQAAAJRKOAEAAACUSjgBAAAAlEo4AQAAAJRKOAEAAACUSjgBAAAAlEo4UaD9ZDGqD3fyLQAAAOAsTWE40Y6tj6tRrb5+LD5p5+d07cRawXHpWHuRHzLKi7XCc3vHWNcBAAAADk1hOFGJhU9b0Wr1jO2VZP9KNHv3JWPzw0rnlENzsTxwTKvVTM6sx8yP8kNe54P12Dt2jXTsxfoH+TEAAADA2CYKJ3YeFlULrEXRBIj+Y4uPOS07X64mf7+M/YPO9kRePI/Vu7dj4Uq+DQAAALxVE4UTc3c6VQJ7G/WeCoLlmMvf70p7NtQf9FYyHD/m1BxsxaP0s7Zno/HJVgxO5BhtJ9bmX8b6/3FmdwcAAAC8xplM69j/TTPi7o03DyQOtmKxuhhbwyoi0vev7cftNPy4vhx788+i9vH4AcXOw3q83LgfC1f6+1jUlpL7H+ZpI2qHFSG9oxaNp/kxfTp9LvSiAAAAgGLnt+dE2nzyWiNmtzcLp1xk00Y+ibjfU5VR+XAzWkv7WXgwOgzohBH1aOZ9Kfr7WGSVIUWuLx8eM2wsX8+PPTQXy7vr8XK+qEFnj7zZ5shjAAAA4AI6xXDiaCWM+oNk80H9sKpg0gfuLHhIp1vsHn/Yz5b5TK75/GYrWp8uRNbyMq2g6FZM5AHCjS/Tzy6ousiqMWrxbH4vWnfe0nSOKwux2WrG7FItqhNUdgAAAMBl8M53ifx1tNvjPTanAUFt+1bsdcOBAWm4kFYlTP7wn1Y01KIR60OvXSgNHNIqiteck93Xq9dfO/t+v7l9eP/Z9qipHgXqG3sFq4Xk3+9p2o/jDPtwAAAAwJSoVCrnbFrHi8dD+jacjqyh5yShRy6bLjIwfSMd2fSPu83C944HE6lKzFxN/12NR6ZvAAAAQOZ8hRP5lIzm1bTp5IhGmG8qm9ox+fKm2ZSShyddFLUz7SWr3BgaXgAAAMDlcy4bYmYVDunSoNcGGltmoUKnj0XfuNaI5rBVNE7Q4yGrlDjNfhTZfacrg+wNr9zQEBMAAIBLaqJwImtUmTxAZ/0XDsOAySsQxpJWUWSrXPRUUGSNJY9PoRg5TjCNY1zjhRg7sZatOqJaAgAAAIqcqCHm1EsrGdJqi3yz2PGmlWM1xkx7ULytVUAAAABgyqUNMS9nOAEAAACcC+dvtQ4AAADg0hFOAAAAAKUSTgAAAAClEk4AAAAApRJOAAAAAKUSTgAAAAClEk4AAAAApRJOAAAAAKUSTgAAAAClEk4U2om16mJsHeSbmZ59B1ux+PFWtDtvHNN+shjVhzv5Vo/XnFeW9H4Xn5y3uwIAAOCyuCThRBosrCV/n5E0dKhWo5qP2lIz4kH9cDsday/yY08s/Q5H1yscxwKR0ee8+T0BAADAm7sc4cSL57Ga/Hk+8mG890G+nhzdjMa17vZgFcWAKwux2WpFa8RYvp4f+0bqsb5bfP29jXp+TK+5WD48phkrA+efzj0BAADAm7n44URa1TC/Git3V2J1flT1RO+D/ODYjIUr+WGjDFRQnKvqhIP9eBnN2P8m3x7X12tR/Sz5Lr88s7oTAAAALrkLHU7sPEweqq89i1u7rVi+sxyt3Zl4lIYGRf0gclm/iN6Aoa9HRF5Nca2RvBqQBhP5Zx2FGslR8wMBxdNG1LJrn+E0kwLtXz3L7nn1y+JPbS7VOt+357fZ+WWy/ZuZWP9BvgMAAADOwJSHE+3Y+rja38zxxdphsPD85kDVQ3f6xc3nh8f0BQfJubXtW7F3GC60onm1EbXDB/Z8WsTuevJqwDf70bx7e6DCYi4+2qjHy/2e+/tgPb/+cvLupHqnmvSPrM/FMAdbcW9pNpqtvVh/VS+s5qhv7HW+8538rr5ei0c/TPa9f6OzXSALcs5hg08AAACmyxSHE2mPiFo0rjZj88NKvi9xffkwWBjaU2GcYyb1o5moP3h0bIWPx0vNmJ3pub8TGzXtJB/dYKFXGtZkFR1pGFKJhU8LqjmKvLscm++Nvu/Kh5ud8OYtV4EAAABwsUxnOJFVR9TjZfq//UUP5Cd1fTn25p/l0y46ox7N8T4jrcrYvRXP+iob6hHbJTaeTH+n+YhmX8+MNOTYi5mNgYqTE5q7kzbjfBn15Puem/4aAAAATJV3vkvkr6PdPv8F+ulUgtpSxPpuUZPKtJoiXWljEivJw/uEUyzS/hKfRNz/dCFOoyZipKyXRUGPi1HSqSMT3Fv6m96L+/0VKIfasfV5LRr/uBmt90f8SlkQsppNDym+DgAAABxXqVSmLZzohg9p74cxV9DIpOc9jxsThRDDg46VodUQaQ+M5EH+ab5ZZMLgYKgstNiP22N/p2H39rrfcsxw4jBEOUHYAwAAwKWVhhNTNq0j77uwPZs1hjyNaQmFsmkjj2Kmb+WN7uhMiShe8SPt6VB0Tj6KGmmOK334P2lvh+zcWuwvFd1TZyrKm0zJyBpjXmvE7HZ6TcEEAAAAk5nOnhNZQ8tmzKbLX45YFvSkdr5MpyfcH1JNUImFn69H/dV+wSoVndVDjnpODIxJp2eckmwZ0bvN4mqPKwtxf6M+dInR10mXa61lK4GU2FsDAACAqTbFq3V0GjumS2OedgXF3M2VaC7dG1h5o6sdW580onl1ZujUjHTax7EKhe44rT4V2bKo41UpVH5yK+oPhvxOB+kyo81YuTlwpW+3YvGzalQ/q0Xjd8n2QT15nWx/frR0aFoxUX+VLo2qWgIAAICTm7qGmCdzjnpOTNwvI3fY02GUUf0eTtpzAgAAAM7OFDbEBAAAAC6SKWyICQAAAFw0wgkAAACgVMIJAAAAoFTCCQAAAKBUwgkAAACgVMIJAAAAoFTCCQAAAKBUwgkAAACgVMIJAAAAoFTCiUI7sVZdjK2DfDPTs+9gKxY/3op2541j2k8Wo/pwJ9/q8ZrzypLe7+KT83ZXAAAAXBaXJJxIg4W15O8zkoYO1WpU81FbakY8qB9up2PtRX7siaXf4eh6heNYIDL6nDe/JwAAAHhzlyOcePE8VpM/z0c+jPc+yNeTo5vRuNbdHqyiGHBlITZbrWiNGMvX82PfSD3Wd4uvv7dRz4/pNRfLh8c0Y2Xg/NO5JwAAAHgzFz+cSKsa5ldj5e5KrM6Pqp7ofZAfHJuxcCU/bJSBCopzVZ1wsB8voxn73+TbY2h/tRjVz5LvkY3F2Po2fwMAAABO0YUOJ3YeJg/V157Frd1WLN9ZjtbuTDxKQ4OifhC5rF9Eb8DQ1yMir6a41kheDUiDifyzjkKN5Kj5gYDiaSNq2bXPcJpJgfavnmX3vPpl8ac2l2qd79v9bb7dinv/5Vbs/VnyPZKxdzWi8Yu3e88AAABcDlMeTrRj6+NqfzPHF2uHwcLzmwNVD93pFzefHx7TFxwk59a2kwfyw3ChFc2rjagdhhn5tIjd9eTVgG/2o3n39kCFxVx8tFGPl/s99/fBen795eTdSfVONekfWZ+LYQ624t7SbDRbe7H+ql5YzVHf2Ot85zv5Xf1x8lv9i4WodLai8t7tWEmnxnyd70hkQc45bPAJAADAdJnicCLtEVGLxtVmbH7YfYROXF8+DBaG9lQY55hJ/Wgm6g8eHVvh4/FSM2Zneu7vxEZNO8lHN1jolYY1WUVHGoZUYuHTgmqOE6p8uNkJb95yFQgAAAAXy3SGE1l1RD1epv/bX/RAflLXl2Nv/lk+7aIz6tEc7zPSqozdW/Gsr7KhHrFdYuPJ9Heaj2j29cxIQ469mNkYqDh5jfZXj2I1VuLGu/mO3NydtBnny6gn3/fc9NcAAABgqrzzXSJ/He32+S/QT6cS1JYi1neLmlSm1RTpShuTWEke3iecYpH2l/gk4v6nR9MezkzWy6Kgx8Uo6dSRCe4t/U3vxf3+CpRe3yb38ItGxNW92HxvyDFZELKaTQ8Zeh0AAAAYUKlUpi2c6IYPae+HMVfQyKTnPY8bE4UQw4OOlaHVEGkPjFo0nuabRSYMDobKQov9uD32dxp2b6/5LfNgonmlGa33R3zSYYhygrAHAACASysNJ6ZsWkfed2F7NmsMOcm0hIlk00YexUzfyhvd0ZkSUbziR9rToeicfBQ10hxX+vB/0t4O2bm12F8quqfOVJTiKRk7sTZGMJE1xrzWiNnt9JqCCQAAACYznT0nsoaWzZhNl78csSzoSe18mU5PuD+kmqASCz9fj/qr/YJVKjqrhxz1nBgYk07POCXZMqJ3m8XVHlcW4v5GvWCJ0eS7fJ7s/8F67I0IJtLlWmvZSiAl9tYAAABgqk3xah2dxo7p0pinXUExd3Mlmkv3Blbe6Eoe2j9pRPPqzNCpGem0j2MVCt1xWn0qsmVRx6tSqPzkVtQfDPmdDtJlRpuxcrP/Su2v7kXjd8mL3zWi9lk1qt3x+dHSoWnFRP1VujSqagkAAABObuoaYp7MOeo5MXG/jNxhT4dRRvV7OGHPCQAAADhDU9gQEwAAALhIprAhJgAAAHDRCCcAAACAUgknAAAAgFIJJwAAAIBSCScAAACAUgknAAAAgFIJJwAAAIBSCScAAACAUgknAAAAgFIJJwAAAIBSCScAAACAUgknAAAAgFIJJwAAAIBSCScAAACAUgknAAAAgFIJJwAAAIBSCScAAACAUgknAAAAgFIJJwAAAIBSCScAAACAUk1nOHGwFYvValSra7GT7+q3E2vZ+4uxdZDv6vO69wEAAIC3ReUEAAAAUKp3vkvkr6PdbuevAAAAAM5epVJROQEAAACUSzgBAAAAlEo4AQAAAJRKOAEAAACUSjgBAAAAlEo4AQAAAJRKOAEAAACUSjgBAAAAlEo4AQAAAJRKOAEAAACUSjhxFl6sRfXjrWjnmwAAAMBwlzKc2HlYjWp1jPFwJz+jqx1bHxccl4zFJ+NEETuxVnBu3zj2mQAAAHCxXcpwYu5OK1qtnrG7HvXkz/ruwP47c/kZXZVY+HTgmNZerH8QMTtTyY95nYLPycfeRj0/BgAAAC6P0w0n0ukMY1QB/P7X6/GntWr8+F9/Eb/N9/X7bez8259F/b3utRZj6yB/6wy0f/Usmsmf/W/yHZM4eB7PYj0+up5vAwAAABM5l5UT+//udtT//HHs/CbfcaZ24vFSxPr2erycX0u2JtGOrU8aMbu0EOPWTQAAAAD9TjecuL7cmaKQTZMY7vv/rBH/fq8Vf/sXP40f5vt6tfe/SP6ux1991Z3ysBkLVzrvTSrrLzG0j0PaA+JRzOwm17++EJvbyadWxw8o2k/uReNqM5avD/SxmF/NjyjSjMa1nmN7Rm2pmR/Tr/1kUYNNAAAALqwJw4n+6RY//mglHv+6eGJGoYOtWOx9IO974D5qNll/mG4342fdaR0nahLZuV791XrsHesdkT/wV5/Hjd7gIw1XdmfiUfKZr2twmYYRte1bh9fu62OxvZLtO24ulrvHDBsF91r5cDOaVxtRGxmcdH+/Sas/AAAAoFwThBO/j72//qhvusX+f9iMn71/Ox6/lekXE8hCkFpW1dD6dGDKRd4X417cj1ZrOTpRQFpBkT/UX1mIzVYrefdedtzai+yAHp0VN+pRcO0zlIYfexsvo154TwAAADC9xg8nfvsf4/FfJo/vH6zG8687/8v/t2vp5I0v4otfjznhIH/wb7Wacby2oLsSRmf1i75VLQqqCYZKw4drjZjdHnJePvVk88PRsUJarZAel07Z6DqqtpjwngYrRsYZBdM4snvaXonV+aLKju7v1w1cAAAAYDqMH078/X+NVvrv05W48W7nAfrHy8U9EsrTjq2NUf0e3kwnsDjBw/9hKDMwst4cK9Esem9YVcaPZrJ+Hs2lx6ZvAAAAcCGMH0587/vx/fTfD1bji1f9D9Kvq0J4e/LqgeSh/+V89YS9KsaRTu04wfKmWQXFyXtCZJUb3aoQFRIAAABcEOOHE5Ub8af/qpJVTvz0as/0g56H9M60h2Rf8gCd1VQ8qHe28ykKh+9X65HVNzxNmzym26fcxDGrVNiL9VfJ5/dNj+j0izi69+5I72c16+dw/L0T3Fs6deSU+1FkDTiXZrMqi96pJkc0xAQAAGA6TdAQ84fx079oxt/c/Sjm/iTfda51qiiyVS4OKyjGWC3j2DjDCoUsRHn99dNQJ1t1RLUEAAAAF9A73yXy19Fuj9nY8tJLKzDy6o+h0oaePcuUptJpHd2qkqHSHhRCCAAAAC6HSqUinAAAAADKk4YTE0zrAAAAADh9wgkAAACgVMIJAAAAoFTCCQAAAKBUwgkAAACgVMIJAAAAoFTCCQAAAKBUwgkAAACgVMIJAAAAoFTCiUI7sVZdjK2DfDPTs+9gKxY/3op2541j2k8Wo/pwJ9/q8ZrzypLe7+KT83ZXAAAAXBaXJJxIg4W15O8zkoYO1WpU81FbakY8qB9up2PtRX7siaXf4eh6heNYIDL6nDe/JwAAAHhzlyOcePE8VpM/z0c+jPc+yNeTo5vRuNbdHqyiGHBlITZbrWiNGMvX82PfSD3Wd4uvv7dRz4/pNRfLh8c0Y2Xg/NO5JwAAAHgzFz+cSKsa5ldj5e5KrM6Pqp7ofZAfHJuxcCU/bJSBCopzVZ1wsB8voxn73+Tb4/p6LaqfJd/ll2dWdwIAAMAld6HDiZ2HyUP1tWdxa7cVy3eWo7U7E4/S0KCoH0Qu6xfRGzD09YjIqymuNZJXA9JgIv+so1AjOWp+IKB42ohadu0znGZSoP2rZ9k9r35Z/KnNpVrn+/b8Nju/TLZ/MxPrP8h3AAAAwBmY8nCiHVsfV/ubOb5YOwwWnt8cqHroTr+4+fzwmL7gIDm3tn0r9g7DhVY0rzaidvjAnk+L2F1PXg34Zj+ad28PVFjMxUcb9Xi533N/H6zn119O3p1U71ST/pH1uRjmYCvuLc1Gs7UX66/qhdUc9Y29zne+k9/V12vx6IfJvvdvdLYLZEHOOWzwCQAAwHSZ4nAi7RFRi8bVZmx+WMn3Ja4vHwYLQ3sqjHPMpH40E/UHj46t8PF4qRmzMz33d2Kjpp3koxss9ErDmqyiIw1DKrHwaUE1R5F3l2PzvdH3XflwsxPevOUqEAAAAC6W6QwnsuqIerxM/7e/6IH8pK4vx978s3zaRWfUozneZ6RVGbu34llfZUM9YrvExpPp7zQf0ezrmZGGHHsxszFQcXJCc3fSZpwvo55833PTXwMAAICp8s53ifx1tNvnv0A/nUpQW4pY3y1qUplWU6QrbUxiJXl4n3CKRdpf4pOI+58uxGnURIyU9bIo6HExSjp1ZIJ7S3/Te3G/vwLlUDu2Pq9F4x83o/X+iF8pC0JWs+khxdcBAACA4yqVyrSFE93wIe39MOYKGpn0vOdxY6IQYnjQsTK0GiLtgZE8yD/NN4tMGBwMlYUW+3F77O807N5e91uOGU4chignCHsAAAC4tNJwYsqmdeR9F7Zns8aQpzEtoVA2beRRzPStvNEdnSkRxSt+pD0dis7JR1EjzXGlD/8n7e2QnVuL/aWie+pMRXmTKRlZY8xrjZjdTq8pmAAAAGAy09lzImto2YzZdPnLEcuCntTOl+n0hPtDqgkqsfDz9ai/2i9YpaKzeshRz4mBMen0jFOSLSN6t1lc7XFlIe5v1IcuMfo66XKttWwlkBJ7awAAADDVpni1jk5jx3RpzNOuoJi7uRLNpXsDK290tWPrk0Y0r84MnZqRTvs4VqHQHafVpyJbFnW8KoXKT25F/cGQ3+kgXWa0GSs3B6707VYsflaN6me1aPwu2T6oJ6+T7c+Plg5NKybqr9KlUVVLAAAAcHJT1xDzZM5Rz4mJ+2XkDns6jDKq38NJe04AAADA2ZnChpgAAADARTKFDTEBAACAi0Y4AQAAAJRKOAEAAACUSjgBAAAAlEo4AQAAAJRKOAEAAACUSjgBAAAAlEo4AQAAAJRKOAEAAACUSjhRaCfWqouxdZBvZnr2HWzF4sdb0e68cUz7yWJUH+7kWz1ec15Z0vtdfHLe7goAAIDL4pKEE2mwsJb8fUbS0KFajWo+akvNiAf1w+10rL3Ijz2x9DscXa9wHAtERp/z5vcEAAAAb+5yhBMvnsdq8uf5yIfx3gf5enJ0MxrXutuDVRQDrizEZqsVrRFj+Xp+7Bupx/pu8fX3Nur5Mb3mYvnwmGasDJx/OvcEAAAAb+bihxNpVcP8aqzcXYnV+VHVE70P8oNjMxau5IeNMlBBca6qEw7242U0Y/+bfHsM7a8Wo/pZ8j2ysRhb3+ZvAAAAwCm60OHEzsPkofras7i124rlO8vR2p2JR2loUNQPIpf1i+gNGPp6ROTVFNcayasBaTCRf9ZRqJEcNT8QUDxtRC279hlOMynQ/tWz7J5Xvyz+1OZSrfN9u7/Nt1tx77/cir0/S75HMvauRjR+8XbvGQAAgMthysOJdmx9XO1v5vhi7TBYeH5zoOqhO/3i5vPDY/qCg+Tc2nbyQH4YLrSiebURtcMwI58WsbuevBrwzX40794eqLCYi4826vFyv+f+PljPr7+cvDup3qkm/SPrczHMwVbcW5qNZmsv1l/VC6s56ht7ne98J7+rP05+q3+xEJXOVlTeux0r6dSYr/MdiSzIOYcNPgEAAJguUxxOpD0iatG42ozND7uP0Inry4fBwtCeCuMcM6kfzUT9waNjK3w8XmrG7EzP/Z3YqGkn+egGC73SsCar6EjDkEosfFpQzXFClQ83O+HNW64CAQAA4GKZznAiq46ox8v0f/uLHshP6vpy7M0/y6dddEY9muN9RlqVsXsrnvVVNtQjtktsPJn+TvMRzb6eGWnIsRczGwMVJ6/R/upRrMZK3Hg335Gbu5M243wZ9eT7npv+GgAAAEyVd75L5K+j3T7/BfrpVILaUsT6blGTyrSaIl1pYxIrycP7hFMs0v4Sn0Tc//Ro2sOZyXpZFPS4GCWdOjLBvaW/6b2431+B0uvb5B5+0Yi4uheb7w05JgtCVrPpIUOvAwAAAAMqlcq0hRPd8CHt/TDmChqZ9LzncWOiEGJ40LEytBoi7YFRi8bTfLPIhMHBUFlosR+3x/5Ow+7tNb9lHkw0rzSj9f6ITzoMUU4Q9gAAAHBppeHElE3ryPsubM9mjSEnmZYwkWzayKOY6Vt5ozs6UyKKV/xIezoUnZOPokaa40of/k/a2yE7txb7S0X31JmKUjwlYyfWxggmssaY1xoxu51eUzABAADAZKaz50TW0LIZs+nylyOWBT2pnS/T6Qn3h1QTVGLh5+tRf7VfsEpFZ/WQo54TA2PS6RmnJFtG9G6zuNrjykLc36gXLDGafJfPk/0/WI+9EcFEulxrLVsJpMTeGgAAAEy1KV6to9PYMV0a87QrKOZurkRz6d7AyhtdyUP7J41oXp0ZOjUjnfZxrEKhO06rT0W2LOp4VQqVn9yK+oMhv9NBusxoM1Zu9l+p/dW9aPwuefG7RtQ+q0a1Oz4/Wjo0rZiov0qXRlUtAQAAwMlNXUPMkzlHPScm7peRO+zpMMqofg8n7DkBAAAAZ2gKG2ICAAAAF8kUNsQEAAAALhrhBAAAAFAq4QQAAABQKuEEAAAAUCrhBAAAAFAq4QQAAABQKuEEAAAAUCrhBAAAAFAq4QQAAABQKuEEAAAAUCrhBAAAAFAq4QQAAABQKuEEAAAAUCrhBAAAAFAq4QQAAABQKuEEAAAAUCrhBAAAAFAq4QQAAABQKuEEAAAAUCrhBAAAAFCq6QwnDrZisVqNanUtdvJd/XZiLXt/MbYO8l19Xvc+AAAA8LaonAAAAABK9c53ifx1tNvt/BUAAADA2atUKionAAAAgHIJJwAAAIBSCScAAACAUgknAAAAgFIJJwAAAIBSCScAAACAUgknAAAAgFIJJwAAAIBSCScAAACAUgknAAAAgFIJJ87Ci7WofrwV7XwTAAAAGO5ShhM7D6tRrY4xHu7kZ3S1Y+vjguOSsfhknChiJ9YKzu0bxz4TAAAALrZLGU7M3WlFq9UzdtejnvxZ3x3Yf2cuP6OrEgufDhzT2ov1DyJmZyr5Ma9T8Dn52Nuo58cAAADA5XG64UQ6nWGMKoDf/3o9/rRWjR//6y/it/m+fr+NnX/7s6i/173WYmwd5G+dgfavnkUz+bP/Tb5jEgfP41msx0fX820AAABgIueycmL/392O+p8/jp3f5DvO1E48XopY316Pl/NrydYk2rH1SSNmlxZi3LoJAAAAoN/phhPXlztTFLJpEsN9/5814t/vteJv/+Kn8cN8X6/2/hfJ3/X4q6+6Ux42Y+FK571JZf0lhvZxSHtAPIqZ3eT61xdiczv51Or4AUX7yb1oXG3G8vWBPhbzq/kRRZrRuNZzbM+oLTXzY/q1nyxqsAkAAMCFNWE40T/d4scfrcTjXxdPzCh0sBWLvQ/kfQ/cR80m6w/T7Wb8rDut40RNIjvXq79aj71jvSPyB/7q87jRG3yk4cruTDxKPvN1DS7TMKK2fevw2n19LLZXsn3HzcVy95hho+BeKx9uRvNqI2ojg5Pu7zdp9QcAAACUa4Jw4vex99cf9U232P8Pm/Gz92/H47cy/WICWQhSy6oaWp8OTLnI+2Lci/vRai1HJwpIKyjyh/orC7HZaiXv3suOW3uRHdCjs+JGPQqufYbS8GNv42XUC+8JAAAAptf44cRv/2M8/svk8f2D1Xj+ded/+f92LZ288UV88esxJxzkD/6tVjOO1xZ0V8LorH7Rt6pFQTXBUGn4cK0Rs9tDzsunnmx+ODpWSKsV0uPSKRtdR9UWE97TYMXIOKNgGkd2T9srsTpfVNnR/f26gQsAAABMh/HDib//r9FK/326Ejfe7TxA/3i5uEdCedqxtTGq38Ob6QQWJ3j4PwxlBkbWm2MlmkXvDavK+NFM1s+jufTY9A0AAAAuhPHDie99P76f/vvBanzxqv9B+nVVCG9PXj2QPPS/nK+esFfFONKpHSdY3jSroDh5T4iscqNbFaJCAgAAgAti/HCiciP+9F9VssqJn17tmX7Q85DemfaQ7EseoLOaigf1znY+ReHw/Wo9svqGp2mTx3T7lJs4ZpUKe7H+Kvn8vukRnX4RR/feHen9rGb9HI6/d4J7S6eOnHI/iqwB59JsVmXRO9XkiIaYAAAATKcJGmL+MH76F834m7sfxdyf5LvOtU4VRbbKxWEFxRirZRwbZ1ihkIUor79+Gupkq46olgAAAOACeue7RP462u0xG1teemkFRl79MVTa0LNnmdJUOq2jW1UyVNqDQggBAADA5VCpVIQTAAAAQHnScGKCaR0AAAAAp084AQAAAJRKOAEAAACUSjgBAAAAlEo4AQAAAJRKOAEAAACUSjgBAAAAlEo4AQAAAJRKOAEAAACUSjhRaCfWqouxdZBvZnr2HWzF4sdb0e68cUz7yWJUH+7kWz1ec15Z0vtdfHLe7goAAIDL4pKEE2mwsJb8fUbS0KFajWo+akvNiAf1w+10rL3Ijz2x9DscXa9wHAtERp/z5vcEAAAAb+5yhBMvnsdq8uf5yIfx3gf5enJ0MxrXutuDVRQDrizEZqsVrRFj+Xp+7Bupx/pu8fX3Nur5Mb3mYvnwmGasDJx/OvcEAAAAb+bihxNpVcP8aqzcXYnV+VHVE70P8oNjMxau5IeNMlBBca6qEw7242U0Y/+bfHtcX69F9bPku/zyzOpOAAAAuOQudDix8zB5qL72LG7ttmL5znK0dmfiURoaFPWDyGX9InoDhr4eEXk1xbVG8mpAGkzkn3UUaiRHzQ8EFE8bUcuufYbTTAq0f/Usu+fVL4s/tblU63zfnt9m55fJ9m9mYv0H+Q4AAAA4A1MeTrRj6+NqfzPHF2uHwcLzmwNVD93pFzefHx7TFxwk59a2b8XeYbjQiubVRtQOH9jzaRG768mrAd/sR/Pu7YEKi7n4aKMeL/d77u+D9fz6y8m7k+qdatI/sj4Xwxxsxb2l2Wi29mL9Vb2wmqO+sdf5znfyu/p6LR79MNn3/o3OdoEsyDmHDT4BAACYLlMcTqQ9ImrRuNqMzQ8r+b7E9eXDYGFoT4VxjpnUj2ai/uDRsRU+Hi81Y3am5/5ObNS0k3x0g4VeaViTVXSkYUglFj4tqOYo8u5ybL43+r4rH252wpu3XAUCAADAxTKd4URWHVGPl+n/9hc9kJ/U9eXYm3+WT7vojHo0x/uMtCpj91Y866tsqEdsl9h4Mv2d5iOafT0z0pBjL2Y2BipOTmjuTtqM82XUk+97bvprAAAAMFXe+S6Rv452+/wX6KdTCWpLEeu7RU0q02qKdKWNSawkD+8TTrFI+0t8EnH/04U4jZqIkbJeFgU9LkZJp45McG/pb3ov7vdXoBxqx9bntWj842a03h/xK2VByGo2PaT4OgAAAHBcpVKZtnCiGz6kvR/GXEEjk573PG5MFEIMDzpWhlZDpD0wkgf5p/lmkQmDg6Gy0GI/bo/9nYbd2+t+yzHDicMQ5QRhDwAAAJdWGk5M2bSOvO/C9mzWGPI0piUUyqaNPIqZvpU3uqMzJaJ4xY+0p0PROfkoaqQ5rvTh/6S9HbJza7G/VHRPnakobzIlI2uMea0Rs9vpNQUTAAAATGY6e05kDS2bMZsufzliWdCT2vkynZ5wf0g1QSUWfr4e9Vf7BatUdFYPOeo5MTAmnZ5xSrJlRO82i6s9rizE/Y360CVGXyddrrWWrQRSYm8NAAAAptoUr9bRaeyYLo152hUUczdXorl0b2Dlja52bH3SiObVmaFTM9JpH8cqFLrjtPpUZMuijlelUPnJrag/GPI7HaTLjDZj5ebAlb7disXPqlH9rBaN3yXbB/XkdbL9+dHSoWnFRP1VujSqagkAAABObuoaYp7MOeo5MXG/jNxhT4dRRvV7OGnPCQAAADg7U9gQEwAAALhIprAhJgAAAHDRCCcAAACAUgknAAAAgFIJJwAAAIBSCScAAACAUgknAAAAgFIJJwAAAIBSCScAAACAUgknAAAAgFIJJwrtxFp1MbYO8s1Mz76DrVj8eCvanTeOaT9ZjOrDnXyrx2vOK0t6v4tPzttdAQAAcFlcknAiDRbWkr/PSBo6VKtRzUdtqRnxoH64nY61F/mxJ5Z+h6PrFY5jgcjoc978ngAAAODNXY5w4sXzWE3+PB/5MN77IF9Pjm5G41p3e7CKYsCVhdhstaI1Yixfz499I/VY3y2+/t5GPT+m11wsHx7TjJWB80/nngAAAODNXPxwIq1qmF+NlbsrsTo/qnqi90F+cGzGwpX8sFEGKijOVXXCwX68jGbsf5Nvj6H91WJUP0u+RzYWY+vb/A0AAAA4RRc6nNh5mDxUX3sWt3ZbsXxnOVq7M/EoDQ2K+kHksn4RvQFDX4+IvJriWiN5NSANJvLPOgo1kqPmBwKKp42oZdc+w2kmBdq/epbd8+qXxZ/aXKp1vm/3t/l2K+79l1ux92fJ90jG3tWIxi/e7j0DAABwOUx5ONGOrY+r/c0cX6wdBgvPbw5UPXSnX9x8fnhMX3CQnFvbTh7ID8OFVjSvNqJ2GGbk0yJ215NXA77Zj+bd2wMVFnPx0UY9Xu733N8H6/n1l5N3J9U71aR/ZH0uhjnYintLs9Fs7cX6q3phNUd9Y6/zne/kd/XHyW/1Lxai0tmKynu3YyWdGvN1viORBTnnsMEnAAAA02WKw4m0R0QtGlebsflh9xE6cX35MFgY2lNhnGMm9aOZqD94dGyFj8dLzZid6bm/Exs17SQf3WChVxrWZBUdaRhSiYVPC6o5Tqjy4WYnvHnLVSAAAABcLNMZTmTVEfV4mf5vf9ED+UldX469+Wf5tIvOqEdzvM9IqzJ2b8WzvsqGesR2iY0n099pPqLZ1zMjDTn2YmZjoOLkNdpfPYrVWIkb7+Y7cnN30macL6OefN9z018DAACAqfLOd4n8dbTb579AP51KUFuKWN8talKZVlOkK21MYiV5eJ9wikXaX+KTiPufHk17ODNZL4uCHhejpFNHJri39De9F/f7K1B6fZvcwy8aEVf3YvO9IcdkQchqNj1k6HUAAABgQKVSmbZwohs+pL0fxlxBI5Oe9zxuTBRCDA86VoZWQ6Q9MGrReJpvFpkwOBgqCy324/bY32nYvb3mt8yDieaVZrTeH/FJhyHKCcIeAAAALq00nJiyaR1534Xt2awx5CTTEiaSTRt5FDN9K290R2dKRPGKH2lPh6Jz8lHUSHNc6cP/SXs7ZOfWYn+p6J46U1GKp2TsxNoYwUTWGPNaI2a302sKJgAAAJjMdPacyBpaNmM2Xf5yxLKgJ7XzZTo94f6QaoJKLPx8Peqv9gtWqeisHnLUc2JgTDo945Rky4jebRZXe1xZiPsb9YIlRpPv8nmy/wfrsTcimEiXa61lK4GU2FsDAACAqTbFq3V0GjumS2OedgXF3M2VaC7dG1h5oyt5aP+kEc2rM0OnZqTTPo5VKHTHafWpyJZFHa9KofKTW1F/MOR3OkiXGW3Gys3+K7W/uheN3yUvfteI2mfVqHbH50dLh6YVE/VX6dKoqiUAAAA4ualriHky56jnxMT9MnKHPR1GGdXv4YQ9JwAAAOAMTWFDTAAAAOAimcKGmAAAAMBFI5wAAAAASiWcAAAAAEolnAAAAABKJZwAAAAASiWcAAAAAEolnAAAAABKJZwAAAAASiWcAAAAAEolnAAAAABKJZwAAAAASiWcAAAAAEolnAAAAABKJZwAAAAASiWcAAAAAEolnAAAAABKJZwAAAAASiWcAAAAAEolnAAAAABKJZwAAAAASjWd4cTBVixWq1GtrsVOvqvfTqxl7y/G1kG+q8/r3gcAAADeFpUTAAAAQKne+S6Rv452u52/AgAAADh7lUpF5QQAAABQLuEEAAAAUCrhBAAAAFAq4QQAAABQKuEEAAAAUCrhBAAAAFAq4QQAAABQKuEEAAAAUCrhBAAAAFAq4QQAAABQKuEEAAAAUCrhBAAAAFAq4QQAAABQKuEEAAAAUCrhBAAAAFAq4QQAAABQKuEEAAAAUCrhBAAAAFAq4QQAAABQKuEEAAAAUCrhBAAAAFCqE4QTO7FWrUa1uhhbB/muATsP0/ersfikne/p136ymL1ffbiT7wEAAAAuK5UTAAAAQKne+S6Rv452u7jSAQAAAOAsVCoVlRMAAABAuYQTAAAAQKmEEwAAAECphBMAAABAqYQTAAAAQKmEEwAAAECphBMAAABAqYQTAAAAQKmEEwAAAECphBMAAABAqYQTAAAAQKmEEwAAAECphBMAAABAqU43nHixFtVq9Wg83MnfAAAAACimcgIAAAAo1emGE9eXo9VqRWt3Per5LgAAAIBRJgwnfhs7//ZnUX+vM23jxx+txONf/zZ/bzzt/7QeP5v/cc/0j8XYOsjfTPz+77bi3/zLG1FL36vdiMbDL2L/D/mbh3ZiLX3/461o53sAAACA6TRBOPH72Pvrj6L+549j5zedPfv/YTN+9v7teJxvv9Z/Xo+PFv5NPH6xn+8YcNCM5YVGrP//f9cJHdp/F1sP/s+o/z/Pk08HAAAALqLxw4nf/sd4/Jc7ER+sxvOvW9n0jb9dSydvfBFf/HrM+oU//D5ayT+Vf74c69t/G1/vp9fZjIUrnbf3fvFXsdWuReP/2+tMD/n638fyP41o//VO7HUOyc3Fcvr+pwtRyfcAAAAA02n8cOLv/2sWLMTTlbjxbj6tY7mZvTW2f9aIrY1GzP7dWjTmfxzvztTixtJm7OUzQ37/92kEsRfr/7LWmfLx7p/G2n/uvAcAAABcTOOHE9/7fnw//feD1fjiVadyojs2Pxy3fuH78U8+/DfxN1+1Yv/V89j8v2fi756sxEf/b6cu4vv/Y3qdTuXEfs/1W63lmMuOAAAAAC6a8cOJyo34039VySonfnq1Uzkx2NCy/WSxs+9aI7Kaigf1zna3ceWLtcPzZq7eiMW/3kn3xsz//D9l/9b+99sxl1dOzOTHZeNh57gjGmICAADARTFBQ8wfxk//ohl/c/ejmPuTfNcbqvwvP43F5JqP/69/0tnxTxvx+Jd/FYv//J/oJQEAAACXxDvfJfLX0W6rQwAAAADenkqlMknlBAAAAMDpE04AAAAApRJOAAAAAKUSTgAAAAClEk4AAAAApRJOAAAAAKUSTgAAAAClEk4AAAAApRJOAAAAAKUSTgAAAACluqThxE6sVRdj6yDfzPTsO9iKxY+3ot15Y0A7tj6uxtqLfLNH+8liLD4pPqtM5/W+AAAAIHUxwomRYcKbSx/uq9VqPmrReBqxOt/dTsda7OTHntiLtZ7rFY/jgUgaqBQfm46iAAUAAADOmwsRTrR/9SyaT5/F875KiEG9D/L1WI1mNK51twerKPpVPtyMVqs1YizHXH7sG/lgPfYKr78X6x/kx/SZi+XDY5qxEvVY3z06b/l6fhgAAACcY9MfTrxYi9pSxMrdiMYno6oneh/kB8dmLFzJDxuhv4IiHadQMXFaDvbjZTRj/5t8e0ztr5Lv9Fk1Fr8y7QMAAIByTHE40en9UJ2PaLY2Y/nOZrSW9qNWTR60R/RXOBYw9E0HyasprjWSV/3S82rbt/orG7Yj6gMBRXOp1rnuw7cbW2TVI8m/q18Wf+7x+0p+v8+rcS9uxUq+BwAAAMpwvsOJtJfEwJSLo3DhXsTP05CgZ0rF9eUsNLifPHJ3jhmYrpFWWQwEDM2rjagdPrDn0yJ215NX/fZ/04yVpYWo5NuZ6x/F+gcvY7/nM+obe51r3znBRI+nyb1k9z04On0uhkp+p3tLs9FMp3+8qhf2mhi8r/ZX92L/f23F5nsz2fZxnfBHI00AAADO2vkNJ9IGkdcaMbvdP+XiqP/D8KkY4xwzqZk/qcfqxsC0kRePo/F0NmZO4zPyYGXUKOwhkf1Oz+LWbhrSVGLh02bE/OubYVbe24zld/ONQp1rzaYVF2+5CgQAAIDL5VyGEzsPq1Gdf5lVMZxqU8fry7E3/6yvOqEezbGqHNLAY/DczpSSU2qGeRJpMJFPazkKYdLeGnsxs3EaVQ+da6XVGOeqvwYAAAAXyjvfJfLX0W6XXcKfTiWoRSPWY+/TgSkUqXSaR0E/iJHSFTCKrjVK+jmfRNyf9LwTyHpZLE30jbIpGpsfjn9n6Wfci/tDztmJtc/q8fJqcs33hl8zDYzqD9JpL6dXjQIAAACVSuWchRNZJcDq5IHCicKEdGnRdEnR41a2h1RsjBGOTBocDJOFFr+5PUHvijzYOdab4nWBwnjhxGGIcne8ShMAAAAYRxpOnK9pHXnfhaxJ5WAzy9OUhiDVRzGTNr8c6OvQyqdEFPZZuLIQm8eOPxp7G4NtNMeXNfo8aW+HNDSp1mJ/qeC+dm/Fs2uv70ExXKcxZi1ruJlcTzABAADAKTuXPSfm7iQPwduz2bKeJ3+oHm7ny9Wob9wfUk1QiYWfr0f91X5/88tUFgLk/SYKxqTTM05Ltozo3WZxtceVhbi/UR+6xOhoaXVJLRpXm9G3KgoAAACcovO7WkdaRbG7Hi/nT7+CYu7mSjSX7g25bju2PmlE8+rMkCkiybmD1Qk94zSmdKSyFUfGrFKo/ORW1g+isAHmQbrMaDNWbg5c6+u1qH5WTUZnakvzVa2z/ctuiJFWTNTjZboEqWoJAAAAztA5a4h5Queo58SJGnAmxmqMObLfw0l7TgAAAEB5zl9DTAAAAOBSOX8NMQEAAIBLRzgBAAAAlEo4AQAAAJRKOAEAAACUSjgBAAAAlEo4AQAAAJRKOAEAAACUSjgBAAAAlEo4AQAAAJTqkoYTO7FWXYytg3wz07PvYCsWP96KdueNAe3Y+rgaay/yzR7tJ4ux+KT4rDKd1/sCAACA1MUIJ0aGCW8ufbivVqv5qEXjacTqfHc7HWuxkx97Yi/Weq5XPI4HImmgUnxsOooCFAAAADhvLkQ40f7Vs2g+fRbP+yohBvU+yNdjNZrRuNbdHqyi6Ff5cDNardaIsRxz+bFv5IP12Cu8/l6sf5Af02culg+PacZK1GN99+i85ev5YQAAAHCOTX848WItaksRK3cjGp+Mqp7ofZAfHJuxcCU/bIT+Cop0nELFxGk52I+X0Yz9b/LtMez8MvkOn3XHOfouAAAAXCpTHE50ej9U5yOarc1YvrMZraX9qFWrI/srHAsY+qaD5NUU1xrJq37pebXtW/2VDdsR9YGAorlU61z34dt91M+qR5J/V78s/txj9/X1WtSTM1p/lnyPZDSvrEb987ObGgMAAADDnO9wIu0lMTDl4ihcuBfx8zQk6JlScX05Cw3ux738mIHpGmmVxUDA0LzaiNphkJBPi9hdT1712/9NM1aWFqKSb2eufxTrH7yM/Z7PqG/sda595wQTPZ4m95Ld9+Do9LkYKvmd7i3NRjOd/vGqXthr4th9vZv8Vu8f3ePc9eQ7/+5ZPP8235GHPxppAgAAcNbObziRNoi81ojZ7f4pF0f9H4ZPxRjnmEnN/Ek9VjcGKgtePI7G09mYOY3PyIOVUaOwh0T2Oz2LW7tpSFOJhU+bEfOn0Qyzc63ZtOLiLVeBAAAAcLmcy3Bi52E1qvMvsyqGU23qeH059uaf9VUnZFMbxqhySAOPwXM7U0pOqRnmSaTBRD6t5SiESXtr7MXMxmRVDzsvGtH8wa248cf5jkznWmk1xrnqrwEAAMCF8s53ifx1tNtll/CnUwlq0Yj12Pt0YApFKp3mUdAPYqR0BYyia42Sfs4nEfcnPe8Esl4WSxN9o2yKxuaH499Z+hn34v7wc75ei+p/Wo2V/60Vy+/m+wakgVH9QTrt5fSqUQAAAKBSqZyzcCKrBFidPFA4UZiQLi2aLil63Mr2kIqNMcKRSYODYbLQ4je3J+hdkQc7x3pTvCZQyIOJ+tXkvt8bft+HIcrd8SpNAAAAYBxpOHG+pnXkfReyJpWDzSxPUxqCVB/FTNr8cqCvQyufElHYZ+HKQmweO/5o7G0MttEcX9bo86S9HdLQpFqL/aWC+9q9Fc+uDelB8W1y3muDiU5jzFrWcDO5nmACAACAU3Yue07M3Ukegrdns2U937yx43E7XyYP5Bv3h1QTVGLh5+tRf7Xf3/wylYUAeb+JgjHp9IzTki0jerdZXO1xZSHub9QLlhjdibVfNKJ5pTkimEirS2rRuNqMvlVRAAAA4BSd39U60iqK3fV4OX/6FRRzN1eiuXRvyHXbsfVJ8tB+dWbIFJHk3MHqhJ5xGlM6UtmKI2NWKVR+civrB1HYAPMgXWa0GSs3+6+188t8SstBPaqfVY/GL7shRloxUY+X6RKkqiUAAAA4Q+esIeYJnaOeEydqwJkYqzHmyH4PJ+w5AQAAACU6fw0xAQAAgEvl/DXEBAAAAC4d4QQAAABQKuEEAAAAUCrhBAAAAFAq4QQAAABQKuEEAAAAUCrhBAAAAFAq4QQAAABQKuEEAAAAUCrhBAAAAFAq4QQAAABQKuEEAAAAUCrhBAAAAFAq4QQAAABQKuEEAAAAUCrhBAAAAFAq4QQAAABQKuEEAAAAUCrhBAAAAFAq4QQAAABQqnMZTrSfLEa1Wo3qw518z4CDrVhM36+uRfERO7GWvb8YWwf5LgAAAOBcUjkBAAAAlOqd7xL562i32/krAAAAgLNXqVRUTgAAAADlEk4AAAAApRJOAAAAAKUSTgAAAAClEk4AAAAApRJOAAAAAKUSTgAAAAClEk4AAAAApRJOAAAAAKUSTgAAAACl6gsnvve97+WvAAAAAM5WN4foCyf+6I/+KH8FAAAAcLa6OcSxcEJAAQAAAJy13gzine8S2ase//AP/5CNP/zhD/keAAAAgDeXTuUYLI4oDCcAAAAA3o6I/w4sBsqI1D4HdAAAAABJRU5ErkJggg==)"
      ]
    },
    {
      "cell_type": "code",
      "metadata": {
        "colab": {
          "base_uri": "https://localhost:8080/"
        },
        "id": "IPEzDvG6vSpo",
        "outputId": "409ee18e-b052-4e68-9351-205a9627b000"
      },
      "source": [
        "pocket = ['paper', 'cellphone']\n",
        "card = True\n",
        "if 'money' in pocket :\n",
        "  print(\"택시를 타고 가라\")\n",
        "else : \n",
        "  if card :\n",
        "    print(\"택시를 타고 가라\")\n",
        "  else :\n",
        "    pritn(\"걸어 가라\")"
      ],
      "execution_count": 25,
      "outputs": [
        {
          "output_type": "stream",
          "text": [
            "택시를 타고 가라\n"
          ],
          "name": "stdout"
        }
      ]
    },
    {
      "cell_type": "code",
      "metadata": {
        "colab": {
          "base_uri": "https://localhost:8080/"
        },
        "id": "S_vWDdNMvpp6",
        "outputId": "dd79f2c3-451a-4f99-d6e8-62f97becd379"
      },
      "source": [
        "pocket = ['paper', 'cellphone']\n",
        "card = True\n",
        "if 'money' in pocket :\n",
        "  print(\"택시를 타고 가라\")\n",
        "elif card :\n",
        "  print(\"택시를 타고 가라\")\n",
        "else :\n",
        "  print(\"걸어 가라\")"
      ],
      "execution_count": 26,
      "outputs": [
        {
          "output_type": "stream",
          "text": [
            "택시를 타고 가라\n"
          ],
          "name": "stdout"
        }
      ]
    },
    {
      "cell_type": "markdown",
      "metadata": {
        "id": "QJZdOddZHHE1"
      },
      "source": [
        "[ 점프 투 파이썬 ] if문 한 줄로 작성하기"
      ]
    },
    {
      "cell_type": "code",
      "metadata": {
        "id": "0s1ai1stwCZb"
      },
      "source": [
        "pocket = ['paper', 'money', 'cellphone']\r\n",
        "if 'money' in pocket : pass\r\n",
        "else : print(\"카드를 꺼내라\")"
      ],
      "execution_count": 27,
      "outputs": []
    },
    {
      "cell_type": "code",
      "metadata": {
        "colab": {
          "base_uri": "https://localhost:8080/"
        },
        "id": "OaMRNdLbHnaQ",
        "outputId": "97aae065-3898-4b3b-f4d3-795f5115665c"
      },
      "source": [
        "pocket = ['paper', 'money', 'cellphone']\r\n",
        "if 'money' not in pocket : pass\r\n",
        "else : print(\"카드를 꺼내라\")"
      ],
      "execution_count": 28,
      "outputs": [
        {
          "output_type": "stream",
          "text": [
            "카드를 꺼내라\n"
          ],
          "name": "stdout"
        }
      ]
    },
    {
      "cell_type": "markdown",
      "metadata": {
        "id": "CIIX67lMHxgC"
      },
      "source": [
        "(3) 조건부 표현식"
      ]
    },
    {
      "cell_type": "markdown",
      "metadata": {
        "id": "XGSV3ggGIK3Y"
      },
      "source": [
        "조건문이 참인 경우 if 조건문 else 조건문이 거짓인 경우"
      ]
    },
    {
      "cell_type": "code",
      "metadata": {
        "colab": {
          "base_uri": "https://localhost:8080/"
        },
        "id": "rX0mA1_fHwLO",
        "outputId": "730ad6ce-cba8-441a-c6a7-b3130e1edbdd"
      },
      "source": [
        "score = 80\r\n",
        "if score >= 60 :\r\n",
        "  message = \"success\"\r\n",
        "else :\r\n",
        "  message = \"failure\"\r\n",
        "\r\n",
        "print(\"message\")"
      ],
      "execution_count": 29,
      "outputs": [
        {
          "output_type": "stream",
          "text": [
            "message\n"
          ],
          "name": "stdout"
        }
      ]
    },
    {
      "cell_type": "code",
      "metadata": {
        "id": "nuamJOZ3H6_v"
      },
      "source": [
        "message = \"success\" if score >= 60 else \"failure\""
      ],
      "execution_count": 30,
      "outputs": []
    }
  ]
}