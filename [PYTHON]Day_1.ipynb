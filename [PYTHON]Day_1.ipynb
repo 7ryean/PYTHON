{
  "nbformat": 4,
  "nbformat_minor": 0,
  "metadata": {
    "colab": {
      "name": "[PYTHON] Day 1.ipynb",
      "provenance": [],
      "collapsed_sections": [],
      "authorship_tag": "ABX9TyPznhjfv/ygGK0TpXXmtTfE",
      "include_colab_link": true
    },
    "kernelspec": {
      "name": "python3",
      "display_name": "Python 3"
    }
  },
  "cells": [
    {
      "cell_type": "markdown",
      "metadata": {
        "id": "view-in-github",
        "colab_type": "text"
      },
      "source": [
        "<a href=\"https://colab.research.google.com/github/7ryean/PYTHON/blob/main/%5BPYTHON%5DDay_1.ipynb\" target=\"_parent\"><img src=\"https://colab.research.google.com/assets/colab-badge.svg\" alt=\"Open In Colab\"/></a>"
      ]
    },
    {
      "cell_type": "markdown",
      "metadata": {
        "id": "ZX9X4Dio4rx9"
      },
      "source": [
        "# **파이썬 프로그래밍의 기초, 자료형**"
      ]
    },
    {
      "cell_type": "markdown",
      "metadata": {
        "id": "TVC1s2LX41sx"
      },
      "source": [
        "**자료형 : 프로그래밍을 할 때 쓰이는 숫자, 문자열 등 자료 형태로 사용하는 모든 것**"
      ]
    },
    {
      "cell_type": "markdown",
      "metadata": {
        "id": "RfG-C35k5b00"
      },
      "source": [
        "# 01. 숫자형\r\n",
        "숫자형(Number) : 숫자 형태로 이루어진 자료형"
      ]
    },
    {
      "cell_type": "markdown",
      "metadata": {
        "id": "1hEjUV_Y596Y"
      },
      "source": [
        "(1) 정수형(Integer) : 정수를 뜻하는 자료형"
      ]
    },
    {
      "cell_type": "code",
      "metadata": {
        "id": "O68HkrvK4i4v"
      },
      "source": [
        "a = 123"
      ],
      "execution_count": null,
      "outputs": []
    },
    {
      "cell_type": "code",
      "metadata": {
        "colab": {
          "base_uri": "https://localhost:8080/"
        },
        "id": "KY5n2roR6K_G",
        "outputId": "557a15b7-c08c-4432-e2f1-a3658ca90095"
      },
      "source": [
        "a"
      ],
      "execution_count": null,
      "outputs": [
        {
          "output_type": "execute_result",
          "data": {
            "text/plain": [
              "123"
            ]
          },
          "metadata": {
            "tags": []
          },
          "execution_count": 2
        }
      ]
    },
    {
      "cell_type": "markdown",
      "metadata": {
        "id": "AM7aGrRk6QBF"
      },
      "source": [
        "(2) 실수형(Floating-point) : 소수점이 포함된 숫자"
      ]
    },
    {
      "cell_type": "code",
      "metadata": {
        "id": "F566kp696Wc2"
      },
      "source": [
        "b = 1.2"
      ],
      "execution_count": null,
      "outputs": []
    },
    {
      "cell_type": "code",
      "metadata": {
        "colab": {
          "base_uri": "https://localhost:8080/"
        },
        "id": "lGJXzfDH6Yt0",
        "outputId": "07ea2c57-27c1-41f2-ead7-475b55774d89"
      },
      "source": [
        "b"
      ],
      "execution_count": null,
      "outputs": [
        {
          "output_type": "execute_result",
          "data": {
            "text/plain": [
              "1.2"
            ]
          },
          "metadata": {
            "tags": []
          },
          "execution_count": 4
        }
      ]
    },
    {
      "cell_type": "markdown",
      "metadata": {
        "id": "IDDoJdvH65bh"
      },
      "source": [
        "컴퓨터형 지수 표현 방식 : 4.24E10은 4.24*10의10제곱, 4.24E-10은 4.24*-10의 10제곱을 의미"
      ]
    },
    {
      "cell_type": "markdown",
      "metadata": {
        "id": "mGwzXkRa7IOU"
      },
      "source": [
        "- 사칙연산"
      ]
    },
    {
      "cell_type": "code",
      "metadata": {
        "colab": {
          "base_uri": "https://localhost:8080/"
        },
        "id": "QdqkOn3i635Q",
        "outputId": "618bec4c-6955-47dd-b3d9-6706b86c234f"
      },
      "source": [
        "a + b"
      ],
      "execution_count": null,
      "outputs": [
        {
          "output_type": "execute_result",
          "data": {
            "text/plain": [
              "124.2"
            ]
          },
          "metadata": {
            "tags": []
          },
          "execution_count": 5
        }
      ]
    },
    {
      "cell_type": "code",
      "metadata": {
        "colab": {
          "base_uri": "https://localhost:8080/"
        },
        "id": "NHNonjYB7Dzc",
        "outputId": "d5d5f48a-4abe-4dd7-ad26-7b029c2d8293"
      },
      "source": [
        "a * b"
      ],
      "execution_count": null,
      "outputs": [
        {
          "output_type": "execute_result",
          "data": {
            "text/plain": [
              "147.6"
            ]
          },
          "metadata": {
            "tags": []
          },
          "execution_count": 6
        }
      ]
    },
    {
      "cell_type": "code",
      "metadata": {
        "colab": {
          "base_uri": "https://localhost:8080/"
        },
        "id": "B0cmvjK87Njs",
        "outputId": "212ae06b-9762-4c6d-90e5-1072bb8419a9"
      },
      "source": [
        "a / b"
      ],
      "execution_count": null,
      "outputs": [
        {
          "output_type": "execute_result",
          "data": {
            "text/plain": [
              "102.5"
            ]
          },
          "metadata": {
            "tags": []
          },
          "execution_count": 7
        }
      ]
    },
    {
      "cell_type": "markdown",
      "metadata": {
        "id": "uP2pa-zZ7Qmg"
      },
      "source": [
        "- 제곱 연산자 : **"
      ]
    },
    {
      "cell_type": "code",
      "metadata": {
        "colab": {
          "base_uri": "https://localhost:8080/"
        },
        "id": "cqRiJ-Dq7Ou2",
        "outputId": "5316b07b-282a-461b-f608-59d92403fe7e"
      },
      "source": [
        "a = 3\r\n",
        "b = 4\r\n",
        "a ** b"
      ],
      "execution_count": null,
      "outputs": [
        {
          "output_type": "execute_result",
          "data": {
            "text/plain": [
              "81"
            ]
          },
          "metadata": {
            "tags": []
          },
          "execution_count": 8
        }
      ]
    },
    {
      "cell_type": "markdown",
      "metadata": {
        "id": "FYEoH43e7cpq"
      },
      "source": [
        "- 나머지 반환 연산자 : %"
      ]
    },
    {
      "cell_type": "code",
      "metadata": {
        "colab": {
          "base_uri": "https://localhost:8080/"
        },
        "id": "Cz20l_4v7ZOU",
        "outputId": "30f8d220-3f21-4480-e8b0-7852cbe6c5d3"
      },
      "source": [
        "7 % 3"
      ],
      "execution_count": null,
      "outputs": [
        {
          "output_type": "execute_result",
          "data": {
            "text/plain": [
              "1"
            ]
          },
          "metadata": {
            "tags": []
          },
          "execution_count": 9
        }
      ]
    },
    {
      "cell_type": "code",
      "metadata": {
        "colab": {
          "base_uri": "https://localhost:8080/"
        },
        "id": "TcvInqVl7hqT",
        "outputId": "be16b109-8bff-40d3-fdfc-82cdc7013f23"
      },
      "source": [
        "3 % 7"
      ],
      "execution_count": null,
      "outputs": [
        {
          "output_type": "execute_result",
          "data": {
            "text/plain": [
              "3"
            ]
          },
          "metadata": {
            "tags": []
          },
          "execution_count": 10
        }
      ]
    },
    {
      "cell_type": "markdown",
      "metadata": {
        "id": "UDIdf9567lai"
      },
      "source": [
        "- 몫 반환 연산자 : //"
      ]
    },
    {
      "cell_type": "code",
      "metadata": {
        "colab": {
          "base_uri": "https://localhost:8080/"
        },
        "id": "C6aM2S8I7jCm",
        "outputId": "53f10c23-318c-4168-cc56-1cd3bfbfc073"
      },
      "source": [
        "7 // 4"
      ],
      "execution_count": null,
      "outputs": [
        {
          "output_type": "execute_result",
          "data": {
            "text/plain": [
              "1"
            ]
          },
          "metadata": {
            "tags": []
          },
          "execution_count": 11
        }
      ]
    },
    {
      "cell_type": "markdown",
      "metadata": {
        "id": "2YPP5a5p7w5G"
      },
      "source": [
        "[ 연습문제 ] : 14를 3으로 나누었을 때 몫과 나머지"
      ]
    },
    {
      "cell_type": "code",
      "metadata": {
        "colab": {
          "base_uri": "https://localhost:8080/"
        },
        "id": "j0PVj3L17pzW",
        "outputId": "0cf58761-ceb2-46df-fd66-88285e401e07"
      },
      "source": [
        "14 // 3"
      ],
      "execution_count": null,
      "outputs": [
        {
          "output_type": "execute_result",
          "data": {
            "text/plain": [
              "4"
            ]
          },
          "metadata": {
            "tags": []
          },
          "execution_count": 12
        }
      ]
    },
    {
      "cell_type": "code",
      "metadata": {
        "colab": {
          "base_uri": "https://localhost:8080/"
        },
        "id": "IEawWJfi7tkK",
        "outputId": "20343caa-0b74-441d-d07b-616d70ab4b1c"
      },
      "source": [
        "14 % 3"
      ],
      "execution_count": null,
      "outputs": [
        {
          "output_type": "execute_result",
          "data": {
            "text/plain": [
              "2"
            ]
          },
          "metadata": {
            "tags": []
          },
          "execution_count": 13
        }
      ]
    },
    {
      "cell_type": "code",
      "metadata": {
        "id": "WKwRhqcS7vth"
      },
      "source": [
        ""
      ],
      "execution_count": null,
      "outputs": []
    },
    {
      "cell_type": "markdown",
      "metadata": {
        "id": "XpGsoYBs74FH"
      },
      "source": [
        "# 02. 문자열\r\n",
        "문자열(String) : 문자, 단어 등으로 구성된 문자들의 집합"
      ]
    },
    {
      "cell_type": "markdown",
      "metadata": {
        "id": "MFaNDwrn8PSR"
      },
      "source": [
        "(1) 문자열 만들기"
      ]
    },
    {
      "cell_type": "code",
      "metadata": {
        "colab": {
          "base_uri": "https://localhost:8080/",
          "height": 35
        },
        "id": "1VN_gaZR8Esy",
        "outputId": "4f83af5f-69e7-4435-f702-1ee2bcb54106"
      },
      "source": [
        "\"Hello World\""
      ],
      "execution_count": 52,
      "outputs": [
        {
          "output_type": "execute_result",
          "data": {
            "application/vnd.google.colaboratory.intrinsic+json": {
              "type": "string"
            },
            "text/plain": [
              "'Hello World'"
            ]
          },
          "metadata": {
            "tags": []
          },
          "execution_count": 52
        }
      ]
    },
    {
      "cell_type": "code",
      "metadata": {
        "colab": {
          "base_uri": "https://localhost:8080/",
          "height": 35
        },
        "id": "7eDC4aYz8Ss4",
        "outputId": "b998c652-b0fd-4fb0-8771-c96a88bd1e74"
      },
      "source": [
        "'Python is fun'"
      ],
      "execution_count": 53,
      "outputs": [
        {
          "output_type": "execute_result",
          "data": {
            "application/vnd.google.colaboratory.intrinsic+json": {
              "type": "string"
            },
            "text/plain": [
              "'Python is fun'"
            ]
          },
          "metadata": {
            "tags": []
          },
          "execution_count": 53
        }
      ]
    },
    {
      "cell_type": "code",
      "metadata": {
        "colab": {
          "base_uri": "https://localhost:8080/",
          "height": 35
        },
        "id": "km6DE_Jq8U2H",
        "outputId": "3a1905a4-2fe6-4740-b5ee-82d133586cc0"
      },
      "source": [
        "\"\"\"Life is too short, You need python\"\"\""
      ],
      "execution_count": 54,
      "outputs": [
        {
          "output_type": "execute_result",
          "data": {
            "application/vnd.google.colaboratory.intrinsic+json": {
              "type": "string"
            },
            "text/plain": [
              "'Life is too short, You need python'"
            ]
          },
          "metadata": {
            "tags": []
          },
          "execution_count": 54
        }
      ]
    },
    {
      "cell_type": "code",
      "metadata": {
        "colab": {
          "base_uri": "https://localhost:8080/",
          "height": 35
        },
        "id": "5tZYfTRo8Yyu",
        "outputId": "b75a8bf8-fbe7-4a8a-e821-a64afcb1ee59"
      },
      "source": [
        "'''Life is too short, You need python'''"
      ],
      "execution_count": 55,
      "outputs": [
        {
          "output_type": "execute_result",
          "data": {
            "application/vnd.google.colaboratory.intrinsic+json": {
              "type": "string"
            },
            "text/plain": [
              "'Life is too short, You need python'"
            ]
          },
          "metadata": {
            "tags": []
          },
          "execution_count": 55
        }
      ]
    },
    {
      "cell_type": "markdown",
      "metadata": {
        "id": "7f7oVU2S8fWF"
      },
      "source": [
        "- 문자열 안에 작은 따옴표나 큰따옴표를 포함시키고 싶을 때"
      ]
    },
    {
      "cell_type": "code",
      "metadata": {
        "id": "Gx6d5umy8dES"
      },
      "source": [
        "food = \"Python's favorite food is perl\""
      ],
      "execution_count": 56,
      "outputs": []
    },
    {
      "cell_type": "code",
      "metadata": {
        "colab": {
          "base_uri": "https://localhost:8080/",
          "height": 35
        },
        "id": "2GLXnKs48sRL",
        "outputId": "4dd5b143-2f33-44ce-bdcf-ea22fffb89d7"
      },
      "source": [
        "food"
      ],
      "execution_count": 57,
      "outputs": [
        {
          "output_type": "execute_result",
          "data": {
            "application/vnd.google.colaboratory.intrinsic+json": {
              "type": "string"
            },
            "text/plain": [
              "\"Python's favorite food is perl\""
            ]
          },
          "metadata": {
            "tags": []
          },
          "execution_count": 57
        }
      ]
    },
    {
      "cell_type": "code",
      "metadata": {
        "colab": {
          "base_uri": "https://localhost:8080/",
          "height": 135
        },
        "id": "I0TSCe-C8tBz",
        "outputId": "c3f8430e-fe5e-46ee-f37f-9216f9020f48"
      },
      "source": [
        "# 잘못된 경우\r\n",
        "food = 'Python's favorite food is perl'\r\n",
        "food"
      ],
      "execution_count": 58,
      "outputs": [
        {
          "output_type": "error",
          "ename": "SyntaxError",
          "evalue": "ignored",
          "traceback": [
            "\u001b[0;36m  File \u001b[0;32m\"<ipython-input-58-ea088a179420>\"\u001b[0;36m, line \u001b[0;32m2\u001b[0m\n\u001b[0;31m    food = 'Python's favorite food is perl'\u001b[0m\n\u001b[0m                   ^\u001b[0m\n\u001b[0;31mSyntaxError\u001b[0m\u001b[0;31m:\u001b[0m invalid syntax\n"
          ]
        }
      ]
    },
    {
      "cell_type": "code",
      "metadata": {
        "colab": {
          "base_uri": "https://localhost:8080/",
          "height": 35
        },
        "id": "DArkdmbp80Fe",
        "outputId": "f0caad2c-c9d3-4ba2-f5d9-ce147f764153"
      },
      "source": [
        "say = '\"Python is very easy.\" he says.'\r\n",
        "say"
      ],
      "execution_count": 59,
      "outputs": [
        {
          "output_type": "execute_result",
          "data": {
            "application/vnd.google.colaboratory.intrinsic+json": {
              "type": "string"
            },
            "text/plain": [
              "'\"Python is very easy.\" he says.'"
            ]
          },
          "metadata": {
            "tags": []
          },
          "execution_count": 59
        }
      ]
    },
    {
      "cell_type": "code",
      "metadata": {
        "colab": {
          "base_uri": "https://localhost:8080/",
          "height": 35
        },
        "id": "hzLYtlDy9Bqv",
        "outputId": "63d4583c-e3cb-411f-c4e9-800a37474b45"
      },
      "source": [
        "food = 'Python\\'s favorite food is perl'\r\n",
        "food"
      ],
      "execution_count": 60,
      "outputs": [
        {
          "output_type": "execute_result",
          "data": {
            "application/vnd.google.colaboratory.intrinsic+json": {
              "type": "string"
            },
            "text/plain": [
              "\"Python's favorite food is perl\""
            ]
          },
          "metadata": {
            "tags": []
          },
          "execution_count": 60
        }
      ]
    },
    {
      "cell_type": "code",
      "metadata": {
        "colab": {
          "base_uri": "https://localhost:8080/",
          "height": 35
        },
        "id": "n7Fv-bWG9Lm-",
        "outputId": "08b3861d-2799-478f-f9ce-2bc8dd605b79"
      },
      "source": [
        "say = \"\\\"Python is very easy.\\\" he says.\"\r\n",
        "say"
      ],
      "execution_count": 61,
      "outputs": [
        {
          "output_type": "execute_result",
          "data": {
            "application/vnd.google.colaboratory.intrinsic+json": {
              "type": "string"
            },
            "text/plain": [
              "'\"Python is very easy.\" he says.'"
            ]
          },
          "metadata": {
            "tags": []
          },
          "execution_count": 61
        }
      ]
    },
    {
      "cell_type": "markdown",
      "metadata": {
        "id": "MJ9Qh72p9Y_R"
      },
      "source": [
        "- 여러 줄인 문자열을 변수에 대입하고 싶을 때"
      ]
    },
    {
      "cell_type": "code",
      "metadata": {
        "colab": {
          "base_uri": "https://localhost:8080/",
          "height": 35
        },
        "id": "4dUfpVBI9WRx",
        "outputId": "6cddcdce-5f29-45d4-d489-f45819b38fdd"
      },
      "source": [
        "multiline = \"Life is too short\\nYou need python\"\r\n",
        "multiline"
      ],
      "execution_count": 62,
      "outputs": [
        {
          "output_type": "execute_result",
          "data": {
            "application/vnd.google.colaboratory.intrinsic+json": {
              "type": "string"
            },
            "text/plain": [
              "'Life is too short\\nYou need python'"
            ]
          },
          "metadata": {
            "tags": []
          },
          "execution_count": 62
        }
      ]
    },
    {
      "cell_type": "code",
      "metadata": {
        "colab": {
          "base_uri": "https://localhost:8080/"
        },
        "id": "a9MJ6C8m-ofd",
        "outputId": "71d198d9-d95d-4b41-bc3e-69705b349e0d"
      },
      "source": [
        "print(multiline)"
      ],
      "execution_count": 63,
      "outputs": [
        {
          "output_type": "stream",
          "text": [
            "Life is too short\n",
            "You need python\n"
          ],
          "name": "stdout"
        }
      ]
    },
    {
      "cell_type": "code",
      "metadata": {
        "id": "PBcbhHz_97T9"
      },
      "source": [
        "multiline = '''Life is too short\r\n",
        "You need python'''"
      ],
      "execution_count": 64,
      "outputs": []
    },
    {
      "cell_type": "code",
      "metadata": {
        "colab": {
          "base_uri": "https://localhost:8080/"
        },
        "id": "-KO9SADX_oUv",
        "outputId": "fa415736-1237-4da1-c81e-e4bc8a83b826"
      },
      "source": [
        "print(multiline)"
      ],
      "execution_count": 65,
      "outputs": [
        {
          "output_type": "stream",
          "text": [
            "Life is too short\n",
            "You need python\n"
          ],
          "name": "stdout"
        }
      ]
    },
    {
      "cell_type": "markdown",
      "metadata": {
        "id": "yyH2g_MrAMqZ"
      },
      "source": [
        "(2) 문자열 연산하기"
      ]
    },
    {
      "cell_type": "markdown",
      "metadata": {
        "id": "sA5CnC_DASf8"
      },
      "source": [
        "- 문자열 더해서 연결하기"
      ]
    },
    {
      "cell_type": "code",
      "metadata": {
        "colab": {
          "base_uri": "https://localhost:8080/",
          "height": 35
        },
        "id": "5K9oHyVM_p1f",
        "outputId": "c58a617b-ca89-4079-ff9d-c9033de8e9c2"
      },
      "source": [
        "head = \"Python\"\r\n",
        "tail = \" is fun!\"\r\n",
        "head + tail"
      ],
      "execution_count": 66,
      "outputs": [
        {
          "output_type": "execute_result",
          "data": {
            "application/vnd.google.colaboratory.intrinsic+json": {
              "type": "string"
            },
            "text/plain": [
              "'Python is fun!'"
            ]
          },
          "metadata": {
            "tags": []
          },
          "execution_count": 66
        }
      ]
    },
    {
      "cell_type": "markdown",
      "metadata": {
        "id": "BKuwrqzRAdFx"
      },
      "source": [
        "- 문자열 곱하기"
      ]
    },
    {
      "cell_type": "code",
      "metadata": {
        "colab": {
          "base_uri": "https://localhost:8080/",
          "height": 35
        },
        "id": "JAYbY1zNAbcD",
        "outputId": "d489e50d-f553-441e-8eb0-d1f45da988a2"
      },
      "source": [
        "a = \"Python\"\r\n",
        "a * 2"
      ],
      "execution_count": 67,
      "outputs": [
        {
          "output_type": "execute_result",
          "data": {
            "application/vnd.google.colaboratory.intrinsic+json": {
              "type": "string"
            },
            "text/plain": [
              "'PythonPython'"
            ]
          },
          "metadata": {
            "tags": []
          },
          "execution_count": 67
        }
      ]
    },
    {
      "cell_type": "markdown",
      "metadata": {
        "id": "gEgdC2G_AnM3"
      },
      "source": [
        "- 문자열 길이 구하기"
      ]
    },
    {
      "cell_type": "code",
      "metadata": {
        "id": "9-IMXimWAjmF",
        "colab": {
          "base_uri": "https://localhost:8080/"
        },
        "outputId": "2a6305ef-54f8-49c4-995d-707b136573be"
      },
      "source": [
        "a = \"Life is too short\"\r\n",
        "len(a)"
      ],
      "execution_count": 68,
      "outputs": [
        {
          "output_type": "execute_result",
          "data": {
            "text/plain": [
              "17"
            ]
          },
          "metadata": {
            "tags": []
          },
          "execution_count": 68
        }
      ]
    },
    {
      "cell_type": "markdown",
      "metadata": {
        "id": "2Pgndki2BpiR"
      },
      "source": [
        "[ 연습 문제 ] : 'You need python' 문장을 문자열로 만들고 길이 구하기"
      ]
    },
    {
      "cell_type": "code",
      "metadata": {
        "colab": {
          "base_uri": "https://localhost:8080/"
        },
        "id": "A8S81sxgBi5w",
        "outputId": "236393a1-54c1-48d6-ea85-bcbae0494c3d"
      },
      "source": [
        "me = 'You need python'\r\n",
        "len(me)"
      ],
      "execution_count": 69,
      "outputs": [
        {
          "output_type": "execute_result",
          "data": {
            "text/plain": [
              "15"
            ]
          },
          "metadata": {
            "tags": []
          },
          "execution_count": 69
        }
      ]
    },
    {
      "cell_type": "markdown",
      "metadata": {
        "id": "krcTb-N5B336"
      },
      "source": [
        "(3) 문자열 인덱싱 : 무엇인가를 '가리킨다' / 문자열 슬라이싱 : 무엇인가를 '잘라낸다'"
      ]
    },
    {
      "cell_type": "code",
      "metadata": {
        "colab": {
          "base_uri": "https://localhost:8080/",
          "height": 35
        },
        "id": "8L-C4OIxB1av",
        "outputId": "31781d62-e664-47db-e39e-482358ea1a4e"
      },
      "source": [
        "a = \"Life is too short. You need python\"\r\n",
        "a[3]"
      ],
      "execution_count": 70,
      "outputs": [
        {
          "output_type": "execute_result",
          "data": {
            "application/vnd.google.colaboratory.intrinsic+json": {
              "type": "string"
            },
            "text/plain": [
              "'e'"
            ]
          },
          "metadata": {
            "tags": []
          },
          "execution_count": 70
        }
      ]
    },
    {
      "cell_type": "code",
      "metadata": {
        "colab": {
          "base_uri": "https://localhost:8080/",
          "height": 35
        },
        "id": "H87O6-T8CXAa",
        "outputId": "aec1c23e-2afa-4054-d00d-02946de4fa46"
      },
      "source": [
        "a[0]"
      ],
      "execution_count": 72,
      "outputs": [
        {
          "output_type": "execute_result",
          "data": {
            "application/vnd.google.colaboratory.intrinsic+json": {
              "type": "string"
            },
            "text/plain": [
              "'L'"
            ]
          },
          "metadata": {
            "tags": []
          },
          "execution_count": 72
        }
      ]
    },
    {
      "cell_type": "code",
      "metadata": {
        "colab": {
          "base_uri": "https://localhost:8080/",
          "height": 35
        },
        "id": "vqTGXjtmCdYa",
        "outputId": "e8e19a48-b80f-4c95-a5f8-6c5688276d31"
      },
      "source": [
        "a[12]"
      ],
      "execution_count": 73,
      "outputs": [
        {
          "output_type": "execute_result",
          "data": {
            "application/vnd.google.colaboratory.intrinsic+json": {
              "type": "string"
            },
            "text/plain": [
              "'s'"
            ]
          },
          "metadata": {
            "tags": []
          },
          "execution_count": 73
        }
      ]
    },
    {
      "cell_type": "code",
      "metadata": {
        "colab": {
          "base_uri": "https://localhost:8080/",
          "height": 35
        },
        "id": "dgVrX9C7Cg2J",
        "outputId": "1e03c677-0c07-42da-8a2b-7b53a479ab64"
      },
      "source": [
        "a[-1]   # -1은 뒤에서부터 세어 첫 번째가 되는 문자"
      ],
      "execution_count": 74,
      "outputs": [
        {
          "output_type": "execute_result",
          "data": {
            "application/vnd.google.colaboratory.intrinsic+json": {
              "type": "string"
            },
            "text/plain": [
              "'n'"
            ]
          },
          "metadata": {
            "tags": []
          },
          "execution_count": 74
        }
      ]
    },
    {
      "cell_type": "code",
      "metadata": {
        "id": "yFp4JmRWCh3W"
      },
      "source": [
        "b = a[0] + a[1] + a[2] + a[3]"
      ],
      "execution_count": 75,
      "outputs": []
    },
    {
      "cell_type": "code",
      "metadata": {
        "colab": {
          "base_uri": "https://localhost:8080/",
          "height": 35
        },
        "id": "Hl54dl-dCwj5",
        "outputId": "96103e4c-8287-4690-c01b-7929ec92f86b"
      },
      "source": [
        "b"
      ],
      "execution_count": 76,
      "outputs": [
        {
          "output_type": "execute_result",
          "data": {
            "application/vnd.google.colaboratory.intrinsic+json": {
              "type": "string"
            },
            "text/plain": [
              "'Life'"
            ]
          },
          "metadata": {
            "tags": []
          },
          "execution_count": 76
        }
      ]
    },
    {
      "cell_type": "code",
      "metadata": {
        "colab": {
          "base_uri": "https://localhost:8080/",
          "height": 35
        },
        "id": "6VaTwgxlCxTD",
        "outputId": "0c63c471-a8a2-4e2e-e84c-38aca1bcdd45"
      },
      "source": [
        "a[0:3]"
      ],
      "execution_count": 77,
      "outputs": [
        {
          "output_type": "execute_result",
          "data": {
            "application/vnd.google.colaboratory.intrinsic+json": {
              "type": "string"
            },
            "text/plain": [
              "'Lif'"
            ]
          },
          "metadata": {
            "tags": []
          },
          "execution_count": 77
        }
      ]
    },
    {
      "cell_type": "code",
      "metadata": {
        "id": "w0S96P7bC0GV"
      },
      "source": [
        "# a[시작번호:끝번호]를 지정할 때 끝 번호에 해당하는 것은 포함되지 않음. 시작번호 이상, 끝번호 미만"
      ],
      "execution_count": null,
      "outputs": []
    },
    {
      "cell_type": "code",
      "metadata": {
        "id": "QZKP3Z2v93MT",
        "colab": {
          "base_uri": "https://localhost:8080/",
          "height": 35
        },
        "outputId": "2088c6ef-7711-4405-c4e3-3845bbe8be8e"
      },
      "source": [
        "a[19:]   # 끝 번호 부분을 생략하면 시작번호부터 문자열 끝까지 뽑아냄"
      ],
      "execution_count": 78,
      "outputs": [
        {
          "output_type": "execute_result",
          "data": {
            "application/vnd.google.colaboratory.intrinsic+json": {
              "type": "string"
            },
            "text/plain": [
              "'You need python'"
            ]
          },
          "metadata": {
            "tags": []
          },
          "execution_count": 78
        }
      ]
    },
    {
      "cell_type": "code",
      "metadata": {
        "colab": {
          "base_uri": "https://localhost:8080/",
          "height": 35
        },
        "id": "QxcZCyTFDDd3",
        "outputId": "e5ec46dc-320e-44b2-82db-7f028539c066"
      },
      "source": [
        "a[:17]   # 시작 번호 부분을 생략하면 문자열의 처음부터 끝 번호까지 뽐아냄"
      ],
      "execution_count": 79,
      "outputs": [
        {
          "output_type": "execute_result",
          "data": {
            "application/vnd.google.colaboratory.intrinsic+json": {
              "type": "string"
            },
            "text/plain": [
              "'Life is too short'"
            ]
          },
          "metadata": {
            "tags": []
          },
          "execution_count": 79
        }
      ]
    },
    {
      "cell_type": "code",
      "metadata": {
        "colab": {
          "base_uri": "https://localhost:8080/",
          "height": 35
        },
        "id": "u_YXck50DOAB",
        "outputId": "c1f735c3-a47a-46f4-a0f3-470d97bb992a"
      },
      "source": [
        "a[19:-7]"
      ],
      "execution_count": 80,
      "outputs": [
        {
          "output_type": "execute_result",
          "data": {
            "application/vnd.google.colaboratory.intrinsic+json": {
              "type": "string"
            },
            "text/plain": [
              "'You need'"
            ]
          },
          "metadata": {
            "tags": []
          },
          "execution_count": 80
        }
      ]
    },
    {
      "cell_type": "code",
      "metadata": {
        "id": "Gwo28hU2DR68"
      },
      "source": [
        "a = \"20010331Rainy\""
      ],
      "execution_count": 81,
      "outputs": []
    },
    {
      "cell_type": "code",
      "metadata": {
        "id": "JY16wj-iDbXJ"
      },
      "source": [
        "year = a[:4]"
      ],
      "execution_count": 82,
      "outputs": []
    },
    {
      "cell_type": "code",
      "metadata": {
        "id": "2KOPswQhDdFq"
      },
      "source": [
        "day = a[4:8]"
      ],
      "execution_count": 83,
      "outputs": []
    },
    {
      "cell_type": "code",
      "metadata": {
        "id": "28Yvb0iGDehh"
      },
      "source": [
        "weather = a[8:]"
      ],
      "execution_count": 84,
      "outputs": []
    },
    {
      "cell_type": "code",
      "metadata": {
        "colab": {
          "base_uri": "https://localhost:8080/",
          "height": 35
        },
        "id": "8L-bg4jXDg3y",
        "outputId": "ef40a1cb-074c-4e75-d9cd-fa61b2b63b8f"
      },
      "source": [
        "year"
      ],
      "execution_count": 85,
      "outputs": [
        {
          "output_type": "execute_result",
          "data": {
            "application/vnd.google.colaboratory.intrinsic+json": {
              "type": "string"
            },
            "text/plain": [
              "'2001'"
            ]
          },
          "metadata": {
            "tags": []
          },
          "execution_count": 85
        }
      ]
    },
    {
      "cell_type": "code",
      "metadata": {
        "colab": {
          "base_uri": "https://localhost:8080/",
          "height": 35
        },
        "id": "5LYl-ITLDh7y",
        "outputId": "bd8c5152-094d-4a67-f60c-f20b953d116f"
      },
      "source": [
        "day"
      ],
      "execution_count": 86,
      "outputs": [
        {
          "output_type": "execute_result",
          "data": {
            "application/vnd.google.colaboratory.intrinsic+json": {
              "type": "string"
            },
            "text/plain": [
              "'0331'"
            ]
          },
          "metadata": {
            "tags": []
          },
          "execution_count": 86
        }
      ]
    },
    {
      "cell_type": "code",
      "metadata": {
        "colab": {
          "base_uri": "https://localhost:8080/",
          "height": 35
        },
        "id": "vPdaFhegDi0t",
        "outputId": "446cec4f-10eb-4505-8b54-16f011e9873c"
      },
      "source": [
        "weather"
      ],
      "execution_count": 87,
      "outputs": [
        {
          "output_type": "execute_result",
          "data": {
            "application/vnd.google.colaboratory.intrinsic+json": {
              "type": "string"
            },
            "text/plain": [
              "'Rainy'"
            ]
          },
          "metadata": {
            "tags": []
          },
          "execution_count": 87
        }
      ]
    },
    {
      "cell_type": "markdown",
      "metadata": {
        "id": "q8zuw4JvDtGf"
      },
      "source": [
        "(4) 문자열 포매팅 : 문자열 안의 특정한 값을 바꿔야 할 경우 어떤 값을 삽입하는 방법"
      ]
    },
    {
      "cell_type": "markdown",
      "metadata": {
        "id": "7w9bSID-FM3P"
      },
      "source": [
        "- 숫자 바로 대입"
      ]
    },
    {
      "cell_type": "code",
      "metadata": {
        "colab": {
          "base_uri": "https://localhost:8080/",
          "height": 35
        },
        "id": "IWNvjbubFU_n",
        "outputId": "c5048af9-45a1-4d6a-c8ee-eba72e001515"
      },
      "source": [
        "\"I eat %d apples.\" %3"
      ],
      "execution_count": 88,
      "outputs": [
        {
          "output_type": "execute_result",
          "data": {
            "application/vnd.google.colaboratory.intrinsic+json": {
              "type": "string"
            },
            "text/plain": [
              "'I eat 3 apples.'"
            ]
          },
          "metadata": {
            "tags": []
          },
          "execution_count": 88
        }
      ]
    },
    {
      "cell_type": "markdown",
      "metadata": {
        "id": "70Bq4vlMFO96"
      },
      "source": [
        "- 문자열 바로 대입"
      ]
    },
    {
      "cell_type": "code",
      "metadata": {
        "colab": {
          "base_uri": "https://localhost:8080/",
          "height": 35
        },
        "id": "Z4ez4_KyFbL4",
        "outputId": "8a9bbddb-f4f0-4871-9a25-621c13abc3c7"
      },
      "source": [
        "\"I eat %s apples.\" % \"five\""
      ],
      "execution_count": 91,
      "outputs": [
        {
          "output_type": "execute_result",
          "data": {
            "application/vnd.google.colaboratory.intrinsic+json": {
              "type": "string"
            },
            "text/plain": [
              "'I eat five apples.'"
            ]
          },
          "metadata": {
            "tags": []
          },
          "execution_count": 91
        }
      ]
    },
    {
      "cell_type": "markdown",
      "metadata": {
        "id": "GwYC80IkFQJj"
      },
      "source": [
        "- 숫자 값을 나타내는 변수로 대입"
      ]
    },
    {
      "cell_type": "code",
      "metadata": {
        "colab": {
          "base_uri": "https://localhost:8080/",
          "height": 35
        },
        "id": "JVzSRoObFlqi",
        "outputId": "a1fcfc92-4dfd-4b69-d533-2a2a814304f1"
      },
      "source": [
        "number = 3\r\n",
        "\"I eat %d apples.\" %number"
      ],
      "execution_count": 92,
      "outputs": [
        {
          "output_type": "execute_result",
          "data": {
            "application/vnd.google.colaboratory.intrinsic+json": {
              "type": "string"
            },
            "text/plain": [
              "'I eat 3 apples.'"
            ]
          },
          "metadata": {
            "tags": []
          },
          "execution_count": 92
        }
      ]
    },
    {
      "cell_type": "markdown",
      "metadata": {
        "id": "3KLx1iBQFRwH"
      },
      "source": [
        "- 2개 이상의 값 넣기"
      ]
    },
    {
      "cell_type": "code",
      "metadata": {
        "colab": {
          "base_uri": "https://localhost:8080/",
          "height": 35
        },
        "id": "X1x0iSevDjnb",
        "outputId": "ea2c397d-eb8f-4776-bf6c-bdb0e980f456"
      },
      "source": [
        "number = 10\r\n",
        "day = \"three\"\r\n",
        "\"I ate %d apples. so I was sick for %s days.\" %(number, day)"
      ],
      "execution_count": 93,
      "outputs": [
        {
          "output_type": "execute_result",
          "data": {
            "application/vnd.google.colaboratory.intrinsic+json": {
              "type": "string"
            },
            "text/plain": [
              "'I ate 10 apples. so I was sick for three days.'"
            ]
          },
          "metadata": {
            "tags": []
          },
          "execution_count": 93
        }
      ]
    },
    {
      "cell_type": "code",
      "metadata": {
        "id": "SfNdrw4090km",
        "colab": {
          "base_uri": "https://localhost:8080/",
          "height": 171
        },
        "outputId": "fcf04b09-6912-427e-b9a5-e55d6ab42e87"
      },
      "source": [
        "\"Error is %d%.\" %98"
      ],
      "execution_count": 94,
      "outputs": [
        {
          "output_type": "error",
          "ename": "ValueError",
          "evalue": "ignored",
          "traceback": [
            "\u001b[0;31m---------------------------------------------------------------------------\u001b[0m",
            "\u001b[0;31mValueError\u001b[0m                                Traceback (most recent call last)",
            "\u001b[0;32m<ipython-input-94-46f709d82ee0>\u001b[0m in \u001b[0;36m<module>\u001b[0;34m()\u001b[0m\n\u001b[0;32m----> 1\u001b[0;31m \u001b[0;34m\"Error is %d%.\"\u001b[0m \u001b[0;34m%\u001b[0m\u001b[0;36m98\u001b[0m\u001b[0;34m\u001b[0m\u001b[0;34m\u001b[0m\u001b[0m\n\u001b[0m",
            "\u001b[0;31mValueError\u001b[0m: incomplete format"
          ]
        }
      ]
    },
    {
      "cell_type": "code",
      "metadata": {
        "colab": {
          "base_uri": "https://localhost:8080/",
          "height": 35
        },
        "id": "6ayhYmdiGDOO",
        "outputId": "0a033349-d09e-4af4-ee99-9fc06d08004d"
      },
      "source": [
        "\"Error is %d%%.\" %98"
      ],
      "execution_count": 95,
      "outputs": [
        {
          "output_type": "execute_result",
          "data": {
            "application/vnd.google.colaboratory.intrinsic+json": {
              "type": "string"
            },
            "text/plain": [
              "'Error is 98%.'"
            ]
          },
          "metadata": {
            "tags": []
          },
          "execution_count": 95
        }
      ]
    },
    {
      "cell_type": "markdown",
      "metadata": {
        "id": "ybLOBULUGJNz"
      },
      "source": [
        "(5) 포맷 코드와 숫자 함께 사용하기"
      ]
    },
    {
      "cell_type": "markdown",
      "metadata": {
        "id": "YilNvBq5GQun"
      },
      "source": [
        "- 정렬과 공백"
      ]
    },
    {
      "cell_type": "code",
      "metadata": {
        "id": "zlsgy6kS9zY4",
        "colab": {
          "base_uri": "https://localhost:8080/",
          "height": 35
        },
        "outputId": "0fef5507-c363-4efa-d3d7-4b3b35373d4f"
      },
      "source": [
        "\"%10s\" % \"hi\"   # 전체 길이가 10개인 문자열 공간에서 대입되는 값을 오른쪽으로 정렬하고 앞의 나머지는 공백으로 남겨두라는 의미"
      ],
      "execution_count": 96,
      "outputs": [
        {
          "output_type": "execute_result",
          "data": {
            "application/vnd.google.colaboratory.intrinsic+json": {
              "type": "string"
            },
            "text/plain": [
              "'        hi'"
            ]
          },
          "metadata": {
            "tags": []
          },
          "execution_count": 96
        }
      ]
    },
    {
      "cell_type": "code",
      "metadata": {
        "colab": {
          "base_uri": "https://localhost:8080/",
          "height": 35
        },
        "id": "nqEXOTWNGYNc",
        "outputId": "e052b179-36d0-415d-a345-1fb5c98730cf"
      },
      "source": [
        "\"%-10s\" % \"hi\""
      ],
      "execution_count": 97,
      "outputs": [
        {
          "output_type": "execute_result",
          "data": {
            "application/vnd.google.colaboratory.intrinsic+json": {
              "type": "string"
            },
            "text/plain": [
              "'hi        '"
            ]
          },
          "metadata": {
            "tags": []
          },
          "execution_count": 97
        }
      ]
    },
    {
      "cell_type": "code",
      "metadata": {
        "colab": {
          "base_uri": "https://localhost:8080/",
          "height": 35
        },
        "id": "hLL2ps0lGnR7",
        "outputId": "248249a4-6bc2-458f-f650-cef97b723235"
      },
      "source": [
        "\"%-10sjane\" % \"hi\"   # hi를 횐쪽으로 정렬하고 나머지는 공백으로 채웠음"
      ],
      "execution_count": 98,
      "outputs": [
        {
          "output_type": "execute_result",
          "data": {
            "application/vnd.google.colaboratory.intrinsic+json": {
              "type": "string"
            },
            "text/plain": [
              "'hi        jane'"
            ]
          },
          "metadata": {
            "tags": []
          },
          "execution_count": 98
        }
      ]
    },
    {
      "cell_type": "markdown",
      "metadata": {
        "id": "oLMrUld9Gwh6"
      },
      "source": [
        "- 소수점 표현하기"
      ]
    },
    {
      "cell_type": "code",
      "metadata": {
        "colab": {
          "base_uri": "https://localhost:8080/",
          "height": 35
        },
        "id": "Q3eBJgYUGrId",
        "outputId": "dff428b6-df2f-4e45-90eb-5fb3e2a6db23"
      },
      "source": [
        "\"%0.4f\" % 3.42134234"
      ],
      "execution_count": 99,
      "outputs": [
        {
          "output_type": "execute_result",
          "data": {
            "application/vnd.google.colaboratory.intrinsic+json": {
              "type": "string"
            },
            "text/plain": [
              "'3.4213'"
            ]
          },
          "metadata": {
            "tags": []
          },
          "execution_count": 99
        }
      ]
    },
    {
      "cell_type": "code",
      "metadata": {
        "colab": {
          "base_uri": "https://localhost:8080/",
          "height": 35
        },
        "id": "jVKRotOXG4JO",
        "outputId": "079c36f4-7bbb-411c-85ff-b7b6058d6dd1"
      },
      "source": [
        "\"%10.4f\" % 3.42134234   # 숫자를 소수점 네 번째 자리까지만 표시하고 전체 길이가 10개인 문자열 공간에서 오른쪽 정렬"
      ],
      "execution_count": 100,
      "outputs": [
        {
          "output_type": "execute_result",
          "data": {
            "application/vnd.google.colaboratory.intrinsic+json": {
              "type": "string"
            },
            "text/plain": [
              "'    3.4213'"
            ]
          },
          "metadata": {
            "tags": []
          },
          "execution_count": 100
        }
      ]
    },
    {
      "cell_type": "markdown",
      "metadata": {
        "id": "uyq6aH24HKjM"
      },
      "source": [
        "(6) format 함수를 사용한 포매팅"
      ]
    },
    {
      "cell_type": "markdown",
      "metadata": {
        "id": "jnEDbyqQHoLX"
      },
      "source": [
        "- 숫자 바로 대입하기"
      ]
    },
    {
      "cell_type": "code",
      "metadata": {
        "colab": {
          "base_uri": "https://localhost:8080/",
          "height": 35
        },
        "id": "9QS3h5IwIhlf",
        "outputId": "f3b018e8-a593-41aa-b6ca-75cf9ac43600"
      },
      "source": [
        "\"I eat {0} apples\". format(3)"
      ],
      "execution_count": 101,
      "outputs": [
        {
          "output_type": "execute_result",
          "data": {
            "application/vnd.google.colaboratory.intrinsic+json": {
              "type": "string"
            },
            "text/plain": [
              "'I eat 3 apples'"
            ]
          },
          "metadata": {
            "tags": []
          },
          "execution_count": 101
        }
      ]
    },
    {
      "cell_type": "markdown",
      "metadata": {
        "id": "c_vikpj9Hp0f"
      },
      "source": [
        "- 문자열 바로 대입하기"
      ]
    },
    {
      "cell_type": "code",
      "metadata": {
        "colab": {
          "base_uri": "https://localhost:8080/",
          "height": 35
        },
        "id": "aWZmJsFYIqTv",
        "outputId": "37acb78a-711d-49fb-ab57-dc6456de2d83"
      },
      "source": [
        "\"I eat {0} apples\". format(\"five\")"
      ],
      "execution_count": 102,
      "outputs": [
        {
          "output_type": "execute_result",
          "data": {
            "application/vnd.google.colaboratory.intrinsic+json": {
              "type": "string"
            },
            "text/plain": [
              "'I eat five apples'"
            ]
          },
          "metadata": {
            "tags": []
          },
          "execution_count": 102
        }
      ]
    },
    {
      "cell_type": "markdown",
      "metadata": {
        "id": "__rk0J-JHrRr"
      },
      "source": [
        "- 숫자 값을 가진 변수로 대입하기"
      ]
    },
    {
      "cell_type": "code",
      "metadata": {
        "colab": {
          "base_uri": "https://localhost:8080/",
          "height": 35
        },
        "id": "KawaiJywIttt",
        "outputId": "31da7f3f-560c-4b4b-d577-6b6c94e7d23b"
      },
      "source": [
        "number = 3\r\n",
        "\"I eat {0} apples\". format(number)"
      ],
      "execution_count": 103,
      "outputs": [
        {
          "output_type": "execute_result",
          "data": {
            "application/vnd.google.colaboratory.intrinsic+json": {
              "type": "string"
            },
            "text/plain": [
              "'I eat 3 apples'"
            ]
          },
          "metadata": {
            "tags": []
          },
          "execution_count": 103
        }
      ]
    },
    {
      "cell_type": "markdown",
      "metadata": {
        "id": "9bwNg07PHwUF"
      },
      "source": [
        "- 2개 이상의 값 넣기"
      ]
    },
    {
      "cell_type": "code",
      "metadata": {
        "colab": {
          "base_uri": "https://localhost:8080/",
          "height": 35
        },
        "id": "adXDXl0KIxzd",
        "outputId": "7ad1b492-66b5-41d6-c234-c76a7c0b64bd"
      },
      "source": [
        "number = 10\r\n",
        "day = 3\r\n",
        "\"I eat {0} apples. so I was sick for {1} days.\". format(number, day)"
      ],
      "execution_count": 104,
      "outputs": [
        {
          "output_type": "execute_result",
          "data": {
            "application/vnd.google.colaboratory.intrinsic+json": {
              "type": "string"
            },
            "text/plain": [
              "'I eat 10 apples. so I was sick for 3 days.'"
            ]
          },
          "metadata": {
            "tags": []
          },
          "execution_count": 104
        }
      ]
    },
    {
      "cell_type": "markdown",
      "metadata": {
        "id": "uTqp5wV1HyG_"
      },
      "source": [
        "- 이름으로 넣기"
      ]
    },
    {
      "cell_type": "code",
      "metadata": {
        "colab": {
          "base_uri": "https://localhost:8080/",
          "height": 35
        },
        "id": "Nnlfy8gbI8U6",
        "outputId": "ea208798-c195-4219-9bb1-f2a6ef724af5"
      },
      "source": [
        "\"I eat {number} apples. so I was sick for {day} days.\". format(number = 10, day = 3)"
      ],
      "execution_count": 105,
      "outputs": [
        {
          "output_type": "execute_result",
          "data": {
            "application/vnd.google.colaboratory.intrinsic+json": {
              "type": "string"
            },
            "text/plain": [
              "'I eat 10 apples. so I was sick for 3 days.'"
            ]
          },
          "metadata": {
            "tags": []
          },
          "execution_count": 105
        }
      ]
    },
    {
      "cell_type": "markdown",
      "metadata": {
        "id": "S0PTnFUnH1qK"
      },
      "source": [
        "- 왼쪽 정렬"
      ]
    },
    {
      "cell_type": "code",
      "metadata": {
        "colab": {
          "base_uri": "https://localhost:8080/",
          "height": 35
        },
        "id": "yc6l7CarJHkg",
        "outputId": "13b0efa9-3759-42cc-f207-55ec2433d1fa"
      },
      "source": [
        "\"{0:<10}\".format(\"hi\")   # \"%-10s\"%\"hi\"와 같음"
      ],
      "execution_count": 106,
      "outputs": [
        {
          "output_type": "execute_result",
          "data": {
            "application/vnd.google.colaboratory.intrinsic+json": {
              "type": "string"
            },
            "text/plain": [
              "'hi        '"
            ]
          },
          "metadata": {
            "tags": []
          },
          "execution_count": 106
        }
      ]
    },
    {
      "cell_type": "markdown",
      "metadata": {
        "id": "q1EyfHo3H3kC"
      },
      "source": [
        "- 오른쪽 정렬"
      ]
    },
    {
      "cell_type": "code",
      "metadata": {
        "colab": {
          "base_uri": "https://localhost:8080/",
          "height": 35
        },
        "id": "gJEx_jtvJTTA",
        "outputId": "031eea3f-172e-4d71-b9db-a3455804984a"
      },
      "source": [
        "\"{0:>10}\".format(\"hi\")   # \"%10s\" % \"hi\" 와 같음"
      ],
      "execution_count": 108,
      "outputs": [
        {
          "output_type": "execute_result",
          "data": {
            "application/vnd.google.colaboratory.intrinsic+json": {
              "type": "string"
            },
            "text/plain": [
              "'        hi'"
            ]
          },
          "metadata": {
            "tags": []
          },
          "execution_count": 108
        }
      ]
    },
    {
      "cell_type": "markdown",
      "metadata": {
        "id": "kFLY-ertH4gi"
      },
      "source": [
        "- 가운데 정렬"
      ]
    },
    {
      "cell_type": "code",
      "metadata": {
        "colab": {
          "base_uri": "https://localhost:8080/",
          "height": 35
        },
        "id": "P6yrZ20_Je4b",
        "outputId": "adde7f0c-daed-4690-8ba8-5a720d9e7524"
      },
      "source": [
        "\"{0:^10}\". format(\"hi\")"
      ],
      "execution_count": 109,
      "outputs": [
        {
          "output_type": "execute_result",
          "data": {
            "application/vnd.google.colaboratory.intrinsic+json": {
              "type": "string"
            },
            "text/plain": [
              "'    hi    '"
            ]
          },
          "metadata": {
            "tags": []
          },
          "execution_count": 109
        }
      ]
    },
    {
      "cell_type": "markdown",
      "metadata": {
        "id": "0XOh7djNH5dd"
      },
      "source": [
        "- 공백 채우기"
      ]
    },
    {
      "cell_type": "code",
      "metadata": {
        "colab": {
          "base_uri": "https://localhost:8080/",
          "height": 35
        },
        "id": "GqNes77RJlN2",
        "outputId": "185ccc3b-1a67-4b25-986e-075b2926ea84"
      },
      "source": [
        "\"{0:=^10}\".format(\"hi\")"
      ],
      "execution_count": 110,
      "outputs": [
        {
          "output_type": "execute_result",
          "data": {
            "application/vnd.google.colaboratory.intrinsic+json": {
              "type": "string"
            },
            "text/plain": [
              "'====hi===='"
            ]
          },
          "metadata": {
            "tags": []
          },
          "execution_count": 110
        }
      ]
    },
    {
      "cell_type": "code",
      "metadata": {
        "colab": {
          "base_uri": "https://localhost:8080/",
          "height": 35
        },
        "id": "eiHiUTAIJr30",
        "outputId": "ae138c65-3eee-447a-b628-82c099c39196"
      },
      "source": [
        "\"{0:!<10}\".format(\"hi\")"
      ],
      "execution_count": 114,
      "outputs": [
        {
          "output_type": "execute_result",
          "data": {
            "application/vnd.google.colaboratory.intrinsic+json": {
              "type": "string"
            },
            "text/plain": [
              "'hi!!!!!!!!'"
            ]
          },
          "metadata": {
            "tags": []
          },
          "execution_count": 114
        }
      ]
    },
    {
      "cell_type": "markdown",
      "metadata": {
        "id": "oIapIvHwH64e"
      },
      "source": [
        "- 소수점 표현하기"
      ]
    },
    {
      "cell_type": "code",
      "metadata": {
        "colab": {
          "base_uri": "https://localhost:8080/",
          "height": 35
        },
        "id": "hu2ml79eJ3NF",
        "outputId": "a89f7d20-12ec-4be5-b433-d977f160cf2d"
      },
      "source": [
        "y = 3.42134234\r\n",
        "\"{0:0.4f}\".format(y)"
      ],
      "execution_count": 115,
      "outputs": [
        {
          "output_type": "execute_result",
          "data": {
            "application/vnd.google.colaboratory.intrinsic+json": {
              "type": "string"
            },
            "text/plain": [
              "'3.4213'"
            ]
          },
          "metadata": {
            "tags": []
          },
          "execution_count": 115
        }
      ]
    },
    {
      "cell_type": "code",
      "metadata": {
        "colab": {
          "base_uri": "https://localhost:8080/",
          "height": 35
        },
        "id": "IQPCdc7qJ9HE",
        "outputId": "94cc4b05-a7ed-493f-cbf7-7ac9df546834"
      },
      "source": [
        "\"{0:10.4f}\".format(y)"
      ],
      "execution_count": 116,
      "outputs": [
        {
          "output_type": "execute_result",
          "data": {
            "application/vnd.google.colaboratory.intrinsic+json": {
              "type": "string"
            },
            "text/plain": [
              "'    3.4213'"
            ]
          },
          "metadata": {
            "tags": []
          },
          "execution_count": 116
        }
      ]
    },
    {
      "cell_type": "markdown",
      "metadata": {
        "id": "Mztv4gt0H78C"
      },
      "source": [
        "- { 또는 } 문자 표현하기"
      ]
    },
    {
      "cell_type": "code",
      "metadata": {
        "colab": {
          "base_uri": "https://localhost:8080/",
          "height": 35
        },
        "id": "OcNxksfiKDsV",
        "outputId": "e2f82f82-6aab-4817-8aa9-96e3f28cb5d5"
      },
      "source": [
        "\"{{ and }}\".format()"
      ],
      "execution_count": 118,
      "outputs": [
        {
          "output_type": "execute_result",
          "data": {
            "application/vnd.google.colaboratory.intrinsic+json": {
              "type": "string"
            },
            "text/plain": [
              "'{ and }'"
            ]
          },
          "metadata": {
            "tags": []
          },
          "execution_count": 118
        }
      ]
    },
    {
      "cell_type": "markdown",
      "metadata": {
        "id": "ECjX6Yf0H960"
      },
      "source": [
        "- f 문자열 포매팅"
      ]
    },
    {
      "cell_type": "code",
      "metadata": {
        "colab": {
          "base_uri": "https://localhost:8080/",
          "height": 35
        },
        "id": "jg8Pf-bxKLbm",
        "outputId": "62389ae1-e50d-4e7a-ed74-da18fc999de7"
      },
      "source": [
        "name = '유가연'\r\n",
        "age = '24'\r\n",
        "f'나의 이름은 {name}입니다. 나이는 {age}입니다.'"
      ],
      "execution_count": 119,
      "outputs": [
        {
          "output_type": "execute_result",
          "data": {
            "application/vnd.google.colaboratory.intrinsic+json": {
              "type": "string"
            },
            "text/plain": [
              "'나의 이름은 유가연입니다. 나이는 24입니다.'"
            ]
          },
          "metadata": {
            "tags": []
          },
          "execution_count": 119
        }
      ]
    },
    {
      "cell_type": "code",
      "metadata": {
        "colab": {
          "base_uri": "https://localhost:8080/",
          "height": 35
        },
        "id": "dy3HTPrsKXWp",
        "outputId": "26ec5f6d-dc0c-4a71-b734-9fa4ace7a1a7"
      },
      "source": [
        "age = 24\r\n",
        "f\"나는 내년이면 {age+1}살이 된다.\""
      ],
      "execution_count": 121,
      "outputs": [
        {
          "output_type": "execute_result",
          "data": {
            "application/vnd.google.colaboratory.intrinsic+json": {
              "type": "string"
            },
            "text/plain": [
              "'나는 내년이면 25살이 된다.'"
            ]
          },
          "metadata": {
            "tags": []
          },
          "execution_count": 121
        }
      ]
    },
    {
      "cell_type": "code",
      "metadata": {
        "colab": {
          "base_uri": "https://localhost:8080/",
          "height": 35
        },
        "id": "eBZudeX1KbvI",
        "outputId": "16aeb70e-8c66-48d2-ab11-4c6d0f3d5505"
      },
      "source": [
        "d = {'name':'유가연', 'age':'24'}\r\n",
        "f'나의 이름은 {d[\"name\"]}입니다. 나이는 {d[\"age\"]}입니다.'"
      ],
      "execution_count": 122,
      "outputs": [
        {
          "output_type": "execute_result",
          "data": {
            "application/vnd.google.colaboratory.intrinsic+json": {
              "type": "string"
            },
            "text/plain": [
              "'나의 이름은 유가연입니다. 나이는 24입니다.'"
            ]
          },
          "metadata": {
            "tags": []
          },
          "execution_count": 122
        }
      ]
    },
    {
      "cell_type": "markdown",
      "metadata": {
        "id": "xt7iU_SQH_gv"
      },
      "source": [
        "(7) 문자열 관련 함수"
      ]
    },
    {
      "cell_type": "markdown",
      "metadata": {
        "id": "24IA_RL1IDun"
      },
      "source": [
        "- 문자 개수 세기"
      ]
    },
    {
      "cell_type": "code",
      "metadata": {
        "colab": {
          "base_uri": "https://localhost:8080/"
        },
        "id": "E62bD63dK39E",
        "outputId": "dc9113c8-3a60-4374-db0c-49be8b67c872"
      },
      "source": [
        "a = \"hobby\"\r\n",
        "a.count(\"b\")"
      ],
      "execution_count": 123,
      "outputs": [
        {
          "output_type": "execute_result",
          "data": {
            "text/plain": [
              "2"
            ]
          },
          "metadata": {
            "tags": []
          },
          "execution_count": 123
        }
      ]
    },
    {
      "cell_type": "markdown",
      "metadata": {
        "id": "BPZbnRKnIFKc"
      },
      "source": [
        "- 위치 알려주기 1"
      ]
    },
    {
      "cell_type": "code",
      "metadata": {
        "colab": {
          "base_uri": "https://localhost:8080/"
        },
        "id": "EoyQwZloK9cQ",
        "outputId": "b9c001c6-bd31-4aab-f00c-d852c96a6352"
      },
      "source": [
        "a = \"Python is the best choice\"\r\n",
        "a.find('b')"
      ],
      "execution_count": 127,
      "outputs": [
        {
          "output_type": "execute_result",
          "data": {
            "text/plain": [
              "14"
            ]
          },
          "metadata": {
            "tags": []
          },
          "execution_count": 127
        }
      ]
    },
    {
      "cell_type": "code",
      "metadata": {
        "colab": {
          "base_uri": "https://localhost:8080/"
        },
        "id": "ZurZ3qrqLCz1",
        "outputId": "6ae16f96-01da-4c23-d525-c800a6eda69d"
      },
      "source": [
        "a.find('k')   # 찾는 문자나 문자열이 존재하지 않는다면 -1을 반환"
      ],
      "execution_count": 126,
      "outputs": [
        {
          "output_type": "execute_result",
          "data": {
            "text/plain": [
              "-1"
            ]
          },
          "metadata": {
            "tags": []
          },
          "execution_count": 126
        }
      ]
    },
    {
      "cell_type": "markdown",
      "metadata": {
        "id": "zDX7h6DgIG7L"
      },
      "source": [
        "- 위치 알려주기 2"
      ]
    },
    {
      "cell_type": "code",
      "metadata": {
        "colab": {
          "base_uri": "https://localhost:8080/"
        },
        "id": "vFEfMsCpLM4W",
        "outputId": "867a88ba-ecc7-4fc1-a516-8f46a140b0d0"
      },
      "source": [
        "a = \"Life is too short\"\r\n",
        "a.index('t')"
      ],
      "execution_count": 129,
      "outputs": [
        {
          "output_type": "execute_result",
          "data": {
            "text/plain": [
              "8"
            ]
          },
          "metadata": {
            "tags": []
          },
          "execution_count": 129
        }
      ]
    },
    {
      "cell_type": "code",
      "metadata": {
        "colab": {
          "base_uri": "https://localhost:8080/",
          "height": 171
        },
        "id": "BguQ9FpELR6H",
        "outputId": "7676985d-df7a-4747-8378-b1bc690828b9"
      },
      "source": [
        "a.index('k')   #find와 다른 점은 존재하지 않는 문자열을 찾으면 오류가 발생함"
      ],
      "execution_count": 130,
      "outputs": [
        {
          "output_type": "error",
          "ename": "ValueError",
          "evalue": "ignored",
          "traceback": [
            "\u001b[0;31m---------------------------------------------------------------------------\u001b[0m",
            "\u001b[0;31mValueError\u001b[0m                                Traceback (most recent call last)",
            "\u001b[0;32m<ipython-input-130-cb6c8ec35229>\u001b[0m in \u001b[0;36m<module>\u001b[0;34m()\u001b[0m\n\u001b[0;32m----> 1\u001b[0;31m \u001b[0ma\u001b[0m\u001b[0;34m.\u001b[0m\u001b[0mindex\u001b[0m\u001b[0;34m(\u001b[0m\u001b[0;34m'k'\u001b[0m\u001b[0;34m)\u001b[0m\u001b[0;34m\u001b[0m\u001b[0;34m\u001b[0m\u001b[0m\n\u001b[0m",
            "\u001b[0;31mValueError\u001b[0m: substring not found"
          ]
        }
      ]
    },
    {
      "cell_type": "markdown",
      "metadata": {
        "id": "krdRymxNIIIp"
      },
      "source": [
        "- 문자열 삽입"
      ]
    },
    {
      "cell_type": "code",
      "metadata": {
        "colab": {
          "base_uri": "https://localhost:8080/",
          "height": 35
        },
        "id": "WIvjvdOnLcEZ",
        "outputId": "dcd69bb4-e6dd-4236-a901-7600d88326d9"
      },
      "source": [
        "\",\".join('abcd')"
      ],
      "execution_count": 131,
      "outputs": [
        {
          "output_type": "execute_result",
          "data": {
            "application/vnd.google.colaboratory.intrinsic+json": {
              "type": "string"
            },
            "text/plain": [
              "'a,b,c,d'"
            ]
          },
          "metadata": {
            "tags": []
          },
          "execution_count": 131
        }
      ]
    },
    {
      "cell_type": "code",
      "metadata": {
        "colab": {
          "base_uri": "https://localhost:8080/",
          "height": 35
        },
        "id": "xb7yrzTGLfb2",
        "outputId": "b9286901-b747-49d0-9720-70e47e95bbc6"
      },
      "source": [
        "\",\".join(['a', 'b', 'c', 'd'])"
      ],
      "execution_count": 132,
      "outputs": [
        {
          "output_type": "execute_result",
          "data": {
            "application/vnd.google.colaboratory.intrinsic+json": {
              "type": "string"
            },
            "text/plain": [
              "'a,b,c,d'"
            ]
          },
          "metadata": {
            "tags": []
          },
          "execution_count": 132
        }
      ]
    },
    {
      "cell_type": "markdown",
      "metadata": {
        "id": "V774p3GzIJDq"
      },
      "source": [
        "- 소문자를 대문자로 바꾸기"
      ]
    },
    {
      "cell_type": "code",
      "metadata": {
        "colab": {
          "base_uri": "https://localhost:8080/",
          "height": 35
        },
        "id": "v9HvhQMdLoHk",
        "outputId": "a314b949-de53-4e4f-9e1f-5639c0796ce9"
      },
      "source": [
        "a = 'hi'\r\n",
        "a.upper()"
      ],
      "execution_count": 133,
      "outputs": [
        {
          "output_type": "execute_result",
          "data": {
            "application/vnd.google.colaboratory.intrinsic+json": {
              "type": "string"
            },
            "text/plain": [
              "'HI'"
            ]
          },
          "metadata": {
            "tags": []
          },
          "execution_count": 133
        }
      ]
    },
    {
      "cell_type": "markdown",
      "metadata": {
        "id": "HYECO6neIMgL"
      },
      "source": [
        "- 대문자를 소문자로 바꾸기"
      ]
    },
    {
      "cell_type": "code",
      "metadata": {
        "colab": {
          "base_uri": "https://localhost:8080/",
          "height": 35
        },
        "id": "S_QW-P7zLrLq",
        "outputId": "8300db76-e975-4911-9034-f8e290623df1"
      },
      "source": [
        "a = 'HI'\r\n",
        "a.lower()"
      ],
      "execution_count": 134,
      "outputs": [
        {
          "output_type": "execute_result",
          "data": {
            "application/vnd.google.colaboratory.intrinsic+json": {
              "type": "string"
            },
            "text/plain": [
              "'hi'"
            ]
          },
          "metadata": {
            "tags": []
          },
          "execution_count": 134
        }
      ]
    },
    {
      "cell_type": "markdown",
      "metadata": {
        "id": "6-Y3SrHdIOh7"
      },
      "source": [
        "- 왼쪽 공백 지우기"
      ]
    },
    {
      "cell_type": "code",
      "metadata": {
        "colab": {
          "base_uri": "https://localhost:8080/",
          "height": 35
        },
        "id": "xpUibwshLutP",
        "outputId": "c34d13b1-bbba-4fbc-a563-95a83fddd66a"
      },
      "source": [
        "a = \" hi \"\r\n",
        "a.lstrip()"
      ],
      "execution_count": 135,
      "outputs": [
        {
          "output_type": "execute_result",
          "data": {
            "application/vnd.google.colaboratory.intrinsic+json": {
              "type": "string"
            },
            "text/plain": [
              "'hi '"
            ]
          },
          "metadata": {
            "tags": []
          },
          "execution_count": 135
        }
      ]
    },
    {
      "cell_type": "markdown",
      "metadata": {
        "id": "2JIHXFkUL04P"
      },
      "source": [
        "- 오른쪽 공백 지우기"
      ]
    },
    {
      "cell_type": "code",
      "metadata": {
        "colab": {
          "base_uri": "https://localhost:8080/",
          "height": 35
        },
        "id": "hqhWG_yfL2VS",
        "outputId": "7ef916a7-b314-4fad-8732-654c86081fe0"
      },
      "source": [
        "a = \" hi \"\r\n",
        "a.rstrip()"
      ],
      "execution_count": 136,
      "outputs": [
        {
          "output_type": "execute_result",
          "data": {
            "application/vnd.google.colaboratory.intrinsic+json": {
              "type": "string"
            },
            "text/plain": [
              "' hi'"
            ]
          },
          "metadata": {
            "tags": []
          },
          "execution_count": 136
        }
      ]
    },
    {
      "cell_type": "markdown",
      "metadata": {
        "id": "-QxBYvjhIYuK"
      },
      "source": [
        "- 양쪽 공백 지우기"
      ]
    },
    {
      "cell_type": "code",
      "metadata": {
        "colab": {
          "base_uri": "https://localhost:8080/",
          "height": 35
        },
        "id": "sKkQZr-nLzbM",
        "outputId": "8f0a85a4-7299-433f-c575-98f024433759"
      },
      "source": [
        "a = \" hi \"\r\n",
        "a.strip()"
      ],
      "execution_count": 137,
      "outputs": [
        {
          "output_type": "execute_result",
          "data": {
            "application/vnd.google.colaboratory.intrinsic+json": {
              "type": "string"
            },
            "text/plain": [
              "'hi'"
            ]
          },
          "metadata": {
            "tags": []
          },
          "execution_count": 137
        }
      ]
    },
    {
      "cell_type": "markdown",
      "metadata": {
        "id": "3WEPLlaxIaY-"
      },
      "source": [
        "- 문자열 바꾸기"
      ]
    },
    {
      "cell_type": "code",
      "metadata": {
        "colab": {
          "base_uri": "https://localhost:8080/",
          "height": 35
        },
        "id": "jOd7T9DlL-GB",
        "outputId": "d513f3b5-b38b-4d81-b8af-21e9f0c5298f"
      },
      "source": [
        "a = \"Life is too short\"\r\n",
        "a.replace('Life', \"Your leg\")"
      ],
      "execution_count": 138,
      "outputs": [
        {
          "output_type": "execute_result",
          "data": {
            "application/vnd.google.colaboratory.intrinsic+json": {
              "type": "string"
            },
            "text/plain": [
              "'Your leg is too short'"
            ]
          },
          "metadata": {
            "tags": []
          },
          "execution_count": 138
        }
      ]
    },
    {
      "cell_type": "markdown",
      "metadata": {
        "id": "ZKkq8D_xIbgg"
      },
      "source": [
        "- 문자열 나누기"
      ]
    },
    {
      "cell_type": "code",
      "metadata": {
        "colab": {
          "base_uri": "https://localhost:8080/"
        },
        "id": "bIWo_X7iG-eT",
        "outputId": "c6e86ee2-6ec2-4aa5-d7ee-bd2266799a0a"
      },
      "source": [
        "a = \"Life is too short\"   # 공백을 기준으로 문자열 나눔\r\n",
        "a.split()"
      ],
      "execution_count": 139,
      "outputs": [
        {
          "output_type": "execute_result",
          "data": {
            "text/plain": [
              "['Life', 'is', 'too', 'short']"
            ]
          },
          "metadata": {
            "tags": []
          },
          "execution_count": 139
        }
      ]
    },
    {
      "cell_type": "code",
      "metadata": {
        "id": "H4ptKy9I9yKH",
        "colab": {
          "base_uri": "https://localhost:8080/"
        },
        "outputId": "9f8d80d7-0925-43bb-8190-9047c1432328"
      },
      "source": [
        "b = \"a:b:c:d\"   # : 기호를 기준으로 문자열 나눔\r\n",
        "b.split(':')"
      ],
      "execution_count": 140,
      "outputs": [
        {
          "output_type": "execute_result",
          "data": {
            "text/plain": [
              "['a', 'b', 'c', 'd']"
            ]
          },
          "metadata": {
            "tags": []
          },
          "execution_count": 140
        }
      ]
    },
    {
      "cell_type": "code",
      "metadata": {
        "id": "E6UeIrQT9tqY"
      },
      "source": [
        ""
      ],
      "execution_count": 67,
      "outputs": []
    }
  ]
}