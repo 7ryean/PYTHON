{
  "nbformat": 4,
  "nbformat_minor": 0,
  "metadata": {
    "colab": {
      "name": "[PYTHON] Day 8.ipynb",
      "provenance": [],
      "collapsed_sections": [],
      "authorship_tag": "ABX9TyPw7abHLKnYQJDxtsXhCTmj",
      "include_colab_link": true
    },
    "kernelspec": {
      "name": "python3",
      "display_name": "Python 3"
    }
  },
  "cells": [
    {
      "cell_type": "markdown",
      "metadata": {
        "id": "view-in-github",
        "colab_type": "text"
      },
      "source": [
        "<a href=\"https://colab.research.google.com/github/7ryean/PYTHON/blob/main/%5BPYTHON%5D%20Day%208.ipynb\" target=\"_parent\"><img src=\"https://colab.research.google.com/assets/colab-badge.svg\" alt=\"Open In Colab\"/></a>"
      ]
    },
    {
      "cell_type": "markdown",
      "metadata": {
        "id": "iag7iwQ8Ja9B"
      },
      "source": [
        "# **연습 문제**"
      ]
    },
    {
      "cell_type": "markdown",
      "metadata": {
        "id": "RjxAaddbJf--"
      },
      "source": [
        "01. 다음 코드의 결괏값은 무엇일까?\r\n",
        "\r\n",
        "a = \"Life is too short, you need python\"\r\n",
        "\r\n",
        "if \"wife\" in a : print(\"wife\")\r\n",
        "elif \"python\" in a and \"you\" not in a : print(\"python\")\r\n",
        "elif \"shirt\" not in a : print(\"shirt\")\r\n",
        "elif \"need\" in a : print(\"need\")\r\n",
        "else : print(\"none\")\r\n",
        "\r\n"
      ]
    },
    {
      "cell_type": "code",
      "metadata": {
        "id": "zUpe2WrkExp7"
      },
      "source": [
        "# shirt need"
      ],
      "execution_count": null,
      "outputs": []
    },
    {
      "cell_type": "code",
      "metadata": {
        "id": "t08AN3VwkyUV"
      },
      "source": [
        "# 답은 shirt. elif는 앞의 값이 맞지 않을 때만 뒤로 넘어가기 때문에 해당하는 값이 앞에서 나오면 뒤로 돌아갈 필요가 없다."
      ],
      "execution_count": null,
      "outputs": []
    },
    {
      "cell_type": "markdown",
      "metadata": {
        "id": "5gCoWNRlKFd-"
      },
      "source": [
        "02. while문을 사용해 1부터 1000까지의 자연수 중 3의 배수의 합을 구해 보자."
      ]
    },
    {
      "cell_type": "code",
      "metadata": {
        "colab": {
          "base_uri": "https://localhost:8080/"
        },
        "id": "aLyPd2XKJ7Ua",
        "outputId": "8c09650a-e66b-447e-a09b-8c5733270285"
      },
      "source": [
        "num = 0\r\n",
        "i = 0\r\n",
        "while i <= 1000 :\r\n",
        "  if i % 3 == 0 :\r\n",
        "    num = num + i\r\n",
        "  i = i + 1\r\n",
        "\r\n",
        "print(num)\r\n"
      ],
      "execution_count": null,
      "outputs": [
        {
          "output_type": "stream",
          "text": [
            "166833\n"
          ],
          "name": "stdout"
        }
      ]
    },
    {
      "cell_type": "code",
      "metadata": {
        "colab": {
          "base_uri": "https://localhost:8080/"
        },
        "id": "KvLj5LH_i0TG",
        "outputId": "0b6f4611-f527-48ac-fc2e-ee4b2e167dfa"
      },
      "source": [
        "# 해답\r\n",
        "\r\n",
        "result = 0\r\n",
        "i = 1\r\n",
        "while i <= 1000 :\r\n",
        "  if i % 3 == 0 :\r\n",
        "    result += i\r\n",
        "  i += 1\r\n",
        "\r\n",
        "print(result)"
      ],
      "execution_count": null,
      "outputs": [
        {
          "output_type": "stream",
          "text": [
            "166833\n"
          ],
          "name": "stdout"
        }
      ]
    },
    {
      "cell_type": "markdown",
      "metadata": {
        "id": "tCP1tgPaKMyu"
      },
      "source": [
        "3. while문을 사용하여 다음과 같이 별(*)을 표시하는 프로그램을 작성해 보자."
      ]
    },
    {
      "cell_type": "code",
      "metadata": {
        "colab": {
          "base_uri": "https://localhost:8080/"
        },
        "id": "NHGNNtJWKQZZ",
        "outputId": "070d5277-b88c-4335-810e-8d6402af53b5"
      },
      "source": [
        "i = 0\r\n",
        "while True :\r\n",
        "  i += 1\r\n",
        "  if i >= 6 : break\r\n",
        "  print(i*'*')"
      ],
      "execution_count": null,
      "outputs": [
        {
          "output_type": "stream",
          "text": [
            "*\n",
            "**\n",
            "***\n",
            "****\n",
            "*****\n"
          ],
          "name": "stdout"
        }
      ]
    },
    {
      "cell_type": "markdown",
      "metadata": {
        "id": "w1AnHihGKRWV"
      },
      "source": [
        "4. for문을 사용해 1부터 100까지의 숫자를 출력해 보자."
      ]
    },
    {
      "cell_type": "code",
      "metadata": {
        "colab": {
          "base_uri": "https://localhost:8080/"
        },
        "id": "gnYvPVL5KUmF",
        "outputId": "95bba773-1024-4e8e-c294-8ff3807f838c"
      },
      "source": [
        "for i in range(1,101) :\r\n",
        "  print(i)"
      ],
      "execution_count": null,
      "outputs": [
        {
          "output_type": "stream",
          "text": [
            "1\n",
            "2\n",
            "3\n",
            "4\n",
            "5\n",
            "6\n",
            "7\n",
            "8\n",
            "9\n",
            "10\n",
            "11\n",
            "12\n",
            "13\n",
            "14\n",
            "15\n",
            "16\n",
            "17\n",
            "18\n",
            "19\n",
            "20\n",
            "21\n",
            "22\n",
            "23\n",
            "24\n",
            "25\n",
            "26\n",
            "27\n",
            "28\n",
            "29\n",
            "30\n",
            "31\n",
            "32\n",
            "33\n",
            "34\n",
            "35\n",
            "36\n",
            "37\n",
            "38\n",
            "39\n",
            "40\n",
            "41\n",
            "42\n",
            "43\n",
            "44\n",
            "45\n",
            "46\n",
            "47\n",
            "48\n",
            "49\n",
            "50\n",
            "51\n",
            "52\n",
            "53\n",
            "54\n",
            "55\n",
            "56\n",
            "57\n",
            "58\n",
            "59\n",
            "60\n",
            "61\n",
            "62\n",
            "63\n",
            "64\n",
            "65\n",
            "66\n",
            "67\n",
            "68\n",
            "69\n",
            "70\n",
            "71\n",
            "72\n",
            "73\n",
            "74\n",
            "75\n",
            "76\n",
            "77\n",
            "78\n",
            "79\n",
            "80\n",
            "81\n",
            "82\n",
            "83\n",
            "84\n",
            "85\n",
            "86\n",
            "87\n",
            "88\n",
            "89\n",
            "90\n",
            "91\n",
            "92\n",
            "93\n",
            "94\n",
            "95\n",
            "96\n",
            "97\n",
            "98\n",
            "99\n",
            "100\n"
          ],
          "name": "stdout"
        }
      ]
    },
    {
      "cell_type": "markdown",
      "metadata": {
        "id": "nIY15MLCKU5N"
      },
      "source": [
        "5. A 학급에 총 10명의 학생이 있다. 이 학생들의 중간고사 점수는 다음과 같다. for문을 사용하여 A 학급의 평균 점수를 구해 보자."
      ]
    },
    {
      "cell_type": "code",
      "metadata": {
        "id": "LnjV_snoKdY-",
        "colab": {
          "base_uri": "https://localhost:8080/"
        },
        "outputId": "d65123a9-dd5e-475d-a877-8579714f1129"
      },
      "source": [
        "A = [70, 60, 55, 75, 95, 90, 80, 80, 85, 100]\r\n",
        "num = 0\r\n",
        "for i in A :\r\n",
        "  num += i\r\n",
        "average = num / 10\r\n",
        "\r\n",
        "print(average)"
      ],
      "execution_count": 42,
      "outputs": [
        {
          "output_type": "stream",
          "text": [
            "79.0\n"
          ],
          "name": "stdout"
        }
      ]
    },
    {
      "cell_type": "code",
      "metadata": {
        "id": "kvmh3vpSy5ee"
      },
      "source": [
        "# 위 코드도 괜찮지만 리스트 내 정수가 많아질 경우 평균을 나눌 때 그 개수를 셀 수 없기 때문에 len(A)를 사용하는 것이 좋음"
      ],
      "execution_count": null,
      "outputs": []
    },
    {
      "cell_type": "markdown",
      "metadata": {
        "id": "KH1bO24lKdv2"
      },
      "source": [
        "6. 리스트 중에서 홀수에만 2를 곱하여 저장하는 다음 코드가 있다. 위 코드를 리스트 내포(list comprehension)을 사용하여 표현해 보자."
      ]
    },
    {
      "cell_type": "code",
      "metadata": {
        "id": "Epupc6RmKk2G",
        "colab": {
          "base_uri": "https://localhost:8080/"
        },
        "outputId": "daea1599-ca4d-4223-f0b3-50535cb03e33"
      },
      "source": [
        "numbers = [1, 2, 3, 4, 5]\r\n",
        "\r\n",
        "result = []\r\n",
        "for n in numbers :\r\n",
        "  if n % 2 == 1 :\r\n",
        "    result.append(n*2)\r\n",
        "\r\n",
        "print(result)"
      ],
      "execution_count": 46,
      "outputs": [
        {
          "output_type": "stream",
          "text": [
            "[2, 6, 10]\n"
          ],
          "name": "stdout"
        }
      ]
    },
    {
      "cell_type": "code",
      "metadata": {
        "colab": {
          "base_uri": "https://localhost:8080/"
        },
        "id": "bHQTCiwhyV0f",
        "outputId": "bf0a7182-32ce-4dbc-bd01-6e2acafea6e1"
      },
      "source": [
        "number = [1, 2, 3, 4, 5]\r\n",
        "result = [n*2 for n in numbers if n % 2 == 1]\r\n",
        "\r\n",
        "print(result)"
      ],
      "execution_count": 47,
      "outputs": [
        {
          "output_type": "stream",
          "text": [
            "[2, 6, 10]\n"
          ],
          "name": "stdout"
        }
      ]
    },
    {
      "cell_type": "code",
      "metadata": {
        "id": "vPXN3nnoy0Vu"
      },
      "source": [
        "# 리스트 내포란 []안에 모든 코드를 작성해 넣는 것"
      ],
      "execution_count": null,
      "outputs": []
    }
  ]
}