{
  "nbformat": 4,
  "nbformat_minor": 0,
  "metadata": {
    "colab": {
      "name": "[PYTHON] Day 7.ipynb",
      "provenance": [],
      "authorship_tag": "ABX9TyOmYZk7Zg243ijIAZ0TYjp9",
      "include_colab_link": true
    },
    "kernelspec": {
      "name": "python3",
      "display_name": "Python 3"
    }
  },
  "cells": [
    {
      "cell_type": "markdown",
      "metadata": {
        "id": "view-in-github",
        "colab_type": "text"
      },
      "source": [
        "<a href=\"https://colab.research.google.com/github/7ryean/PYTHON/blob/main/%5BPYTHON%5D%20Day%207.ipynb\" target=\"_parent\"><img src=\"https://colab.research.google.com/assets/colab-badge.svg\" alt=\"Open In Colab\"/></a>"
      ]
    },
    {
      "cell_type": "markdown",
      "metadata": {
        "id": "9Oc9_O5atpaX"
      },
      "source": [
        "# **프로그램의 구조를 쌓는다, 제어문**"
      ]
    },
    {
      "cell_type": "markdown",
      "metadata": {
        "id": "CuiHXIZWtuKt"
      },
      "source": [
        "# 03. for문"
      ]
    },
    {
      "cell_type": "markdown",
      "metadata": {
        "id": "SS4NAkFl08eX"
      },
      "source": [
        "for문은 첫 번째 요소부터 마지막 요소까지 차례로 변수에 대입되어 '수행할 문장1', '수행할 문장2'등의 순서로 수행된다."
      ]
    },
    {
      "cell_type": "code",
      "metadata": {
        "colab": {
          "base_uri": "https://localhost:8080/"
        },
        "id": "Z8KRnWyaoCaz",
        "outputId": "adf6dfe6-3680-411a-9223-729e1fe4b75e"
      },
      "source": [
        "test_list = ['one', 'two', 'three']\r\n",
        "for i in test_list :\r\n",
        "  print(i)"
      ],
      "execution_count": 1,
      "outputs": [
        {
          "output_type": "stream",
          "text": [
            "one\n",
            "two\n",
            "three\n"
          ],
          "name": "stdout"
        }
      ]
    },
    {
      "cell_type": "code",
      "metadata": {
        "colab": {
          "base_uri": "https://localhost:8080/"
        },
        "id": "2Sxatj771Qbm",
        "outputId": "e62b6d30-61f5-416b-a7a0-1093a9a96d3b"
      },
      "source": [
        "a = [(1,2), (3,4), (5,6)]\r\n",
        "for (first, last) in a :\r\n",
        "  print(first + last)"
      ],
      "execution_count": 2,
      "outputs": [
        {
          "output_type": "stream",
          "text": [
            "3\n",
            "7\n",
            "11\n"
          ],
          "name": "stdout"
        }
      ]
    },
    {
      "cell_type": "code",
      "metadata": {
        "colab": {
          "base_uri": "https://localhost:8080/"
        },
        "id": "-jLay9Eg1dRX",
        "outputId": "974e40d1-3b85-446c-fe14-3d556fc63b3b"
      },
      "source": [
        "marks = [90, 25, 67, 45, 80]\r\n",
        "number = 0\r\n",
        "for mark in marks :\r\n",
        "  number = number + 1\r\n",
        "  if mark >= 60 :\r\n",
        "    print('%d번 학생은 합격입니다' % number)\r\n",
        "  else :\r\n",
        "    print(\"%d번 학생은 불합격입니다\" % number)"
      ],
      "execution_count": 3,
      "outputs": [
        {
          "output_type": "stream",
          "text": [
            "1번 학생은 합격입니다\n",
            "2번 학생은 불합격입니다\n",
            "3번 학생은 합격입니다\n",
            "4번 학생은 불합격입니다\n",
            "5번 학생은 합격입니다\n"
          ],
          "name": "stdout"
        }
      ]
    },
    {
      "cell_type": "markdown",
      "metadata": {
        "id": "ApZEKLi812c1"
      },
      "source": [
        "(1) for문과 continue문"
      ]
    },
    {
      "cell_type": "code",
      "metadata": {
        "colab": {
          "base_uri": "https://localhost:8080/"
        },
        "id": "FBbsXJ9I10T0",
        "outputId": "ef2c1a0c-f2a4-49d4-8d6a-67703bbcd37f"
      },
      "source": [
        "marks = [90, 25, 67, 45, 80]\r\n",
        "number = 0\r\n",
        "for mark in marks :\r\n",
        "  number = number + 1\r\n",
        "  if mark < 60 : continue\r\n",
        "  print('%d번 학생 축하합니다. 합격입니다' % number)"
      ],
      "execution_count": 4,
      "outputs": [
        {
          "output_type": "stream",
          "text": [
            "1번 학생 축하합니다. 합격입니다\n",
            "3번 학생 축하합니다. 합격입니다\n",
            "5번 학생 축하합니다. 합격입니다\n"
          ],
          "name": "stdout"
        }
      ]
    },
    {
      "cell_type": "markdown",
      "metadata": {
        "id": "WDJavKWW2MJw"
      },
      "source": [
        "(2) for문과 함께 자주 사용하는 range 함수"
      ]
    },
    {
      "cell_type": "code",
      "metadata": {
        "colab": {
          "base_uri": "https://localhost:8080/"
        },
        "id": "V1rb9dLS2KUh",
        "outputId": "82c10f56-813d-4cd5-f56f-314693a345f5"
      },
      "source": [
        "a = range(10)\r\n",
        "a"
      ],
      "execution_count": 5,
      "outputs": [
        {
          "output_type": "execute_result",
          "data": {
            "text/plain": [
              "range(0, 10)"
            ]
          },
          "metadata": {
            "tags": []
          },
          "execution_count": 5
        }
      ]
    },
    {
      "cell_type": "code",
      "metadata": {
        "colab": {
          "base_uri": "https://localhost:8080/"
        },
        "id": "t-X0-ko52Spe",
        "outputId": "452c1aa7-16e0-4607-e535-a07741482817"
      },
      "source": [
        "a = range(1, 11)\r\n",
        "a   # 11은 포함되지 않음"
      ],
      "execution_count": 8,
      "outputs": [
        {
          "output_type": "execute_result",
          "data": {
            "text/plain": [
              "range(1, 11)"
            ]
          },
          "metadata": {
            "tags": []
          },
          "execution_count": 8
        }
      ]
    },
    {
      "cell_type": "code",
      "metadata": {
        "colab": {
          "base_uri": "https://localhost:8080/"
        },
        "id": "j1eu0kln2WIR",
        "outputId": "01c9b300-a64c-4a38-e113-c0764e4733c5"
      },
      "source": [
        "add = 0\r\n",
        "for i in range(1, 11) :\r\n",
        "  add = add + i\r\n",
        "\r\n",
        "print(add)"
      ],
      "execution_count": 9,
      "outputs": [
        {
          "output_type": "stream",
          "text": [
            "55\n"
          ],
          "name": "stdout"
        }
      ]
    },
    {
      "cell_type": "code",
      "metadata": {
        "colab": {
          "base_uri": "https://localhost:8080/"
        },
        "id": "xESRNLXs2iT1",
        "outputId": "8f79fa8b-1259-409b-bc1d-719fff33e137"
      },
      "source": [
        "marks = [90, 25, 67, 45, 80]\r\n",
        "for number in range(len(marks)) :\r\n",
        "  if marks[number] < 60 : continue\r\n",
        "  print('%d번 학생 축하합니다. 합격입니다' % (number+1))"
      ],
      "execution_count": 10,
      "outputs": [
        {
          "output_type": "stream",
          "text": [
            "1번 학생 축하합니다. 합격입니다\n",
            "3번 학생 축하합니다. 합격입니다\n",
            "5번 학생 축하합니다. 합격입니다\n"
          ],
          "name": "stdout"
        }
      ]
    },
    {
      "cell_type": "markdown",
      "metadata": {
        "id": "0SUf-Egu20KP"
      },
      "source": [
        "[ 연습 문제 ] : for문과 range 함수를 사용하여 1부터 100까지 더해 보자."
      ]
    },
    {
      "cell_type": "code",
      "metadata": {
        "colab": {
          "base_uri": "https://localhost:8080/"
        },
        "id": "olH3rX502yNE",
        "outputId": "c1c4010c-5b66-4a61-bba3-15c3d46b4d43"
      },
      "source": [
        "number = 0\r\n",
        "for i in range (1, 101) :\r\n",
        "  number = number + i\r\n",
        "\r\n",
        "print(number)"
      ],
      "execution_count": 14,
      "outputs": [
        {
          "output_type": "stream",
          "text": [
            "5050\n"
          ],
          "name": "stdout"
        }
      ]
    },
    {
      "cell_type": "markdown",
      "metadata": {
        "id": "RI1LI1fx3TBG"
      },
      "source": [
        "- for와 range를 사용한 구구단"
      ]
    },
    {
      "cell_type": "code",
      "metadata": {
        "colab": {
          "base_uri": "https://localhost:8080/"
        },
        "id": "G1YJZ7e_3AFc",
        "outputId": "8d4def26-b4b6-48c1-89e2-97b14882fd20"
      },
      "source": [
        "for i in range(2, 10) :   # (1)번 for문\r\n",
        "  for j in range (1, 10) :   # (2)번 for문\r\n",
        "    print(i*j, end = ' ')\r\n",
        "  print('')"
      ],
      "execution_count": 16,
      "outputs": [
        {
          "output_type": "stream",
          "text": [
            "2 4 6 8 10 12 14 16 18 \n",
            "3 6 9 12 15 18 21 24 27 \n",
            "4 8 12 16 20 24 28 32 36 \n",
            "5 10 15 20 25 30 35 40 45 \n",
            "6 12 18 24 30 36 42 48 54 \n",
            "7 14 21 28 35 42 49 56 63 \n",
            "8 16 24 32 40 48 56 64 72 \n",
            "9 18 27 36 45 54 63 72 81 \n"
          ],
          "name": "stdout"
        }
      ]
    },
    {
      "cell_type": "markdown",
      "metadata": {
        "id": "sS_pHRr54NWy"
      },
      "source": [
        "(1)번 for문에서 2부터 9까지의 숫자가 차례로 i에 대입된다. i가 처음 2일 때 (2)번 for문을 만나게 된다. (2)번 for문에서 1부터 9까지의 숫자가 j에 대입되고 그 다음 문장 print(i*j)가 수행된다."
      ]
    },
    {
      "cell_type": "markdown",
      "metadata": {
        "id": "2AFkjS1K4mEo"
      },
      "source": [
        "[ 점프 투 파이썬 ] : 매개변수 end를 넣어 준 이유는 무엇일까?\r\n",
        "- 해당 결괏값을 출력할 때 다음 줄로 넘기지 않고 그 줄에 계속해서 출력하기 위해서이다. 그다음에 이어지는 print('')는 2단, 3단 등을 구분하기 위해 두 번째 for문이 끝나면 결괏값을 다음 줄부터 출력하게 해주는 문장이다."
      ]
    },
    {
      "cell_type": "markdown",
      "metadata": {
        "id": "boaaY9uv42_I"
      },
      "source": [
        "(3) 리스트 내포 사용하기"
      ]
    },
    {
      "cell_type": "code",
      "metadata": {
        "colab": {
          "base_uri": "https://localhost:8080/"
        },
        "id": "GhtRwKAw3ehZ",
        "outputId": "5e76629b-04b7-4f69-fa26-5b798dcbe353"
      },
      "source": [
        "a = [1, 2, 3, 4]\r\n",
        "result = []\r\n",
        "for num in a :\r\n",
        "  result.append(num*3)\r\n",
        "\r\n",
        "print(result)"
      ],
      "execution_count": 18,
      "outputs": [
        {
          "output_type": "stream",
          "text": [
            "[3, 6, 9, 12]\n"
          ],
          "name": "stdout"
        }
      ]
    },
    {
      "cell_type": "code",
      "metadata": {
        "colab": {
          "base_uri": "https://localhost:8080/"
        },
        "id": "VybwwTno5Bs6",
        "outputId": "d56ec17c-4d8a-428a-ab30-ed26f83b4483"
      },
      "source": [
        "a = [1, 2, 3, 4]\r\n",
        "result = [num * 3 for num in a]\r\n",
        "print(result)"
      ],
      "execution_count": 19,
      "outputs": [
        {
          "output_type": "stream",
          "text": [
            "[3, 6, 9, 12]\n"
          ],
          "name": "stdout"
        }
      ]
    },
    {
      "cell_type": "code",
      "metadata": {
        "colab": {
          "base_uri": "https://localhost:8080/"
        },
        "id": "5YBo88J95K0y",
        "outputId": "c545039b-4334-4c60-9135-62fba378988a"
      },
      "source": [
        "a = [1, 2, 3, 4]\r\n",
        "result = [num * 3 for num in a if num % 2 == 0]\r\n",
        "print(result)"
      ],
      "execution_count": 20,
      "outputs": [
        {
          "output_type": "stream",
          "text": [
            "[6, 12]\n"
          ],
          "name": "stdout"
        }
      ]
    },
    {
      "cell_type": "markdown",
      "metadata": {
        "id": "sFLQRjOn5TfL"
      },
      "source": [
        "[표현식 for 항목 in 반복 가능 객체 if 조건]"
      ]
    },
    {
      "cell_type": "code",
      "metadata": {
        "colab": {
          "base_uri": "https://localhost:8080/"
        },
        "id": "JbtCrmHF5RlC",
        "outputId": "6d407a00-251c-4bea-9caf-399d9c768f2b"
      },
      "source": [
        "# 구구단의 모든 결과를 리스트에 담고 싶다면?\r\n",
        "\r\n",
        "result = [x*y for x in range(2,10)\r\n",
        "for y in range(1, 10)]\r\n",
        "\r\n",
        "print(result)\r\n"
      ],
      "execution_count": 21,
      "outputs": [
        {
          "output_type": "stream",
          "text": [
            "[2, 4, 6, 8, 10, 12, 14, 16, 18, 3, 6, 9, 12, 15, 18, 21, 24, 27, 4, 8, 12, 16, 20, 24, 28, 32, 36, 5, 10, 15, 20, 25, 30, 35, 40, 45, 6, 12, 18, 24, 30, 36, 42, 48, 54, 7, 14, 21, 28, 35, 42, 49, 56, 63, 8, 16, 24, 32, 40, 48, 56, 64, 72, 9, 18, 27, 36, 45, 54, 63, 72, 81]\n"
          ],
          "name": "stdout"
        }
      ]
    },
    {
      "cell_type": "code",
      "metadata": {
        "id": "QzecVobu5re_"
      },
      "source": [
        ""
      ],
      "execution_count": null,
      "outputs": []
    }
  ]
}