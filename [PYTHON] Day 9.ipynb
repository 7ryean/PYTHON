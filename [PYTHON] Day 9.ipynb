{
  "nbformat": 4,
  "nbformat_minor": 0,
  "metadata": {
    "colab": {
      "name": "[PYTHON] Day 9.ipynb",
      "provenance": [],
      "collapsed_sections": [],
      "authorship_tag": "ABX9TyMVLymZrKjrwDJThKtL8CHn",
      "include_colab_link": true
    },
    "kernelspec": {
      "name": "python3",
      "display_name": "Python 3"
    }
  },
  "cells": [
    {
      "cell_type": "markdown",
      "metadata": {
        "id": "view-in-github",
        "colab_type": "text"
      },
      "source": [
        "<a href=\"https://colab.research.google.com/github/7ryean/PYTHON/blob/main/%5BPYTHON%5D%20Day%209.ipynb\" target=\"_parent\"><img src=\"https://colab.research.google.com/assets/colab-badge.svg\" alt=\"Open In Colab\"/></a>"
      ]
    },
    {
      "cell_type": "markdown",
      "metadata": {
        "id": "vlP7d2IY4AUh"
      },
      "source": [
        "# **프로그램의 입력과 출력은 어떻게 해야 할까?**"
      ]
    },
    {
      "cell_type": "markdown",
      "metadata": {
        "id": "0sLjDlDs4GKA"
      },
      "source": [
        "# 4-1. 함수"
      ]
    },
    {
      "cell_type": "markdown",
      "metadata": {
        "id": "tFquCZlJ6XOQ"
      },
      "source": [
        "(1) 함수를 사용하는 이유 : 반복되는 부분이 있을 경우 '반복적으로 사용되는 가치 있는 부분'을 한 뭉치로 묶어서 '어떤 입력값을 주었을 때 어떤 결과값을 돌려준다'라는 것을 현명하게 사용할 수 있음. 또한, 프로그램 흐름을 일목요연하게 정리할 수 있음."
      ]
    },
    {
      "cell_type": "markdown",
      "metadata": {
        "id": "mbc91JJ06qFw"
      },
      "source": [
        "(2) 파이썬 함수의 구조 "
      ]
    },
    {
      "cell_type": "code",
      "metadata": {
        "id": "ibBiioAy39dd"
      },
      "source": [
        "def add(a, b) :\r\n",
        "  return a + b"
      ],
      "execution_count": null,
      "outputs": []
    },
    {
      "cell_type": "markdown",
      "metadata": {
        "id": "k-6IlKCJ63cA"
      },
      "source": [
        "이 함수의 이름(함수 이름)은 add이고 입력으로 2개의 값을 받으며 결과값은 2개의 입력값을 더한 값이다."
      ]
    },
    {
      "cell_type": "code",
      "metadata": {
        "colab": {
          "base_uri": "https://localhost:8080/"
        },
        "id": "Q-9b3ISF6_f6",
        "outputId": "0918a484-1f6f-4d1f-f355-b11e4a6c3ee8"
      },
      "source": [
        "def add(a, b) :\r\n",
        "  return a + b\r\n",
        "  \r\n",
        "a = 3\r\n",
        "b = 4\r\n",
        "c = add(a, b)\r\n",
        "print(c)"
      ],
      "execution_count": null,
      "outputs": [
        {
          "output_type": "stream",
          "text": [
            "7\n"
          ],
          "name": "stdout"
        }
      ]
    },
    {
      "cell_type": "markdown",
      "metadata": {
        "id": "8qdbaTwe7Kqy"
      },
      "source": [
        "(3) 매개변수(parameter)와 인수(arguments)"
      ]
    },
    {
      "cell_type": "code",
      "metadata": {
        "id": "VtDnNJro7IN5"
      },
      "source": [
        "# 매개변수\r\n",
        "def add(a, b) :\r\n",
        "  return a + b"
      ],
      "execution_count": null,
      "outputs": []
    },
    {
      "cell_type": "markdown",
      "metadata": {
        "id": "CCN-_Fea7d9Q"
      },
      "source": [
        "'매개변수'는 함수에 입력으로 전달된 값을 받는 변수 / return : 함수의 결괏값을 돌려주는 명령어"
      ]
    },
    {
      "cell_type": "code",
      "metadata": {
        "colab": {
          "base_uri": "https://localhost:8080/"
        },
        "id": "KZNLhxu17ZjD",
        "outputId": "09b30f52-f926-4684-8afb-90a4c83b6933"
      },
      "source": [
        "# 인수\r\n",
        "print(add(3, 4))"
      ],
      "execution_count": null,
      "outputs": [
        {
          "output_type": "stream",
          "text": [
            "7\n"
          ],
          "name": "stdout"
        }
      ]
    },
    {
      "cell_type": "markdown",
      "metadata": {
        "id": "5RPFePuc7jNk"
      },
      "source": [
        "'인수'는 함수를 호출할 때 전달하는 입력값"
      ]
    },
    {
      "cell_type": "markdown",
      "metadata": {
        "id": "8K7I8yIQ7nXK"
      },
      "source": [
        "(4) 입력값과 결괏값에 따른 함수의 형태"
      ]
    },
    {
      "cell_type": "markdown",
      "metadata": {
        "id": "kN8C3PK9BEko"
      },
      "source": [
        "- 일반적인 함수"
      ]
    },
    {
      "cell_type": "code",
      "metadata": {
        "id": "FVHpSddP7ZKi",
        "colab": {
          "base_uri": "https://localhost:8080/"
        },
        "outputId": "96f342c9-1718-4eeb-ac80-68680a4948c6"
      },
      "source": [
        "def add(a, b) :\r\n",
        "  result = a + b\r\n",
        "  return result\r\n",
        "\r\n",
        "a = add(3, 4)\r\n",
        "print(a)"
      ],
      "execution_count": null,
      "outputs": [
        {
          "output_type": "stream",
          "text": [
            "7\n"
          ],
          "name": "stdout"
        }
      ]
    },
    {
      "cell_type": "markdown",
      "metadata": {
        "id": "NDdtK5h5A9tA"
      },
      "source": [
        "결괏값을 받을 변수 = 함수이름(입력인수1, 입력인수2, ...)"
      ]
    },
    {
      "cell_type": "code",
      "metadata": {
        "id": "YaMxMq1IA6_M"
      },
      "source": [
        "- 입력값이 없는 함수"
      ],
      "execution_count": null,
      "outputs": []
    },
    {
      "cell_type": "code",
      "metadata": {
        "id": "ow3CxY_pBJQo"
      },
      "source": [
        "def say() :\r\n",
        "  return 'Hi'"
      ],
      "execution_count": null,
      "outputs": []
    },
    {
      "cell_type": "code",
      "metadata": {
        "colab": {
          "base_uri": "https://localhost:8080/"
        },
        "id": "531ToxywBMZZ",
        "outputId": "5ffc96b9-590a-467c-f368-c18e843439da"
      },
      "source": [
        "a = say()\r\n",
        "print(a)"
      ],
      "execution_count": null,
      "outputs": [
        {
          "output_type": "stream",
          "text": [
            "Hi\n"
          ],
          "name": "stdout"
        }
      ]
    },
    {
      "cell_type": "markdown",
      "metadata": {
        "id": "Q0bhGSX-Cvns"
      },
      "source": [
        "결과값을 받을 변수 = 함수이름()"
      ]
    },
    {
      "cell_type": "markdown",
      "metadata": {
        "id": "3VL8R-JcCy8b"
      },
      "source": [
        "- 결괏값이 없는 함수"
      ]
    },
    {
      "cell_type": "code",
      "metadata": {
        "id": "bBIj9TtcCttG"
      },
      "source": [
        "def add(a, b) :\r\n",
        "  print('%d, %d의 합은 %d입니다.' % (a, b, a+b))"
      ],
      "execution_count": null,
      "outputs": []
    },
    {
      "cell_type": "code",
      "metadata": {
        "colab": {
          "base_uri": "https://localhost:8080/"
        },
        "id": "c6Jx8qR0DVfu",
        "outputId": "f5d05979-5b48-4360-ba06-ef0b190c37f0"
      },
      "source": [
        "add(3, 4)"
      ],
      "execution_count": null,
      "outputs": [
        {
          "output_type": "stream",
          "text": [
            "3, 4의 합은 7입니다.\n"
          ],
          "name": "stdout"
        }
      ]
    },
    {
      "cell_type": "markdown",
      "metadata": {
        "id": "q6Sgl9-UDavl"
      },
      "source": [
        "함수이름(입력인수1, 입력인수2, ...)"
      ]
    },
    {
      "cell_type": "code",
      "metadata": {
        "colab": {
          "base_uri": "https://localhost:8080/"
        },
        "id": "ZlqruwcHDWvl",
        "outputId": "d3979f34-fc1a-4038-e474-e08c05bda68f"
      },
      "source": [
        "a = add(3, 4)\r\n",
        "print(a)"
      ],
      "execution_count": null,
      "outputs": [
        {
          "output_type": "stream",
          "text": [
            "3, 4의 합은 7입니다.\n",
            "None\n"
          ],
          "name": "stdout"
        }
      ]
    },
    {
      "cell_type": "markdown",
      "metadata": {
        "id": "jZU8XUMeDkPh"
      },
      "source": [
        "- 입력값도 결괏값도 없는 함수"
      ]
    },
    {
      "cell_type": "code",
      "metadata": {
        "colab": {
          "base_uri": "https://localhost:8080/"
        },
        "id": "JJ72wDBLDhXT",
        "outputId": "e442deb5-3e2b-4e68-e5a9-734e9340dd52"
      },
      "source": [
        "def say() :\r\n",
        "  print('Hi')\r\n",
        "\r\n",
        "say()"
      ],
      "execution_count": null,
      "outputs": [
        {
          "output_type": "stream",
          "text": [
            "Hi\n"
          ],
          "name": "stdout"
        }
      ]
    },
    {
      "cell_type": "markdown",
      "metadata": {
        "id": "zAG0HR-fDv7S"
      },
      "source": [
        "(5) 매개변수 지정하여 호출하기"
      ]
    },
    {
      "cell_type": "code",
      "metadata": {
        "colab": {
          "base_uri": "https://localhost:8080/"
        },
        "id": "yqrC-Sl8Dq-D",
        "outputId": "bf5f0f71-1737-4341-8bd0-8c1db1fcbc6f"
      },
      "source": [
        "def add(a, b) :\r\n",
        "  return a + b\r\n",
        "\r\n",
        "result = add(a=3, b=7)\r\n",
        "print(result)"
      ],
      "execution_count": null,
      "outputs": [
        {
          "output_type": "stream",
          "text": [
            "10\n"
          ],
          "name": "stdout"
        }
      ]
    },
    {
      "cell_type": "code",
      "metadata": {
        "colab": {
          "base_uri": "https://localhost:8080/"
        },
        "id": "hku4i9OiD6PD",
        "outputId": "be39cec9-f962-443a-9f4e-5b5ddf573450"
      },
      "source": [
        "result = add(b=5, a=3)\r\n",
        "print(result)"
      ],
      "execution_count": null,
      "outputs": [
        {
          "output_type": "stream",
          "text": [
            "8\n"
          ],
          "name": "stdout"
        }
      ]
    },
    {
      "cell_type": "markdown",
      "metadata": {
        "id": "CV2RFWOjEB3l"
      },
      "source": [
        "매개변수를 지정하면 입력변수를 순서와 상관없이 사용할 수 있다는 장점이 있다."
      ]
    },
    {
      "cell_type": "markdown",
      "metadata": {
        "id": "NpUie-SBEHXx"
      },
      "source": [
        "(6) 입력값이 몇 개가 될지 모를 때는 어떻게 해야 할까?"
      ]
    },
    {
      "cell_type": "markdown",
      "metadata": {
        "id": "a4-cGLu3EODx"
      },
      "source": [
        "- 여러 개의 입력값을 받는 함수 만들기"
      ]
    },
    {
      "cell_type": "code",
      "metadata": {
        "id": "WH2y-cXAEAwV"
      },
      "source": [
        "def add_many(*args) :\r\n",
        "  result = 0\r\n",
        "  for i in args :\r\n",
        "    result += i\r\n",
        "  return result"
      ],
      "execution_count": null,
      "outputs": []
    },
    {
      "cell_type": "markdown",
      "metadata": {
        "id": "de0edunbEeez"
      },
      "source": [
        "함수에서 *args처럼 이름 앞에 *를 붙여주면 입력값이 몇 개이든 상관 없이 전부 모아 튜플로 만들어 준다."
      ]
    },
    {
      "cell_type": "code",
      "metadata": {
        "colab": {
          "base_uri": "https://localhost:8080/"
        },
        "id": "zNrGXuHuEsnB",
        "outputId": "e8a156f3-a437-4c4d-b670-94a0ab2f3a93"
      },
      "source": [
        "result = add_many(1, 2, 3)\r\n",
        "print(result)"
      ],
      "execution_count": null,
      "outputs": [
        {
          "output_type": "stream",
          "text": [
            "6\n"
          ],
          "name": "stdout"
        }
      ]
    },
    {
      "cell_type": "code",
      "metadata": {
        "colab": {
          "base_uri": "https://localhost:8080/"
        },
        "id": "43_Bgq4ZExKk",
        "outputId": "2359578e-35ea-4767-947b-2468a6ada0c1"
      },
      "source": [
        "result = add_many(1, 2, 3, 4, 5, 6, 7, 8, 9, 10)\r\n",
        "print(result)"
      ],
      "execution_count": null,
      "outputs": [
        {
          "output_type": "stream",
          "text": [
            "55\n"
          ],
          "name": "stdout"
        }
      ]
    },
    {
      "cell_type": "code",
      "metadata": {
        "id": "8Eef8__mE38T"
      },
      "source": [
        "def add_mul(choice, *args) :\r\n",
        "  if choice == 'add' :\r\n",
        "    result = 0\r\n",
        "    for i in args :\r\n",
        "      result = result + i\r\n",
        "  elif choice == \"mul\" :\r\n",
        "    result = 1\r\n",
        "    for i in args :\r\n",
        "      result = result * i\r\n",
        "  return result"
      ],
      "execution_count": null,
      "outputs": []
    },
    {
      "cell_type": "code",
      "metadata": {
        "colab": {
          "base_uri": "https://localhost:8080/"
        },
        "id": "XZxXXsBCHtgS",
        "outputId": "ed82afa1-257b-46de-9a51-ff57c5725b5e"
      },
      "source": [
        "result = add_mul('add', 1, 2, 3, 4, 5)\r\n",
        "print(result)"
      ],
      "execution_count": null,
      "outputs": [
        {
          "output_type": "stream",
          "text": [
            "15\n"
          ],
          "name": "stdout"
        }
      ]
    },
    {
      "cell_type": "code",
      "metadata": {
        "colab": {
          "base_uri": "https://localhost:8080/"
        },
        "id": "x4qmRy4NHxtC",
        "outputId": "d63196ff-0b9b-4e04-e543-301f11853b43"
      },
      "source": [
        "result = add_mul('mul', 1, 2, 3, 4, 5)\r\n",
        "print(result)"
      ],
      "execution_count": null,
      "outputs": [
        {
          "output_type": "stream",
          "text": [
            "120\n"
          ],
          "name": "stdout"
        }
      ]
    },
    {
      "cell_type": "markdown",
      "metadata": {
        "id": "m-zzK53QH98S"
      },
      "source": [
        "[ 점프 투 파이썬 ] : 키워드 파라미터"
      ]
    },
    {
      "cell_type": "code",
      "metadata": {
        "id": "X31UO2n0H6aG"
      },
      "source": [
        "def print_kwargs(**kwargs) :\r\n",
        "  print(kwargs)"
      ],
      "execution_count": null,
      "outputs": []
    },
    {
      "cell_type": "code",
      "metadata": {
        "colab": {
          "base_uri": "https://localhost:8080/"
        },
        "id": "qmKi-zfsIGfz",
        "outputId": "8a1b00fe-2de6-4df0-cdd5-b053def7c36b"
      },
      "source": [
        "print_kwargs(a=1)"
      ],
      "execution_count": null,
      "outputs": [
        {
          "output_type": "stream",
          "text": [
            "{'a': 1}\n"
          ],
          "name": "stdout"
        }
      ]
    },
    {
      "cell_type": "code",
      "metadata": {
        "colab": {
          "base_uri": "https://localhost:8080/"
        },
        "id": "UFL3-tLwII7y",
        "outputId": "a835602e-9467-4cfa-eb23-6a0919ad9e85"
      },
      "source": [
        "print_kwargs(name='foo', age=3)"
      ],
      "execution_count": null,
      "outputs": [
        {
          "output_type": "stream",
          "text": [
            "{'name': 'foo', 'age': 3}\n"
          ],
          "name": "stdout"
        }
      ]
    },
    {
      "cell_type": "markdown",
      "metadata": {
        "id": "Q_iCEt75IUO9"
      },
      "source": [
        "키워드 파라미터를 사용할 때는 매개변수 앞에 별 두 개(**)를 붙인다. 이름 앞에 별 두 개를 붙이면 매개변수는 딕셔너리가 되고 모든 key = value 형태의 결괏값이 딕셔너리에 저장된다."
      ]
    },
    {
      "cell_type": "markdown",
      "metadata": {
        "id": "Vxd1DXwcInHj"
      },
      "source": [
        "(7) 함수의 결괏값은 언제나 하나이다"
      ]
    },
    {
      "cell_type": "code",
      "metadata": {
        "id": "WDDRHnVWIRu2"
      },
      "source": [
        "def add_and_mul(a, b) :\r\n",
        "  return a+b, a*b"
      ],
      "execution_count": null,
      "outputs": []
    },
    {
      "cell_type": "code",
      "metadata": {
        "id": "_tz8HxKaIuHF"
      },
      "source": [
        "result = add_and_mul(3, 4)\r\n"
      ],
      "execution_count": null,
      "outputs": []
    },
    {
      "cell_type": "code",
      "metadata": {
        "colab": {
          "base_uri": "https://localhost:8080/"
        },
        "id": "BAi5SfPrIyRk",
        "outputId": "48b8b01c-aa5f-409a-db83-eaf9791f2a73"
      },
      "source": [
        "print(result)"
      ],
      "execution_count": null,
      "outputs": [
        {
          "output_type": "stream",
          "text": [
            "(7, 12)\n"
          ],
          "name": "stdout"
        }
      ]
    },
    {
      "cell_type": "markdown",
      "metadata": {
        "id": "w6KSFJiWgfgG"
      },
      "source": [
        "각각의 결괏값을 하나의 튜플이 아닌, 각 값으로 얻고 싶을 때 사용하는 방법"
      ]
    },
    {
      "cell_type": "code",
      "metadata": {
        "id": "09l0bNthI0OD"
      },
      "source": [
        "a = result1, result2 = add_and_mul(3, 4)"
      ],
      "execution_count": null,
      "outputs": []
    },
    {
      "cell_type": "code",
      "metadata": {
        "colab": {
          "base_uri": "https://localhost:8080/"
        },
        "id": "v2bmTWWEI6NI",
        "outputId": "dd1b830a-9699-4b4b-8164-176824a89deb"
      },
      "source": [
        "print(a)"
      ],
      "execution_count": null,
      "outputs": [
        {
          "output_type": "stream",
          "text": [
            "(7, 12)\n"
          ],
          "name": "stdout"
        }
      ]
    },
    {
      "cell_type": "code",
      "metadata": {
        "colab": {
          "base_uri": "https://localhost:8080/"
        },
        "id": "g53Mc99kgQi5",
        "outputId": "59939d64-dbed-4d78-8cda-e6a23d229219"
      },
      "source": [
        "print(result1)\r\n",
        "print(result2)"
      ],
      "execution_count": null,
      "outputs": [
        {
          "output_type": "stream",
          "text": [
            "7\n",
            "12\n"
          ],
          "name": "stdout"
        }
      ]
    },
    {
      "cell_type": "code",
      "metadata": {
        "colab": {
          "base_uri": "https://localhost:8080/"
        },
        "id": "hcIfNpcWgX_3",
        "outputId": "2318bad8-f6a2-408c-b78e-5ab4179d6257"
      },
      "source": [
        "def add_and_mul(a, b) :\r\n",
        "  return a+b\r\n",
        "  return a*bin\r\n",
        "  \r\n",
        "result = add_and_mul(2, 3)\r\n",
        "print(result)"
      ],
      "execution_count": null,
      "outputs": [
        {
          "output_type": "stream",
          "text": [
            "5\n"
          ],
          "name": "stdout"
        }
      ]
    },
    {
      "cell_type": "markdown",
      "metadata": {
        "id": "7a4KZclugyEL"
      },
      "source": [
        "[ 점프 투 파이썬 ] return의 또 다른 쓰임새"
      ]
    },
    {
      "cell_type": "code",
      "metadata": {
        "colab": {
          "base_uri": "https://localhost:8080/"
        },
        "id": "JiB7DC8EgwIK",
        "outputId": "fa333e51-ffee-4f1e-c3f3-768e19c7d012"
      },
      "source": [
        "def say_nick(nick) :\r\n",
        "  if nick == '바보' :\r\n",
        "    return\r\n",
        "  print(\"나의 별명은 %s입니다.\" % nick)\r\n",
        "\r\n",
        "say_nick('야호')"
      ],
      "execution_count": null,
      "outputs": [
        {
          "output_type": "stream",
          "text": [
            "나의 별명은 야호입니다.\n"
          ],
          "name": "stdout"
        }
      ]
    },
    {
      "cell_type": "code",
      "metadata": {
        "id": "KibDS9tEhGBB"
      },
      "source": [
        "say_nick('바보')"
      ],
      "execution_count": null,
      "outputs": []
    },
    {
      "cell_type": "markdown",
      "metadata": {
        "id": "pzZvuBtMhRG3"
      },
      "source": [
        "특별한 상황일 때 함수를 빠져나가고 싶다면 return을 단독으로 써서 함수를 즉시 빠져나갈 수 있다. 이 함수는 반환 값(결괏값)은 없고 문자열 출력만 존재한다. 함수의 반환 값은 오로지 return을 통해서만 생성된다. 만약에 입력값으로 '바보'라는 값이 들어오면 문자열을 출력하지 않고 함수를 즉시 빠져나간다."
      ]
    },
    {
      "cell_type": "markdown",
      "metadata": {
        "id": "37MM4qpmh7nB"
      },
      "source": [
        "(8) 매개변수에 초깃값 미리 설정하기"
      ]
    },
    {
      "cell_type": "code",
      "metadata": {
        "id": "VnNFqZv_jvDG"
      },
      "source": [
        "def say_myself(name, old, man=True) :\r\n",
        "  print(\"나의 이름은 %s입니다.\" % name)\r\n",
        "  print(\"나이는 %d살 입니다.\" % old)\r\n",
        "  if man :\r\n",
        "    print(\"남자입니다.\")\r\n",
        "  else :\r\n",
        "    print(\"여자입니다.\")"
      ],
      "execution_count": 10,
      "outputs": []
    },
    {
      "cell_type": "code",
      "metadata": {
        "colab": {
          "base_uri": "https://localhost:8080/"
        },
        "id": "HKw-I4MAlFRW",
        "outputId": "09cb8b0a-a466-49c7-effe-e405aea57b41"
      },
      "source": [
        "say_myself(\"박응용\", 27)\r\n",
        "say_myself(\"박응용\", 27, True)"
      ],
      "execution_count": 11,
      "outputs": [
        {
          "output_type": "stream",
          "text": [
            "나의 이름은 박응용입니다.\n",
            "나이는 27살 입니다.\n",
            "남자입니다.\n",
            "나의 이름은 박응용입니다.\n",
            "나이는 27살 입니다.\n",
            "남자입니다.\n"
          ],
          "name": "stdout"
        }
      ]
    },
    {
      "cell_type": "code",
      "metadata": {
        "colab": {
          "base_uri": "https://localhost:8080/"
        },
        "id": "j9KDYmXGlPLO",
        "outputId": "a3d82467-ef51-4d43-d26f-6437f70da1fe"
      },
      "source": [
        "say_myself(\"박응선\", 27, False)"
      ],
      "execution_count": 12,
      "outputs": [
        {
          "output_type": "stream",
          "text": [
            "나의 이름은 박응선입니다.\n",
            "나이는 27살 입니다.\n",
            "여자입니다.\n"
          ],
          "name": "stdout"
        }
      ]
    },
    {
      "cell_type": "markdown",
      "metadata": {
        "id": "xj_0mxsglcyw"
      },
      "source": [
        "초깃값을 설정해 놓은 매개변수 뒤에 초깃값을 설정해 놓지 않은 매개변수는 사용할 수 없다. 초기화하고 싶은 매개변수를 항상 뒤쪽에 놓아야 한다. "
      ]
    },
    {
      "cell_type": "markdown",
      "metadata": {
        "id": "k98ctj8XiBM_"
      },
      "source": [
        "(9) 함수 안에서 선언한 변수의 효력 범위"
      ]
    },
    {
      "cell_type": "code",
      "metadata": {
        "colab": {
          "base_uri": "https://localhost:8080/"
        },
        "id": "7JC18e7ollbe",
        "outputId": "374d0aab-e10e-4c40-ec80-4144c0f75510"
      },
      "source": [
        "a = 1\r\n",
        "def vartest(a) :\r\n",
        "  a += 1\r\n",
        "\r\n",
        "vartest(a)\r\n",
        "print(a)"
      ],
      "execution_count": 13,
      "outputs": [
        {
          "output_type": "stream",
          "text": [
            "1\n"
          ],
          "name": "stdout"
        }
      ]
    },
    {
      "cell_type": "markdown",
      "metadata": {
        "id": "e18WkjXTl3Su"
      },
      "source": [
        "함수 안에서 사용하는 매개변수는 함수 밖의 변수 이름과는 전혀 상관이 없다."
      ]
    },
    {
      "cell_type": "code",
      "metadata": {
        "colab": {
          "base_uri": "https://localhost:8080/"
        },
        "id": "gs7sejm3l87W",
        "outputId": "1e716398-57e9-405f-8750-5210c2b75263"
      },
      "source": [
        "# vartest error\r\n",
        "def vartest(a) :\r\n",
        "  a += 1\r\n",
        "\r\n",
        "vartest(3)\r\n",
        "print(a)   # 이 코드는 print에서 받아야할 a가 존재하지 않는다. 함수 안에서 선언한 매개변수는 함수 안에서만 사용될 뿐 함수 밖에서는 사용되지 않는다."
      ],
      "execution_count": 14,
      "outputs": [
        {
          "output_type": "stream",
          "text": [
            "1\n"
          ],
          "name": "stdout"
        }
      ]
    },
    {
      "cell_type": "markdown",
      "metadata": {
        "id": "AovCZMkZmk07"
      },
      "source": [
        "- 함수 안에서 함수 밖의 변수를 변경하는 방법"
      ]
    },
    {
      "cell_type": "code",
      "metadata": {
        "colab": {
          "base_uri": "https://localhost:8080/"
        },
        "id": "0p1rjbc1mtNf",
        "outputId": "f0dd5229-3856-49d3-ceb5-2588cc17194f"
      },
      "source": [
        "a = 1\r\n",
        "def vartest(a) :\r\n",
        "  a += 1\r\n",
        "  return a\r\n",
        "\r\n",
        "a = vartest(a)\r\n",
        "print(a)"
      ],
      "execution_count": 15,
      "outputs": [
        {
          "output_type": "stream",
          "text": [
            "2\n"
          ],
          "name": "stdout"
        }
      ]
    },
    {
      "cell_type": "markdown",
      "metadata": {
        "id": "kG6hi2SXiE0f"
      },
      "source": [
        "(10) lambda"
      ]
    },
    {
      "cell_type": "markdown",
      "metadata": {
        "id": "VlZR5o4km8RC"
      },
      "source": [
        "lambda : 함수를 생성할 때 사용하는 예약어로 def와 동일한 역할을 한다. 보통 함수를 한 줄로 간결하게 만들 때 사용한다."
      ]
    },
    {
      "cell_type": "markdown",
      "metadata": {
        "id": "wtT0qyTunC7-"
      },
      "source": [
        "lambda 매개변수1, 매개변수2, ... : 매개변수를 사용한 표현식"
      ]
    },
    {
      "cell_type": "code",
      "metadata": {
        "id": "RlbrlpsJhHvc",
        "colab": {
          "base_uri": "https://localhost:8080/"
        },
        "outputId": "262ca45e-92bd-45cc-8f9f-4780b21ce5d0"
      },
      "source": [
        "add = lambda a, b : a+b\r\n",
        "result = add(3, 4)\r\n",
        "print(result)"
      ],
      "execution_count": 16,
      "outputs": [
        {
          "output_type": "stream",
          "text": [
            "7\n"
          ],
          "name": "stdout"
        }
      ]
    },
    {
      "cell_type": "code",
      "metadata": {
        "colab": {
          "base_uri": "https://localhost:8080/"
        },
        "id": "kKK4_wKqnU5n",
        "outputId": "5fd2295f-adb3-4cc5-ea45-082450acbcf6"
      },
      "source": [
        "def add(a, b) :\r\n",
        "  return a + b\r\n",
        "\r\n",
        "result = add(3, 4)\r\n",
        "print(result)"
      ],
      "execution_count": 17,
      "outputs": [
        {
          "output_type": "stream",
          "text": [
            "7\n"
          ],
          "name": "stdout"
        }
      ]
    },
    {
      "cell_type": "code",
      "metadata": {
        "id": "vzz6fFq8ncIG"
      },
      "source": [
        ""
      ],
      "execution_count": null,
      "outputs": []
    }
  ]
}