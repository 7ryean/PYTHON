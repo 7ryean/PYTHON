{
  "nbformat": 4,
  "nbformat_minor": 0,
  "metadata": {
    "colab": {
      "name": "[PYTHON] Day 4.ipynb",
      "provenance": [],
      "collapsed_sections": [],
      "authorship_tag": "ABX9TyMq8f1F+W7X6HLkYsFc8tIN",
      "include_colab_link": true
    },
    "kernelspec": {
      "name": "python3",
      "display_name": "Python 3"
    }
  },
  "cells": [
    {
      "cell_type": "markdown",
      "metadata": {
        "id": "view-in-github",
        "colab_type": "text"
      },
      "source": [
        "<a href=\"https://colab.research.google.com/github/7ryean/PYTHON/blob/main/%5BPYTHON%5DDay%204.ipynb\" target=\"_parent\"><img src=\"https://colab.research.google.com/assets/colab-badge.svg\" alt=\"Open In Colab\"/></a>"
      ]
    },
    {
      "cell_type": "markdown",
      "metadata": {
        "id": "5U-NQYnECqdr"
      },
      "source": [
        "# **연습문제**"
      ]
    },
    {
      "cell_type": "markdown",
      "metadata": {
        "id": "R8LnRSESCmJO"
      },
      "source": [
        "1. 홍길동씨의 과목 별 평균 점수를 구해라."
      ]
    },
    {
      "cell_type": "code",
      "metadata": {
        "colab": {
          "base_uri": "https://localhost:8080/"
        },
        "id": "H6J7fJvuB03q",
        "outputId": "4b97c6c3-4bcb-4f68-c91e-d6fd3e7c7b86"
      },
      "source": [
        "(80 + 75 + 55) / 3"
      ],
      "execution_count": 38,
      "outputs": [
        {
          "output_type": "execute_result",
          "data": {
            "text/plain": [
              "70.0"
            ]
          },
          "metadata": {
            "tags": []
          },
          "execution_count": 38
        }
      ]
    },
    {
      "cell_type": "markdown",
      "metadata": {
        "id": "aPGiaT5HCuby"
      },
      "source": [
        "2. 자연수 13이 홀수인지 짝수인지 판별할 수 있는 방법에 대해 말해 보자."
      ]
    },
    {
      "cell_type": "code",
      "metadata": {
        "colab": {
          "base_uri": "https://localhost:8080/"
        },
        "id": "B8VJPZMjB9L6",
        "outputId": "058ff8c5-9f72-46a2-890d-924909534ec2"
      },
      "source": [
        "13 % 2"
      ],
      "execution_count": 12,
      "outputs": [
        {
          "output_type": "execute_result",
          "data": {
            "text/plain": [
              "1"
            ]
          },
          "metadata": {
            "tags": []
          },
          "execution_count": 12
        }
      ]
    },
    {
      "cell_type": "code",
      "metadata": {
        "colab": {
          "base_uri": "https://localhost:8080/"
        },
        "id": "eUc381YJCJOw",
        "outputId": "783726de-fd37-43c9-b885-b42e97389469"
      },
      "source": [
        "a = 13 % 2\r\n",
        "if a == 1 :\r\n",
        "  print('홀수')\r\n",
        "else :\r\n",
        "  print('짝수')"
      ],
      "execution_count": 15,
      "outputs": [
        {
          "output_type": "stream",
          "text": [
            "홀수\n"
          ],
          "name": "stdout"
        }
      ]
    },
    {
      "cell_type": "markdown",
      "metadata": {
        "id": "yhZ5KJk8CzMJ"
      },
      "source": [
        "3. 홍길동씨의 주민등록번호는 881120-1068234이다. 홍길동씨의 주민등록번호를 연월일(YYYYMMDD) 부분과 그 뒤의 숫자 부분으로 나누어 출력해보자."
      ]
    },
    {
      "cell_type": "code",
      "metadata": {
        "id": "1Ip806RYCiOd"
      },
      "source": [
        "pin = '881120-1068234'"
      ],
      "execution_count": 16,
      "outputs": []
    },
    {
      "cell_type": "code",
      "metadata": {
        "colab": {
          "base_uri": "https://localhost:8080/"
        },
        "id": "vGv7uUFTDJCi",
        "outputId": "a3ca6e63-2b5b-46fb-df14-3c902bc114dc"
      },
      "source": [
        "yyyymmdd = pin[0:6]\r\n",
        "num = pin[7:]\r\n",
        "\r\n",
        "print(yyyymmdd)\r\n",
        "print(num)"
      ],
      "execution_count": 17,
      "outputs": [
        {
          "output_type": "stream",
          "text": [
            "881120\n",
            "1068234\n"
          ],
          "name": "stdout"
        }
      ]
    },
    {
      "cell_type": "markdown",
      "metadata": {
        "id": "sZP5_4p7DYeD"
      },
      "source": [
        "4. 주민등록번호 뒷자리의 맨 첫 번째 숫자는 성별을 나타낸다. 주민등록번호에서 성별을 나타내는 숫자를 출력해보자."
      ]
    },
    {
      "cell_type": "code",
      "metadata": {
        "colab": {
          "base_uri": "https://localhost:8080/"
        },
        "id": "it82EmgNDWeL",
        "outputId": "b864c04a-2546-422e-fe1b-e26215b08606"
      },
      "source": [
        "print(pin[7])"
      ],
      "execution_count": 18,
      "outputs": [
        {
          "output_type": "stream",
          "text": [
            "1\n"
          ],
          "name": "stdout"
        }
      ]
    },
    {
      "cell_type": "markdown",
      "metadata": {
        "id": "NKmRHkkODhWT"
      },
      "source": [
        "5. 다음과 같은 문자열 a:b:c:d가 있다. 문자열의 replace 함수를 사용하여 a#b#c#d로 바꿔서 출력해보자."
      ]
    },
    {
      "cell_type": "code",
      "metadata": {
        "colab": {
          "base_uri": "https://localhost:8080/"
        },
        "id": "U0b96fUZDgXb",
        "outputId": "8590169b-06d9-40f0-a778-536a69b6efa8"
      },
      "source": [
        "a = 'a:b:c:d'\r\n",
        "b = a.replace(':','#')\r\n",
        "print(b)"
      ],
      "execution_count": 20,
      "outputs": [
        {
          "output_type": "stream",
          "text": [
            "a#b#c#d\n"
          ],
          "name": "stdout"
        }
      ]
    },
    {
      "cell_type": "markdown",
      "metadata": {
        "id": "y8wjQr1BD4jC"
      },
      "source": [
        "6. [1, 3, 5, 4, 2] 리스트를 [5, 4, 3, 2, 1]로 만들어 보자."
      ]
    },
    {
      "cell_type": "code",
      "metadata": {
        "colab": {
          "base_uri": "https://localhost:8080/"
        },
        "id": "jprNV5eSDzwq",
        "outputId": "ac6ff842-a9bb-4256-c4ca-308097fcce3a"
      },
      "source": [
        "a = [1, 3, 5, 4, 2]\r\n",
        "a.sort(reverse = True)\r\n",
        "print(a)"
      ],
      "execution_count": 22,
      "outputs": [
        {
          "output_type": "stream",
          "text": [
            "[5, 4, 3, 2, 1]\n"
          ],
          "name": "stdout"
        }
      ]
    },
    {
      "cell_type": "markdown",
      "metadata": {
        "id": "_MuaiPwBEVX6"
      },
      "source": [
        "7. ['Life', 'is', 'too', 'short'] 리스트를 Life is too short 문자열로 만들어 출력해보자."
      ]
    },
    {
      "cell_type": "code",
      "metadata": {
        "colab": {
          "base_uri": "https://localhost:8080/",
          "height": 208
        },
        "id": "m9KReFckERAr",
        "outputId": "00411546-73a3-46d1-bcaf-3d5b15952bcf"
      },
      "source": [
        "a = ['Life', 'is', 'too', 'short']\r\n",
        "result = a.join( )\r\n",
        "print(result)"
      ],
      "execution_count": 27,
      "outputs": [
        {
          "output_type": "error",
          "ename": "AttributeError",
          "evalue": "ignored",
          "traceback": [
            "\u001b[0;31m---------------------------------------------------------------------------\u001b[0m",
            "\u001b[0;31mAttributeError\u001b[0m                            Traceback (most recent call last)",
            "\u001b[0;32m<ipython-input-27-7c644b97d0ee>\u001b[0m in \u001b[0;36m<module>\u001b[0;34m()\u001b[0m\n\u001b[1;32m      1\u001b[0m \u001b[0ma\u001b[0m \u001b[0;34m=\u001b[0m \u001b[0;34m[\u001b[0m\u001b[0;34m'Life'\u001b[0m\u001b[0;34m,\u001b[0m \u001b[0;34m'is'\u001b[0m\u001b[0;34m,\u001b[0m \u001b[0;34m'too'\u001b[0m\u001b[0;34m,\u001b[0m \u001b[0;34m'short'\u001b[0m\u001b[0;34m]\u001b[0m\u001b[0;34m\u001b[0m\u001b[0;34m\u001b[0m\u001b[0m\n\u001b[0;32m----> 2\u001b[0;31m \u001b[0mresult\u001b[0m \u001b[0;34m=\u001b[0m \u001b[0ma\u001b[0m\u001b[0;34m.\u001b[0m\u001b[0mjoin\u001b[0m\u001b[0;34m(\u001b[0m \u001b[0;34m)\u001b[0m\u001b[0;34m\u001b[0m\u001b[0;34m\u001b[0m\u001b[0m\n\u001b[0m\u001b[1;32m      3\u001b[0m \u001b[0mprint\u001b[0m\u001b[0;34m(\u001b[0m\u001b[0mresult\u001b[0m\u001b[0;34m)\u001b[0m\u001b[0;34m\u001b[0m\u001b[0;34m\u001b[0m\u001b[0m\n",
            "\u001b[0;31mAttributeError\u001b[0m: 'list' object has no attribute 'join'"
          ]
        }
      ]
    },
    {
      "cell_type": "code",
      "metadata": {
        "colab": {
          "base_uri": "https://localhost:8080/"
        },
        "id": "Y8S9r1IrI2L8",
        "outputId": "06137d9a-4b95-4657-a10a-99966fd09ee0"
      },
      "source": [
        "# 해답, a 리스트의 각 단어들을 한 문장으로 조립할 때 단어 사이마다 공백을 넣어주어야 하기 때문에 \" \" 공백문자를 사용해 join 해야 한다.\r\n",
        "a = ['Life', 'is', 'too', 'short']\r\n",
        "result = \" \".join(a)\r\n",
        "print(result)"
      ],
      "execution_count": 39,
      "outputs": [
        {
          "output_type": "stream",
          "text": [
            "Life is too short\n"
          ],
          "name": "stdout"
        }
      ]
    },
    {
      "cell_type": "markdown",
      "metadata": {
        "id": "IgJcB2ilFB87"
      },
      "source": [
        "8. (1, 2, 3) 튜플에 값 4를 추가하여 (1, 2, 3, 4)를 만들어 출력해 보자."
      ]
    },
    {
      "cell_type": "code",
      "metadata": {
        "colab": {
          "base_uri": "https://localhost:8080/"
        },
        "id": "cLYz4wrwEm9q",
        "outputId": "5dfe021d-58e4-45dc-8e99-365ca03671f2"
      },
      "source": [
        "a = (1, 2, 3)\r\n",
        "a = a + (4,)\r\n",
        "print(a)   # 단, 이때 만들어지는 a + (4,)의 결과는 a 값이 변경되는 것이 아니라(튜플은 값을 변경하는 것이 불가능) 새로운 튜플이 생성되고 그 값이 a 변수에 대입되는 것이다."
      ],
      "execution_count": 30,
      "outputs": [
        {
          "output_type": "stream",
          "text": [
            "(1, 2, 3, 4)\n"
          ],
          "name": "stdout"
        }
      ]
    },
    {
      "cell_type": "markdown",
      "metadata": {
        "id": "K8yrRVhdFPnC"
      },
      "source": [
        "9. 다음과 같은 딕셔너리 a가 있다. 오류가 발생하는 경우와 그 이유를 설명해보자.\r\n",
        "> a = dict()\r\n",
        "\r\n",
        "\r\n",
        "\r\n"
      ]
    },
    {
      "cell_type": "code",
      "metadata": {
        "id": "L7U3blQhFKUK"
      },
      "source": [
        "# 3번. a[[1]] = 'python'. 딕셔너리의 키값에는 리스트가 들어갈 수 없다."
      ],
      "execution_count": null,
      "outputs": []
    },
    {
      "cell_type": "markdown",
      "metadata": {
        "id": "FQMdkl7jF-dF"
      },
      "source": [
        "10. 딕셔너리 a에서 'B'에 해당하는 값을 추출해보자."
      ]
    },
    {
      "cell_type": "code",
      "metadata": {
        "colab": {
          "base_uri": "https://localhost:8080/"
        },
        "id": "sqOWr5RRGCq6",
        "outputId": "b41f1d46-cede-4a79-e98c-28f5e6cf5b53"
      },
      "source": [
        "a = {'A' : 90, 'B' : 80, 'C' : 70}\r\n",
        "result = a['B']\r\n",
        "print(a)\r\n",
        "print(result)"
      ],
      "execution_count": 31,
      "outputs": [
        {
          "output_type": "stream",
          "text": [
            "{'A': 90, 'B': 80, 'C': 70}\n",
            "80\n"
          ],
          "name": "stdout"
        }
      ]
    },
    {
      "cell_type": "code",
      "metadata": {
        "colab": {
          "base_uri": "https://localhost:8080/"
        },
        "id": "WmCa_IRDJX0r",
        "outputId": "b3ce5646-3add-4273-bf15-ec709e010c21"
      },
      "source": [
        "# 해답, 추출해낸다는 명제에 조심하자. 값을 반환하거나 보는 것이 아니라 추출(빼내는 것)이다.\r\n",
        "a = {'A' : 90, 'B' : 80, 'C' : 70}\r\n",
        "result = a.pop('B')\r\n",
        "print(a)\r\n",
        "print(result)"
      ],
      "execution_count": 40,
      "outputs": [
        {
          "output_type": "stream",
          "text": [
            "{'A': 90, 'C': 70}\n",
            "80\n"
          ],
          "name": "stdout"
        }
      ]
    },
    {
      "cell_type": "markdown",
      "metadata": {
        "id": "xbc5GKIdGPXa"
      },
      "source": [
        "11. a 리스트에서 중복 숫자를 제거해보자."
      ]
    },
    {
      "cell_type": "code",
      "metadata": {
        "colab": {
          "base_uri": "https://localhost:8080/"
        },
        "id": "p5fVfEF0GNu8",
        "outputId": "2fac0159-1345-4ab5-a5c4-4a2ff96e4aea"
      },
      "source": [
        "a = [1, 1, 1, 2, 2, 3, 3, 3, 4, 4, 5]\r\n",
        "aSet = set(a)\r\n",
        "b = list(aSet)\r\n",
        "print(b)   # 집합 자료형의 요솟값이 중복될 수 없다는 특징을 사용한 것"
      ],
      "execution_count": 34,
      "outputs": [
        {
          "output_type": "stream",
          "text": [
            "[1, 2, 3, 4, 5]\n"
          ],
          "name": "stdout"
        }
      ]
    },
    {
      "cell_type": "markdown",
      "metadata": {
        "id": "QqaqhbsfGmn-"
      },
      "source": [
        "12. 파이썬은 다음처럼 동일한 값에 여러 개의 변수를 선언할 수 있다. 다음과 같이 a, b 변수를 선언한 후 a의 두 번째 요솟값을 변경하면 b 값은 어떻게 될까? 그리고 이런 결과가 나오는 이유에 대해 설명해 보자. "
      ]
    },
    {
      "cell_type": "code",
      "metadata": {
        "colab": {
          "base_uri": "https://localhost:8080/"
        },
        "id": "lH8Y2OphGeIA",
        "outputId": "96784605-59dc-41a7-a935-c92267659ac4"
      },
      "source": [
        "a = b = [1, 2, 3]\r\n",
        "a[1] = 4\r\n",
        "print(a)\r\n",
        "print(b)"
      ],
      "execution_count": 35,
      "outputs": [
        {
          "output_type": "stream",
          "text": [
            "[1, 4, 3]\n",
            "[1, 4, 3]\n"
          ],
          "name": "stdout"
        }
      ]
    },
    {
      "cell_type": "code",
      "metadata": {
        "colab": {
          "base_uri": "https://localhost:8080/"
        },
        "id": "OyYOLu77IPht",
        "outputId": "110c9405-7bd9-453f-c9a2-649d2d7fc870"
      },
      "source": [
        "print(id(a))\r\n",
        "print(id(b))"
      ],
      "execution_count": 36,
      "outputs": [
        {
          "output_type": "stream",
          "text": [
            "139950702515720\n",
            "139950702515720\n"
          ],
          "name": "stdout"
        }
      ]
    },
    {
      "cell_type": "code",
      "metadata": {
        "id": "seSGzr88IVtb"
      },
      "source": [
        "# 같은 값이 나온다. a와 b는 저장위치가 같은, 복사본이 아닌 똑같은 리스트이기 때문이다."
      ],
      "execution_count": null,
      "outputs": []
    }
  ]
}